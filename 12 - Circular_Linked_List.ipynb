{
  "nbformat": 4,
  "nbformat_minor": 0,
  "metadata": {
    "colab": {
      "provenance": [],
      "authorship_tag": "ABX9TyMZ8JPhJqh8IE9BP8+4sOXx",
      "include_colab_link": true
    },
    "kernelspec": {
      "name": "python3",
      "display_name": "Python 3"
    },
    "language_info": {
      "name": "python"
    }
  },
  "cells": [
    {
      "cell_type": "markdown",
      "metadata": {
        "id": "view-in-github",
        "colab_type": "text"
      },
      "source": [
        "<a href=\"https://colab.research.google.com/github/Thrishankkuntimaddi/Data-Structures-and-Algorithms-Basics-/blob/main/12%20-%20Circular_Linked_List.ipynb\" target=\"_parent\"><img src=\"https://colab.research.google.com/assets/colab-badge.svg\" alt=\"Open In Colab\"/></a>"
      ]
    },
    {
      "cell_type": "markdown",
      "source": [
        "# Circular Linked List\n",
        "\n",
        "10 --> 5 --> 20 --> 15 --> goes to first element"
      ],
      "metadata": {
        "id": "vYeHzfuk2_4Y"
      }
    },
    {
      "cell_type": "code",
      "execution_count": null,
      "metadata": {
        "colab": {
          "base_uri": "https://localhost:8080/"
        },
        "id": "5M12gTPt27jW",
        "outputId": "55fb59ad-9d5b-4b21-e10e-4db346a66ebe"
      },
      "outputs": [
        {
          "output_type": "stream",
          "name": "stdout",
          "text": [
            "10\n",
            "5\n",
            "20\n",
            "15\n"
          ]
        }
      ],
      "source": [
        "class Node:\n",
        "    def __init__(self, data):\n",
        "        self.data = data\n",
        "        self.next = None\n",
        "\n",
        "head = Node(10)\n",
        "head.next = Node(5)\n",
        "head.next.next = Node(20)\n",
        "head.next.next.next = Node(15)\n",
        "head.next.next.next.next = head\n",
        "\n",
        "temp = head\n",
        "while temp.next != head:\n",
        "    print(temp.data)\n",
        "    temp = temp.next\n",
        "print(temp.data)"
      ]
    },
    {
      "cell_type": "markdown",
      "source": [
        "# Advantages\n",
        "\n",
        "1. We can traverse the whole list from any node\n",
        "\n",
        "2. Implementation of Algorithms like Round Robin\n",
        "\n",
        "3. We can insert at the beginning and end by just maintaining one tail reference/pointer\n",
        "\n",
        "# Disadvantages\n",
        "\n",
        "1. Implementation of operations becomes complex\n",
        "\n"
      ],
      "metadata": {
        "id": "ZsWIlwT13o5R"
      }
    },
    {
      "cell_type": "markdown",
      "source": [
        "# Traversing"
      ],
      "metadata": {
        "id": "hhx3Hf5s4IEC"
      }
    },
    {
      "cell_type": "code",
      "source": [
        "# Implementation\n",
        "\n",
        "def printCircular(head):\n",
        "  if head == None:\n",
        "    return\n",
        "\n",
        "  print(head.data, end = \" \")\n",
        "  curr = head.next\n",
        "  while curr != head:\n",
        "    print(curr.data, end=\" \")\n",
        "    curr = curr.next\n",
        "\n",
        "head = Node(10)\n",
        "head.next = Node(5)\n",
        "head.next.next = Node(20)\n",
        "head.next.next.next = Node(15)\n",
        "head.next.next.next.next = head\n",
        "\n",
        "printCircular(head)\n"
      ],
      "metadata": {
        "colab": {
          "base_uri": "https://localhost:8080/"
        },
        "id": "9xhHwNFB3k9s",
        "outputId": "2b7c93c0-e506-41fe-b4fd-a79af7243005"
      },
      "execution_count": null,
      "outputs": [
        {
          "output_type": "stream",
          "name": "stdout",
          "text": [
            "10 5 20 15 "
          ]
        }
      ]
    },
    {
      "cell_type": "markdown",
      "source": [
        "# Insert at beginning"
      ],
      "metadata": {
        "id": "kP-lpc6z4zPU"
      }
    },
    {
      "cell_type": "code",
      "source": [
        "# Method 1 (Linear Time)\n",
        "\n",
        "def insertBag(head, x):\n",
        "  temp = Node(x)\n",
        "  if head == None:\n",
        "    temp.next = temp\n",
        "    return temp\n",
        "  curr = head\n",
        "  while curr.next != head:\n",
        "    curr = curr.next\n",
        "  curr.next = temp\n",
        "  temp.next = head\n",
        "  return temp\n",
        "\n",
        "head = insertBag(head, 25)\n",
        "printCircular(head)"
      ],
      "metadata": {
        "colab": {
          "base_uri": "https://localhost:8080/"
        },
        "id": "RtNmze984OSw",
        "outputId": "1249566a-04bf-4b37-dedb-8cc67825287f"
      },
      "execution_count": null,
      "outputs": [
        {
          "output_type": "stream",
          "name": "stdout",
          "text": [
            "25 10 5 20 15 "
          ]
        }
      ]
    },
    {
      "cell_type": "code",
      "source": [
        "# Method 2 (Constant Time)\n",
        "\n",
        "def insertBag(head, x):\n",
        "  temp = Node(x)\n",
        "  if head == None:\n",
        "    temp.next = temp\n",
        "    return temp\n",
        "  temp.next = head.next\n",
        "  head.next = temp\n",
        "  head.data, temp.data = temp.data, head.data\n",
        "  return head\n",
        "\n",
        "head = insertBag(head, 30)\n",
        "printCircular(head)"
      ],
      "metadata": {
        "colab": {
          "base_uri": "https://localhost:8080/"
        },
        "id": "j0wXgR_i46UO",
        "outputId": "681bee45-9978-4206-c48d-07412136efd7"
      },
      "execution_count": null,
      "outputs": [
        {
          "output_type": "stream",
          "name": "stdout",
          "text": [
            "30 25 10 5 20 15 "
          ]
        }
      ]
    },
    {
      "cell_type": "markdown",
      "source": [
        "# Insert at End"
      ],
      "metadata": {
        "id": "gXfQZwXy5WF4"
      }
    },
    {
      "cell_type": "code",
      "source": [
        "# Naive Solution\n",
        "\n",
        "def insertEnd(head, x):\n",
        "  temp = Node(x)\n",
        "  if head == None:\n",
        "    temp.next = temp\n",
        "    return temp\n",
        "  curr = head\n",
        "  while curr.next != head:\n",
        "    curr = curr.next\n",
        "  curr.next = temp\n",
        "  temp.next = head\n",
        "  return head\n",
        "\n",
        "head = insertEnd(head, 35)\n",
        "printCircular(head)"
      ],
      "metadata": {
        "colab": {
          "base_uri": "https://localhost:8080/"
        },
        "id": "zCqP7HVG5Lkh",
        "outputId": "795c6411-c2ff-4e69-f59c-fe3184337b74"
      },
      "execution_count": null,
      "outputs": [
        {
          "output_type": "stream",
          "name": "stdout",
          "text": [
            "30 25 10 5 20 15 35 "
          ]
        }
      ]
    },
    {
      "cell_type": "code",
      "source": [
        "# Efficient Solution\n",
        "\n",
        "def insertEnd(head, x):\n",
        "  temp = Node(x)\n",
        "  if head == None:\n",
        "    temp.next = temp\n",
        "    return temp\n",
        "  temp.next = head.next\n",
        "  head.next = temp\n",
        "  head.data, temp.data = temp.data, head.data\n",
        "  return temp\n",
        "\n",
        "head = insertEnd(head, 40)\n",
        "printCircular(head)"
      ],
      "metadata": {
        "colab": {
          "base_uri": "https://localhost:8080/"
        },
        "id": "VNIWriez5qxA",
        "outputId": "fd10eb37-c0e2-4663-dc56-1b5d53986665"
      },
      "execution_count": null,
      "outputs": [
        {
          "output_type": "stream",
          "name": "stdout",
          "text": [
            "30 25 10 5 20 15 35 40 "
          ]
        }
      ]
    },
    {
      "cell_type": "markdown",
      "source": [
        "# Delete head"
      ],
      "metadata": {
        "id": "t8mgDddZ6BdQ"
      }
    },
    {
      "cell_type": "code",
      "source": [
        "# Naive Solution\n",
        "\n",
        "def delHead(head):\n",
        "  if head == None:\n",
        "    return None\n",
        "  elif head.next == head:\n",
        "    return None\n",
        "  curr = head\n",
        "  while curr.next != head:\n",
        "    curr = curr.next\n",
        "\n",
        "  curr.next = head.next\n",
        "  return curr.next\n",
        "\n",
        "head = delHead(head)\n",
        "printCircular(head)"
      ],
      "metadata": {
        "colab": {
          "base_uri": "https://localhost:8080/"
        },
        "id": "a_Xa1bj852HU",
        "outputId": "7574cdf7-1c10-4415-87b5-3e831eda9edb"
      },
      "execution_count": null,
      "outputs": [
        {
          "output_type": "stream",
          "name": "stdout",
          "text": [
            "25 10 5 20 15 35 40 "
          ]
        }
      ]
    },
    {
      "cell_type": "code",
      "source": [
        "# Efficient Solution\n",
        "\n",
        "def delHead(head):\n",
        "  if head == None:\n",
        "    return None\n",
        "  elif head.next == head:\n",
        "    return None\n",
        "  head.data = head.next.data\n",
        "  head.next = head.next.next\n",
        "  return head\n",
        "\n",
        "head = delHead(head)\n",
        "printCircular(head)"
      ],
      "metadata": {
        "colab": {
          "base_uri": "https://localhost:8080/"
        },
        "id": "3LuAbt7G6vQv",
        "outputId": "155d71e5-464d-4bdb-b2fd-1a45e00849c7"
      },
      "execution_count": null,
      "outputs": [
        {
          "output_type": "stream",
          "name": "stdout",
          "text": [
            "10 5 20 15 35 40 "
          ]
        }
      ]
    },
    {
      "cell_type": "markdown",
      "source": [
        "# Delete kth Node"
      ],
      "metadata": {
        "id": "VymUC8tP65-8"
      }
    },
    {
      "cell_type": "code",
      "source": [
        "def delkthNode(head, k):\n",
        "  if head == None:\n",
        "    return None\n",
        "\n",
        "  elif k == 1:\n",
        "    return delHead(head)\n",
        "\n",
        "  curr = head\n",
        "  for i in range(1, k-2):\n",
        "    curr = curr.next\n",
        "  curr.next = curr.next.next\n",
        "  return head\n",
        "\n",
        "head = delkthNode(head, 2)\n",
        "printCircular(head)"
      ],
      "metadata": {
        "colab": {
          "base_uri": "https://localhost:8080/"
        },
        "id": "oO53GD_R6y7u",
        "outputId": "7ce20d17-2f76-45a4-f5b4-09d0f8a4706e"
      },
      "execution_count": null,
      "outputs": [
        {
          "output_type": "stream",
          "name": "stdout",
          "text": [
            "15 40 "
          ]
        }
      ]
    }
  ]
}