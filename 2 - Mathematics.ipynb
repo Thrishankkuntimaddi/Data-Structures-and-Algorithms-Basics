{
  "nbformat": 4,
  "nbformat_minor": 0,
  "metadata": {
    "colab": {
      "provenance": [],
      "authorship_tag": "ABX9TyODm4fzMfjAqZvJmBYGAiQj",
      "include_colab_link": true
    },
    "kernelspec": {
      "name": "python3",
      "display_name": "Python 3"
    },
    "language_info": {
      "name": "python"
    }
  },
  "cells": [
    {
      "cell_type": "markdown",
      "metadata": {
        "id": "view-in-github",
        "colab_type": "text"
      },
      "source": [
        "<a href=\"https://colab.research.google.com/github/Thrishankkuntimaddi/Data-Structures-and-Algorithms-Basics-/blob/main/2%20-%20Mathematics.ipynb\" target=\"_parent\"><img src=\"https://colab.research.google.com/assets/colab-badge.svg\" alt=\"Open In Colab\"/></a>"
      ]
    },
    {
      "cell_type": "markdown",
      "source": [
        "# Sum of Natural Numbers\n",
        "\n",
        "Input  : 5\n",
        "\n",
        "Output : 15\n",
        "\n",
        "Explanation : 1 + 2 + 3 + 4 + 5 = 15"
      ],
      "metadata": {
        "id": "qLVMCO6eqzof"
      }
    },
    {
      "cell_type": "code",
      "execution_count": null,
      "metadata": {
        "colab": {
          "base_uri": "https://localhost:8080/"
        },
        "id": "v1kusqJjqmiD",
        "outputId": "ca4b4323-52a1-4324-c2a3-bf12be7afa79"
      },
      "outputs": [
        {
          "output_type": "stream",
          "name": "stdout",
          "text": [
            "15\n"
          ]
        }
      ],
      "source": [
        "# simple solution\n",
        "\n",
        "def findSum(n) :\n",
        "\tsum = 0\n",
        "\tx = 1\n",
        "\twhile x <=n :\n",
        "\t\tsum = sum + x\n",
        "\t\tx = x + 1\n",
        "\treturn sum\n",
        "\n",
        "# Driver code\n",
        "n = 5\n",
        "print(findSum(n))\n",
        "\n",
        "# Time  : O(n)\n",
        "# Space : O(1)"
      ]
    },
    {
      "cell_type": "code",
      "source": [
        "# Efficient Solution\n",
        "def findSum(n) :\n",
        "\treturn n * (n + 1) / 2\n",
        "\n",
        "# Driver code\n",
        "n = 50\n",
        "print(findSum(n))\n",
        "\n",
        "# Time  : O(1)\n",
        "# Space : O(1)"
      ],
      "metadata": {
        "colab": {
          "base_uri": "https://localhost:8080/"
        },
        "id": "AAcDwC3jrIka",
        "outputId": "164a2126-f649-4d7d-f025-2b9c27a1638e"
      },
      "execution_count": null,
      "outputs": [
        {
          "output_type": "stream",
          "name": "stdout",
          "text": [
            "1275.0\n"
          ]
        }
      ]
    },
    {
      "cell_type": "code",
      "source": [
        "# To find the sum of first n natural numbers that avoid overflow if the result is going to be within limits.\n",
        "\n",
        "# Returns sum of first n natural numbers\n",
        "def findSum(n) :\n",
        "\tif (n % 2 == 0) :\n",
        "\t\treturn (n / 2) * (n + 1)\n",
        "\n",
        "# If n is odd, (n+1) must be even\n",
        "\telse :\n",
        "\t  return ((n + 1) / 2) * n\n",
        "\n",
        "# Driver code\n",
        "n = 51\n",
        "print(findSum(n))\n"
      ],
      "metadata": {
        "colab": {
          "base_uri": "https://localhost:8080/"
        },
        "id": "HAufUXXzrf_F",
        "outputId": "495bd99c-41a6-40cc-d498-da99589d5f3e"
      },
      "execution_count": null,
      "outputs": [
        {
          "output_type": "stream",
          "name": "stdout",
          "text": [
            "1326.0\n"
          ]
        }
      ]
    },
    {
      "cell_type": "markdown",
      "source": [
        "# Count Digits\n",
        "\n",
        "Input: 256\n",
        "Output: 3\n",
        "\n",
        "Input: 75\n",
        "Output: 2\n",
        "\n",
        "Input: 5\n",
        "Output: 1\n"
      ],
      "metadata": {
        "id": "eUwOTV-etZkd"
      }
    },
    {
      "cell_type": "code",
      "source": [
        "re = 0; x = 9253\n",
        "while x > 0:\n",
        "  re = re + 1\n",
        "  x = x // 10\n",
        "print(re)"
      ],
      "metadata": {
        "id": "XgzG6erprrpc",
        "colab": {
          "base_uri": "https://localhost:8080/"
        },
        "outputId": "e442ce4c-3a6f-4f55-b546-b042ef0b4bc2"
      },
      "execution_count": null,
      "outputs": [
        {
          "output_type": "stream",
          "name": "stdout",
          "text": [
            "4\n"
          ]
        }
      ]
    },
    {
      "cell_type": "markdown",
      "source": [
        "# Palindrome Number\n",
        "\n",
        "I/P = 78987\n",
        "\n",
        "O/P = 78987"
      ],
      "metadata": {
        "id": "IKCYT6NIbuuV"
      }
    },
    {
      "cell_type": "code",
      "source": [
        "def ispal(n):\n",
        "  rev = 0\n",
        "  x = n\n",
        "  while x != 0:\n",
        "    rev = rev * 10 + x % 10\n",
        "    x = x // 10\n",
        "  return rev == n, x\n",
        "\n",
        "print(ispal(12321))\n",
        "print(ispal(42322))\n",
        "\n",
        "# Time Complexity : Theta(n)\n",
        "# Aux Space : O(1)"
      ],
      "metadata": {
        "colab": {
          "base_uri": "https://localhost:8080/"
        },
        "id": "iSgOAMvWbZ0E",
        "outputId": "ec716200-2d35-4419-c301-83f2b7a7f7c1"
      },
      "execution_count": null,
      "outputs": [
        {
          "output_type": "stream",
          "name": "stdout",
          "text": [
            "(True, 0)\n",
            "(False, 0)\n"
          ]
        }
      ]
    },
    {
      "cell_type": "markdown",
      "source": [
        "# Factorial Number\n",
        "\n",
        "I/P = 3\n",
        "\n",
        "O/P = 6\n",
        "\n",
        "3! = 3 * 2 * 1"
      ],
      "metadata": {
        "id": "Rd9lDnv9c-hi"
      }
    },
    {
      "cell_type": "code",
      "source": [
        "# Recursive Approach\n",
        "\n",
        "def func(n):\n",
        "  if n == 0:\n",
        "    return 1\n",
        "  return (n*func(n-1))\n",
        "\n",
        "print(func(3))\n",
        "\n",
        "# Time Complexity : O(n)\n",
        "# Aux Space : O(1)"
      ],
      "metadata": {
        "colab": {
          "base_uri": "https://localhost:8080/"
        },
        "id": "10Ct3hzDcsdC",
        "outputId": "15d519ae-8409-46f2-ce04-92ecfd148904"
      },
      "execution_count": null,
      "outputs": [
        {
          "output_type": "stream",
          "name": "stdout",
          "text": [
            "6\n"
          ]
        }
      ]
    },
    {
      "cell_type": "code",
      "source": [
        "# Iterative Approach\n",
        "\n",
        "def fact(n):\n",
        "  if n < 0:\n",
        "    return 0\n",
        "\n",
        "  elif n == 0 or n == 1:\n",
        "    return 1\n",
        "\n",
        "  else:\n",
        "    fact = 1\n",
        "    while n > 1:\n",
        "      fact *= n\n",
        "      n -= 1\n",
        "    return fact\n",
        "\n",
        "print(fact(3))\n",
        "\n",
        "# Time Complexity : O(n)\n",
        "# Aux Space : O(n)"
      ],
      "metadata": {
        "colab": {
          "base_uri": "https://localhost:8080/"
        },
        "id": "5Q1Hcq6ndLqL",
        "outputId": "57110d9a-39da-4ff6-fd79-cb44a9fd2c71"
      },
      "execution_count": null,
      "outputs": [
        {
          "output_type": "stream",
          "name": "stdout",
          "text": [
            "6\n"
          ]
        }
      ]
    },
    {
      "cell_type": "markdown",
      "source": [
        "# Trailing Zeros in Factorial\n",
        "\n",
        "we given a number. The task is to find the Number of Trailing Zeros in the factorial of the Number\n",
        "\n",
        "Trailing Zeros are the Zeros, which appear at the end of a number\n",
        "\n",
        "I/P : 50\n",
        "\n",
        "O/P : 1  // 5! = 5 * 4 * 3 * 2 * 1"
      ],
      "metadata": {
        "id": "bFzjZjrtd1DE"
      }
    },
    {
      "cell_type": "code",
      "source": [
        "def find(n):\n",
        "  if n < 0:\n",
        "    return -1\n",
        "\n",
        "  count = 0\n",
        "  i = 5\n",
        "  while n // i >= 1:\n",
        "    count += n // i\n",
        "    i *= 5\n",
        "\n",
        "  return count\n",
        "\n",
        "print(find(100))\n",
        "\n",
        "# Time Complexity : O(log_5 n)\n",
        "# Aux Space : O(1)\n"
      ],
      "metadata": {
        "colab": {
          "base_uri": "https://localhost:8080/"
        },
        "id": "w4LRF-t4eP8r",
        "outputId": "ab90fc2c-966d-43ca-9a49-16b87684fade"
      },
      "execution_count": null,
      "outputs": [
        {
          "output_type": "stream",
          "name": "stdout",
          "text": [
            "24\n"
          ]
        }
      ]
    },
    {
      "cell_type": "markdown",
      "source": [
        "# GCD or HCF of two Numbers\n",
        "\n",
        "GCD : Greatest Common Divisor\n",
        "HCF : Highest Common Factor\n",
        "\n",
        "It is largest number that divides both of them\n",
        "\n",
        "I/P : a = 20; b = 28\n",
        "O/P : 4\n",
        "\n",
        "Factors\n",
        "20 : 1,2,4,5,10,20\n",
        "28 : 1,2,3,4,7,14,28\n",
        "\n",
        "Among all greatest factors we have 4 is common"
      ],
      "metadata": {
        "id": "TlM2O8ojfNeO"
      }
    },
    {
      "cell_type": "code",
      "source": [
        "# Naive Approach\n",
        "\n",
        "def  find(a,b):\n",
        "  result = min(a,b)\n",
        "\n",
        "  while result > 0:\n",
        "    if a % result == 0 and b % result == 0:\n",
        "      break\n",
        "    result -= 1\n",
        "  return result\n",
        "\n",
        "print(find(20,28))\n",
        "\n",
        "# Time Complexity : O(min(a,b))\n",
        "# Aux Space : O(1)"
      ],
      "metadata": {
        "colab": {
          "base_uri": "https://localhost:8080/"
        },
        "id": "eNi8wcdAfDX8",
        "outputId": "acdd5e44-7b10-4503-bb86-926f509587fb"
      },
      "execution_count": null,
      "outputs": [
        {
          "output_type": "stream",
          "name": "stdout",
          "text": [
            "4\n"
          ]
        }
      ]
    },
    {
      "cell_type": "code",
      "source": [
        "# Euclidean Approach : Recursive Approach\n",
        "\n",
        "def find(a,b):\n",
        "  if b == 0:\n",
        "    return a\n",
        "  return find(b,a % b)\n",
        "\n",
        "print(find(20,28))\n",
        "\n",
        "# Time Complexity : O(log(min(a,b)))\n",
        "# Aux Space : O(log(min(a,b)))"
      ],
      "metadata": {
        "colab": {
          "base_uri": "https://localhost:8080/"
        },
        "id": "t4JcmiSogMcB",
        "outputId": "52080cf9-b54a-46fc-b2ae-455938970157"
      },
      "execution_count": null,
      "outputs": [
        {
          "output_type": "stream",
          "name": "stdout",
          "text": [
            "4\n"
          ]
        }
      ]
    },
    {
      "cell_type": "code",
      "source": [
        "# Optimised Euclidean Approach : Iterative Approach\n",
        "\n",
        "def find(a,b):\n",
        "  while a != b:\n",
        "    if a > b:\n",
        "      a = a - b\n",
        "    else:\n",
        "      b = b - a\n",
        "  return a\n",
        "\n",
        "print(find(20,28))\n",
        "\n",
        "# Time Complexity : O(log(min(a,b)))\n",
        "# Aux Space : O(1)"
      ],
      "metadata": {
        "colab": {
          "base_uri": "https://localhost:8080/"
        },
        "id": "NPNZp679grHC",
        "outputId": "73dcd1aa-4e66-4e78-8e87-db0106d59f4a"
      },
      "execution_count": null,
      "outputs": [
        {
          "output_type": "stream",
          "name": "stdout",
          "text": [
            "4\n"
          ]
        }
      ]
    },
    {
      "cell_type": "markdown",
      "source": [
        "# LCM of two number\n",
        "\n",
        "LCM : Least Common Multiple\n",
        "  It is the smallest numner that can be divided by both Numbers.\n",
        "\n",
        "I/P : a = 15; b = 20\n",
        "\n",
        "O/P : 60"
      ],
      "metadata": {
        "id": "xuRqBtlNhWnb"
      }
    },
    {
      "cell_type": "code",
      "source": [
        "# Naive Approach\n",
        "\n",
        "def LCM(a,b):\n",
        "  res = max(a,b)\n",
        "\n",
        "  while True:\n",
        "    if res % a == 0 and res % b == 0:\n",
        "      return res\n",
        "    res += 1\n",
        "\n",
        "print(LCM(15,20))\n",
        "\n",
        "# Time Complexity : O(a*b - max(a,b))\n",
        "# Aux Space : O(1)"
      ],
      "metadata": {
        "colab": {
          "base_uri": "https://localhost:8080/"
        },
        "id": "-6mNej1Eg2Tv",
        "outputId": "c8972074-c1b7-4069-fc79-e41a9501e2dd"
      },
      "execution_count": null,
      "outputs": [
        {
          "output_type": "stream",
          "name": "stdout",
          "text": [
            "60\n"
          ]
        }
      ]
    },
    {
      "cell_type": "code",
      "source": [
        "# Efficient Solution\n",
        "\n",
        "def GCD(a,b):\n",
        "  if b == 0:\n",
        "    return a\n",
        "  return GCD(b,a % b)\n",
        "\n",
        "def LCM(a,b):\n",
        "  return abs(a * b) / GCD(a,b)\n",
        "\n",
        "print(LCM(15,20))\n",
        "\n",
        "# Time Complexity : O(log(min(a,b)))\n",
        "# Aux Space : O(log(min(a,b))"
      ],
      "metadata": {
        "colab": {
          "base_uri": "https://localhost:8080/"
        },
        "id": "7AfEBZT5h6cf",
        "outputId": "83624783-5492-4e9d-eb60-351a88c9c2eb"
      },
      "execution_count": null,
      "outputs": [
        {
          "output_type": "stream",
          "name": "stdout",
          "text": [
            "60.0\n"
          ]
        }
      ]
    },
    {
      "cell_type": "markdown",
      "source": [
        "# Check for Prime\n",
        "\n",
        "I/P : 11\n",
        "\n",
        "O/P : True"
      ],
      "metadata": {
        "id": "fj4HEYm6ihkI"
      }
    },
    {
      "cell_type": "code",
      "source": [
        "# Naive Approach\n",
        "\n",
        "def prime(a):\n",
        "  if a == 1:\n",
        "    return False\n",
        "  for i in range(2,a):\n",
        "    if a % i == 0:\n",
        "      return False\n",
        "  return True\n",
        "\n",
        "print(prime(11))\n",
        "\n",
        "# Time Complexity : O(n)\n",
        "# Aux Space : O(1)"
      ],
      "metadata": {
        "colab": {
          "base_uri": "https://localhost:8080/"
        },
        "id": "QPqum9UvidN8",
        "outputId": "a8768f5d-7a2e-4dd8-a49c-283382e3f4b6"
      },
      "execution_count": null,
      "outputs": [
        {
          "output_type": "stream",
          "name": "stdout",
          "text": [
            "True\n"
          ]
        }
      ]
    },
    {
      "cell_type": "code",
      "source": [
        "# Efficient Approach\n",
        "\n",
        "def prime(a):\n",
        "  if a <= 1:\n",
        "    return False\n",
        "  if a <= 3:\n",
        "    return True\n",
        "  if a % 2 == 0 or a % 3 == 0:\n",
        "    return False\n",
        "  i = 5\n",
        "  while i * i <= a:\n",
        "    if a % i == 0 or a % (i + 2) == 0:\n",
        "      return False\n",
        "    i = i + 6\n",
        "  return True\n",
        "\n",
        "print(prime(10))\n",
        "\n",
        "# Time Complexity : O(sqrt(n))\n",
        "# Aux Space : O(1)"
      ],
      "metadata": {
        "colab": {
          "base_uri": "https://localhost:8080/"
        },
        "id": "mMbWd84RjBTG",
        "outputId": "06f38da4-11cd-4c58-bacc-2b2e53bf4d6c"
      },
      "execution_count": null,
      "outputs": [
        {
          "output_type": "stream",
          "name": "stdout",
          "text": [
            "False\n"
          ]
        }
      ]
    },
    {
      "cell_type": "code",
      "source": [
        "# Super Efficient\n",
        "\n",
        "def prime(n):\n",
        "  if n == 1:\n",
        "    return False\n",
        "\n",
        "  if n == 2 or n == 3:\n",
        "    return True\n",
        "\n",
        "  if n % 2 == 0 or n % 3 == 0:\n",
        "    return False\n",
        "\n",
        "  i = 5\n",
        "  while i * i <= n:\n",
        "    if n % i == 0 or n % (i + 2) == 0:\n",
        "      return False\n",
        "    i = i + 6\n",
        "  return True\n",
        "\n",
        "print(prime(11))\n",
        "\n",
        "# Time Complexity : O(sqrt(n))\n",
        "# Aux Space : O(1)"
      ],
      "metadata": {
        "colab": {
          "base_uri": "https://localhost:8080/"
        },
        "id": "Rrek7xTrjWTa",
        "outputId": "1a4d0110-b91b-44db-ebd2-32119fad17ff"
      },
      "execution_count": null,
      "outputs": [
        {
          "output_type": "stream",
          "name": "stdout",
          "text": [
            "True\n"
          ]
        }
      ]
    },
    {
      "cell_type": "markdown",
      "source": [
        "# Prime Factorization\n",
        "\n",
        "Prime factorization is finding which prime numbers multiply together to create the original number. It involves breaking down a number into its prime number components.\n",
        "\n",
        "100 : 2^2 * 5^2\n",
        "\n",
        "I/P : 100\n",
        "\n",
        "O/P : 2 2 5 5"
      ],
      "metadata": {
        "id": "8wcYmFvEj501"
      }
    },
    {
      "cell_type": "code",
      "source": [
        "def is_prime(num):\n",
        "    if num <= 1:\n",
        "        return False\n",
        "    for i in range(2, int(num**0.5) + 1):\n",
        "        if num % i == 0:\n",
        "            return False\n",
        "    return True\n",
        "\n",
        "def prime_factors(n):\n",
        "    for i in range(2, n + 1):\n",
        "        if is_prime(i):\n",
        "            while n % i == 0:\n",
        "                print(i, end=' ')\n",
        "                n //= i\n",
        "\n",
        "number = int(input(\"Enter a number: \"))\n",
        "print(\"Prime factors of\", number, \"are:\", end=' ')\n",
        "prime_factors(number)\n",
        "\n",
        "# Time Complexity : O(sqrt(n))\n",
        "# Aux Space : O(1)"
      ],
      "metadata": {
        "colab": {
          "base_uri": "https://localhost:8080/"
        },
        "id": "ACENM3zQjx8L",
        "outputId": "ae2f38b0-40c9-4405-929c-e320877843b8"
      },
      "execution_count": null,
      "outputs": [
        {
          "output_type": "stream",
          "name": "stdout",
          "text": [
            "Enter a number: 11\n",
            "Prime factors of 11 are: 11 "
          ]
        }
      ]
    },
    {
      "cell_type": "markdown",
      "source": [
        "# All Divisors of a Number\n",
        "\n",
        "Given a natural number n, print all distinct divisors of it.\n",
        "\n",
        "I/P : n = 10\n",
        "\n",
        "O/P : 1 2 5 10"
      ],
      "metadata": {
        "id": "YtZDAiT3lyta"
      }
    },
    {
      "cell_type": "code",
      "source": [
        "# Naive Solution\n",
        "\n",
        "def Div(n):\n",
        "  for i in range(1,n+1):\n",
        "    if n % i == 0:\n",
        "      print(i, end = ' ')\n",
        "\n",
        "Div(10)\n",
        "\n",
        "# Time Complexity : O(n)\n",
        "# Aux Space : O(1)"
      ],
      "metadata": {
        "colab": {
          "base_uri": "https://localhost:8080/"
        },
        "id": "XKQTzosgk9cP",
        "outputId": "431795de-ef3a-43d8-f823-5df002761ded"
      },
      "execution_count": null,
      "outputs": [
        {
          "output_type": "stream",
          "name": "stdout",
          "text": [
            "1 2 5 10 "
          ]
        }
      ]
    },
    {
      "cell_type": "code",
      "source": [
        "# Better than Naive Solution : Unsorted Way\n",
        "\n",
        "import math\n",
        "\n",
        "def Div(n):\n",
        "  i = 1\n",
        "  while i <= math.sqrt(n):\n",
        "    if n % i == 0:\n",
        "      if n // i == i:\n",
        "        print(i,end=' ')\n",
        "      else:\n",
        "        print(i,n//i,end=' ')\n",
        "    i += 1\n",
        "\n",
        "Div(100)\n",
        "\n",
        "# Time Complexity : O(sqrt(n))\n",
        "# Aux Space : O(1)"
      ],
      "metadata": {
        "colab": {
          "base_uri": "https://localhost:8080/"
        },
        "id": "z9q0WEIEme8R",
        "outputId": "6c936a83-5b10-4c25-a31a-4db20c4eca85"
      },
      "execution_count": null,
      "outputs": [
        {
          "output_type": "stream",
          "name": "stdout",
          "text": [
            "1 100 2 50 4 25 5 20 10 "
          ]
        }
      ]
    },
    {
      "cell_type": "code",
      "source": [
        "# Better than Naive Solution : Sorted Way\n",
        "\n",
        "def print1(n):\n",
        "  i = 1\n",
        "  while i*i < n:\n",
        "    if n % i == 0:\n",
        "      print(i, end=' ')\n",
        "    i += 1\n",
        "  while i >= 1:\n",
        "    if n % i == 0:\n",
        "      print(n//i, end=' ')\n",
        "    i -= 1\n",
        "\n",
        "print1(100)"
      ],
      "metadata": {
        "colab": {
          "base_uri": "https://localhost:8080/"
        },
        "id": "Oh-B4RNKpXi-",
        "outputId": "968cddb9-dcbd-4c75-847d-2feb78cc0d86"
      },
      "execution_count": null,
      "outputs": [
        {
          "output_type": "stream",
          "name": "stdout",
          "text": [
            "1 2 4 5 10 20 25 50 100 "
          ]
        }
      ]
    },
    {
      "cell_type": "markdown",
      "source": [
        "# Sieve of Eratosthenes\n",
        "\n",
        "It is about to find all the prime numbers less than or equal to a given number.\n",
        "\n",
        "I/P : n = 10\n",
        "\n",
        "O/P : 2 3 5 7\n",
        "\n",
        "Naive Solution: Try dividing with all the number s\n",
        "\n",
        "Efficient Solution:\n",
        "\n",
        "- Divisors always appear in pairs.\n",
        "- One of the divisors in every pair is smaller than or equal to sqrt(n).\n",
        "- Print all divisors but not necessarily in order.\n"
      ],
      "metadata": {
        "id": "9u0PJBCqm6r9"
      }
    },
    {
      "cell_type": "code",
      "source": [
        "# Naive Solution\n",
        "\n",
        "def pr(n):\n",
        "  for i in range(2, n+1):\n",
        "    if prime(i):\n",
        "      print(i, end = ' ')\n",
        "\n",
        "print(pr(7))\n",
        "\n",
        "# Time Complexity : O(n * sqrt(n))\n",
        "# Aux Space : Theta(1)"
      ],
      "metadata": {
        "colab": {
          "base_uri": "https://localhost:8080/"
        },
        "id": "shZe-zdhmmz-",
        "outputId": "49485340-50f5-4047-c4bf-302b549a5ed5"
      },
      "execution_count": null,
      "outputs": [
        {
          "output_type": "stream",
          "name": "stdout",
          "text": [
            "2 3 5 7 None\n"
          ]
        }
      ]
    },
    {
      "cell_type": "code",
      "source": [
        "# Efficient Approach\n",
        "\n",
        "def seive(n):\n",
        "  if n <= 1:\n",
        "    return\n",
        "  isprime = [True] * (n+1)\n",
        "  i = 2\n",
        "  while i * i <= n:\n",
        "    if isprime[i] == True:\n",
        "      for j in range(i * i, n+1, i):\n",
        "        isprime[j] = False\n",
        "\n",
        "    i += 1\n",
        "  for i in range(2,n+1):\n",
        "    if isprime[i]:\n",
        "      print(i, end = ' ')\n",
        "\n",
        "seive(50)"
      ],
      "metadata": {
        "colab": {
          "base_uri": "https://localhost:8080/"
        },
        "id": "4PfQZSInoVZ7",
        "outputId": "446c4cf8-d885-4f0b-d979-3618d0b5b166"
      },
      "execution_count": null,
      "outputs": [
        {
          "output_type": "stream",
          "name": "stdout",
          "text": [
            "2 3 5 7 11 13 17 19 23 29 31 37 41 43 47 "
          ]
        }
      ]
    },
    {
      "cell_type": "markdown",
      "source": [
        "# Computing Power\n",
        "\n",
        "I/P : x = 2, n = 3\n",
        "\n",
        "O/P : 8"
      ],
      "metadata": {
        "id": "ngecVQA6rGRp"
      }
    },
    {
      "cell_type": "code",
      "source": [
        "# Naive Approach\n",
        "\n",
        "def power(x,n):\n",
        "  pow = 1\n",
        "\n",
        "  for _ in range(n):\n",
        "    pow *= x\n",
        "  return pow\n",
        "\n",
        "print(power(2,3))\n",
        "\n",
        "# Time Complexity : O(n)\n",
        "# Aux Space : O(1)"
      ],
      "metadata": {
        "colab": {
          "base_uri": "https://localhost:8080/"
        },
        "id": "Poy6mLvWqay2",
        "outputId": "cbe9abb5-d425-4056-930d-388b7f83d0bd"
      },
      "execution_count": null,
      "outputs": [
        {
          "output_type": "stream",
          "name": "stdout",
          "text": [
            "8\n"
          ]
        }
      ]
    },
    {
      "cell_type": "code",
      "source": [
        "# Efficient Approach\n",
        "\n",
        "def power(x,y):\n",
        "  temp = 0\n",
        "  if y == 0:\n",
        "    return 1\n",
        "  temp = power(x,int(y/2))\n",
        "  if y % 2 == 0:\n",
        "    return temp * temp\n",
        "  else:\n",
        "    if y > 0:\n",
        "      return x * temp * temp\n",
        "    else:\n",
        "      return (temp * temp) / x\n",
        "\n",
        "print(power(2,3))\n",
        "\n",
        "# Time Complexity : O(log(n))\n",
        "# Aux Space : O(log(n))"
      ],
      "metadata": {
        "colab": {
          "base_uri": "https://localhost:8080/"
        },
        "id": "ihyLniGJrpI7",
        "outputId": "7650087e-417d-44e5-c4c1-d4934a366f75"
      },
      "execution_count": null,
      "outputs": [
        {
          "output_type": "stream",
          "name": "stdout",
          "text": [
            "8\n"
          ]
        }
      ]
    },
    {
      "cell_type": "markdown",
      "source": [
        "# Iterative Power (Binary Exponentiation)\n",
        "\n",
        "- Every number can be written as sum of powers of 2.\n",
        "- We can travelers through all bits of a number in O(log n)\n",
        "\n",
        "I/P : x = 3, y = 5\n",
        "\n",
        "O/P : 243"
      ],
      "metadata": {
        "id": "5lbRnLx_saRO"
      }
    },
    {
      "cell_type": "code",
      "source": [
        "# Iterative Power\n",
        "\n",
        "def power(x,n):\n",
        "  res = 1\n",
        "  while n > 0:\n",
        "    if n % 2 == 0:\n",
        "      x = x * x\n",
        "      n = n // 2\n",
        "    else:\n",
        "      res = res * x\n",
        "      n = n - 1\n",
        "  return res\n",
        "\n",
        "print(power(3,5))\n",
        "\n",
        "# Time Complexity : O(log(n))\n",
        "# Aux Space : O(1)"
      ],
      "metadata": {
        "id": "CeFb_iOWsec-",
        "outputId": "fb58bf5c-22f8-4fd3-a32d-852059280087",
        "colab": {
          "base_uri": "https://localhost:8080/"
        }
      },
      "execution_count": null,
      "outputs": [
        {
          "output_type": "stream",
          "name": "stdout",
          "text": [
            "243\n"
          ]
        }
      ]
    }
  ]
}