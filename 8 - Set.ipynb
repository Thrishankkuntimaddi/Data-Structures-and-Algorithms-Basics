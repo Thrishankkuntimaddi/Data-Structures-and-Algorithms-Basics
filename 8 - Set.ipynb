{
  "nbformat": 4,
  "nbformat_minor": 0,
  "metadata": {
    "colab": {
      "provenance": [],
      "authorship_tag": "ABX9TyNTvwkUtNHjoGwx3xeWCHQk",
      "include_colab_link": true
    },
    "kernelspec": {
      "name": "python3",
      "display_name": "Python 3"
    },
    "language_info": {
      "name": "python"
    }
  },
  "cells": [
    {
      "cell_type": "markdown",
      "metadata": {
        "id": "view-in-github",
        "colab_type": "text"
      },
      "source": [
        "<a href=\"https://colab.research.google.com/github/Thrishankkuntimaddi/Data-Structures-and-Algorithms-Basics-/blob/main/8%20-%20Set.ipynb\" target=\"_parent\"><img src=\"https://colab.research.google.com/assets/colab-badge.svg\" alt=\"Open In Colab\"/></a>"
      ]
    },
    {
      "cell_type": "markdown",
      "source": [
        "# Set in Python\n",
        "\n",
        "1. Distinct Elements\n",
        "\n",
        "2. Unordered\n",
        "\n",
        "3. No Indexing\n",
        "\n",
        "4. Union, Intersection, set-diff are fast\n",
        "\n",
        "5. User Hashing Internally"
      ],
      "metadata": {
        "id": "1tLq-BZaiBig"
      }
    },
    {
      "cell_type": "code",
      "execution_count": null,
      "metadata": {
        "colab": {
          "base_uri": "https://localhost:8080/"
        },
        "id": "bKxmmX2dh77f",
        "outputId": "89764e37-aee9-40a5-ea46-dcd03cf8775e"
      },
      "outputs": [
        {
          "output_type": "stream",
          "name": "stdout",
          "text": [
            "{1, 2, 3, 4}\n"
          ]
        }
      ],
      "source": [
        "s1 = {1,2,3,4}\n",
        "print(s1)"
      ]
    },
    {
      "cell_type": "code",
      "source": [
        "s2 = ([1,2,3,4,1,2,3,4])\n",
        "print(s2)"
      ],
      "metadata": {
        "colab": {
          "base_uri": "https://localhost:8080/"
        },
        "id": "T-OFnantiaDn",
        "outputId": "b1ffa8c1-ccb5-4835-d678-57a169890753"
      },
      "execution_count": null,
      "outputs": [
        {
          "output_type": "stream",
          "name": "stdout",
          "text": [
            "[1, 2, 3, 4, 1, 2, 3, 4]\n"
          ]
        }
      ]
    },
    {
      "cell_type": "code",
      "source": [
        "s3 = {}\n",
        "print(type(s3))"
      ],
      "metadata": {
        "colab": {
          "base_uri": "https://localhost:8080/"
        },
        "id": "f1jLaC8Eidzy",
        "outputId": "c825134b-f059-4098-f281-7e9998e1ce7b"
      },
      "execution_count": null,
      "outputs": [
        {
          "output_type": "stream",
          "name": "stdout",
          "text": [
            "<class 'dict'>\n"
          ]
        }
      ]
    },
    {
      "cell_type": "code",
      "source": [
        "s4 = set()\n",
        "print(type(s4))\n",
        "print(s4)"
      ],
      "metadata": {
        "colab": {
          "base_uri": "https://localhost:8080/"
        },
        "id": "6gTmXIcMim7i",
        "outputId": "4098860c-f034-4935-efaf-b39d056e8be4"
      },
      "execution_count": null,
      "outputs": [
        {
          "output_type": "stream",
          "name": "stdout",
          "text": [
            "<class 'set'>\n",
            "set()\n"
          ]
        }
      ]
    },
    {
      "cell_type": "code",
      "source": [
        "s = {10, 20}\n",
        "s.add(30)\n",
        "print(s)\n",
        "\n",
        "s.update([40, 50])\n",
        "print(s)\n",
        "\n",
        "s.update([60, 70], {80, 90})\n",
        "print(s)"
      ],
      "metadata": {
        "colab": {
          "base_uri": "https://localhost:8080/"
        },
        "id": "bWINtOpnistJ",
        "outputId": "d59486e0-e9d4-4eea-ee87-b059d58e43b3"
      },
      "execution_count": null,
      "outputs": [
        {
          "output_type": "stream",
          "name": "stdout",
          "text": [
            "{10, 20, 30}\n",
            "{40, 10, 50, 20, 30}\n",
            "{70, 40, 10, 80, 50, 20, 90, 60, 30}\n"
          ]
        }
      ]
    },
    {
      "cell_type": "code",
      "source": [
        "s = {10, 20, 30}\n",
        "s.discard(30)\n",
        "print(s)"
      ],
      "metadata": {
        "colab": {
          "base_uri": "https://localhost:8080/"
        },
        "id": "yMWIBPF_jEty",
        "outputId": "8a164d04-c8dd-4328-befb-4dbb89e8c131"
      },
      "execution_count": null,
      "outputs": [
        {
          "output_type": "stream",
          "name": "stdout",
          "text": [
            "{10, 20}\n"
          ]
        }
      ]
    },
    {
      "cell_type": "code",
      "source": [
        "s.remove(20)\n",
        "print(s)"
      ],
      "metadata": {
        "colab": {
          "base_uri": "https://localhost:8080/"
        },
        "id": "S1SRdESgjYg5",
        "outputId": "b65b11df-523f-48a6-9c70-85026ef2d2a4"
      },
      "execution_count": null,
      "outputs": [
        {
          "output_type": "stream",
          "name": "stdout",
          "text": [
            "{10}\n"
          ]
        }
      ]
    },
    {
      "cell_type": "code",
      "source": [
        "s.clear()\n",
        "print(s)\n",
        "\n",
        "s.add(50)\n",
        "del s"
      ],
      "metadata": {
        "colab": {
          "base_uri": "https://localhost:8080/"
        },
        "id": "DPcXYtn3jffu",
        "outputId": "85a3a2c1-3a03-49c1-af62-101501fb0ccb"
      },
      "execution_count": null,
      "outputs": [
        {
          "output_type": "stream",
          "name": "stdout",
          "text": [
            "set()\n"
          ]
        }
      ]
    },
    {
      "cell_type": "code",
      "source": [
        "s = {10, 20, 30, 40}\n",
        "print(len(s))\n",
        "print(max(s))\n",
        "print(min(s))\n",
        "print(sum(s))\n",
        "print(20 in s)\n",
        "print(50 in s)"
      ],
      "metadata": {
        "colab": {
          "base_uri": "https://localhost:8080/"
        },
        "id": "njR3hJP2jjip",
        "outputId": "915d203d-cb25-4851-d588-906388bba6b1"
      },
      "execution_count": null,
      "outputs": [
        {
          "output_type": "stream",
          "name": "stdout",
          "text": [
            "4\n",
            "40\n",
            "10\n",
            "100\n",
            "True\n",
            "False\n"
          ]
        }
      ]
    },
    {
      "cell_type": "code",
      "source": [
        "s1 = {10, 20, 30}\n",
        "s2 = {30, 40, 50}\n",
        "print(s1 | s2)\n",
        "print(s1 & s2)\n",
        "print(s1 - s2)\n",
        "print(s1 ^ s2)\n",
        "\n",
        "print(s1.union(s2))"
      ],
      "metadata": {
        "colab": {
          "base_uri": "https://localhost:8080/"
        },
        "id": "BXf9UK_Bjtr4",
        "outputId": "ece2feb5-8b60-4c2f-97f0-0cd7e91fb44f"
      },
      "execution_count": null,
      "outputs": [
        {
          "output_type": "stream",
          "name": "stdout",
          "text": [
            "{50, 20, 40, 10, 30}\n",
            "{30}\n",
            "{10, 20}\n",
            "{40, 10, 50, 20}\n",
            "{50, 20, 40, 10, 30}\n"
          ]
        }
      ]
    },
    {
      "cell_type": "code",
      "source": [
        "s1 = {10, 20}\n",
        "s2 = {40, 30, 50}\n",
        "\n",
        "print(s1.isdisjoint(s2))\n",
        "\n",
        "print(s2.isdisjoint(s1))\n",
        "\n",
        "print(s1.isdisjoint(s1))"
      ],
      "metadata": {
        "colab": {
          "base_uri": "https://localhost:8080/"
        },
        "id": "EPARkSdVj5q_",
        "outputId": "859775ef-d883-42af-814b-c5817ee638a0"
      },
      "execution_count": null,
      "outputs": [
        {
          "output_type": "stream",
          "name": "stdout",
          "text": [
            "True\n",
            "True\n",
            "False\n"
          ]
        }
      ]
    },
    {
      "cell_type": "code",
      "source": [
        "print(s1 <=s2)\n",
        "\n",
        "print(s1 < s2)\n",
        "\n",
        "print(s1 >= s2)\n",
        "\n",
        "print(s1 > s2)"
      ],
      "metadata": {
        "colab": {
          "base_uri": "https://localhost:8080/"
        },
        "id": "_iEokSeikAQR",
        "outputId": "c1953c7c-2d7b-4319-87d5-cc4fd7f3d1d0"
      },
      "execution_count": null,
      "outputs": [
        {
          "output_type": "stream",
          "name": "stdout",
          "text": [
            "False\n",
            "False\n",
            "False\n",
            "False\n"
          ]
        }
      ]
    },
    {
      "cell_type": "code",
      "source": [],
      "metadata": {
        "id": "lDf2IOYMki1r"
      },
      "execution_count": null,
      "outputs": []
    }
  ]
}