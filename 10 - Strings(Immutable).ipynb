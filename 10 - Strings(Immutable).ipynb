{
  "nbformat": 4,
  "nbformat_minor": 0,
  "metadata": {
    "colab": {
      "provenance": [],
      "authorship_tag": "ABX9TyMlGZpxleHMX9qsyZZh3+V1",
      "include_colab_link": true
    },
    "kernelspec": {
      "name": "python3",
      "display_name": "Python 3"
    },
    "language_info": {
      "name": "python"
    }
  },
  "cells": [
    {
      "cell_type": "markdown",
      "metadata": {
        "id": "view-in-github",
        "colab_type": "text"
      },
      "source": [
        "<a href=\"https://colab.research.google.com/github/Thrishankkuntimaddi/Data-Structures-and-Algorithms-Basics-/blob/main/10%20-%20Strings(Immutable).ipynb\" target=\"_parent\"><img src=\"https://colab.research.google.com/assets/colab-badge.svg\" alt=\"Open In Colab\"/></a>"
      ]
    },
    {
      "cell_type": "markdown",
      "source": [
        "# Strings\n",
        "\n",
        "1. Sequence of characters\n",
        "\n",
        "2. Used to store text data like data read from a file\n",
        "\n",
        "3. Typically small set of characters\n",
        "\n",
        "4. character 'A' to 'Z' are stored as values from 65 to 90\n",
        "\n",
        "5. character 'a' to 'z' are stored as values from 97 to 122"
      ],
      "metadata": {
        "id": "j6Xu9Q3TldC4"
      }
    },
    {
      "cell_type": "code",
      "execution_count": null,
      "metadata": {
        "colab": {
          "base_uri": "https://localhost:8080/"
        },
        "id": "ztwTufJblZhY",
        "outputId": "383a97c3-515b-4c4d-c5fb-6fe37542f957"
      },
      "outputs": [
        {
          "output_type": "stream",
          "name": "stdout",
          "text": [
            "97\n",
            "65\n",
            "122\n",
            "90\n",
            "48\n",
            "57\n",
            "32\n"
          ]
        }
      ],
      "source": [
        "print(ord('a'))\n",
        "\n",
        "print(ord('A'))\n",
        "\n",
        "print(ord('z'))\n",
        "\n",
        "print(ord('Z'))\n",
        "\n",
        "print(ord('0'))\n",
        "\n",
        "print(ord('9'))\n",
        "\n",
        "print(ord(' '))"
      ]
    },
    {
      "cell_type": "code",
      "source": [
        "print(chr(97))\n",
        "\n",
        "print(chr(65))\n",
        "\n",
        "print(chr(122))\n",
        "\n",
        "print(chr(90))\n",
        "\n",
        "print(chr(48))\n",
        "\n",
        "print(chr(57))\n",
        "\n",
        "print(chr(32))\n"
      ],
      "metadata": {
        "colab": {
          "base_uri": "https://localhost:8080/"
        },
        "id": "OHWd0eCqmSCK",
        "outputId": "807cdc09-820d-43ab-b7dc-9b6ec7008058"
      },
      "execution_count": null,
      "outputs": [
        {
          "output_type": "stream",
          "name": "stdout",
          "text": [
            "a\n",
            "A\n",
            "z\n",
            "Z\n",
            "0\n",
            "9\n",
            " \n"
          ]
        }
      ]
    },
    {
      "cell_type": "code",
      "source": [
        "s = 'geek'\n",
        "\n",
        "print(s)\n",
        "\n",
        "print(type(s))\n",
        "\n",
        "print(s[0])\n",
        "\n",
        "print(s[1])\n",
        "\n",
        "print(s[2])\n",
        "\n",
        "print(s[3])\n",
        "\n",
        "print(s[-1])\n",
        "\n",
        "print(s[-2])\n",
        "\n",
        "print(s[-3])\n",
        "\n",
        "print(s[-4])"
      ],
      "metadata": {
        "colab": {
          "base_uri": "https://localhost:8080/"
        },
        "id": "1v4uTvXwmY1U",
        "outputId": "a7adbf40-54d7-47f8-90ce-3fb7ba992e3e"
      },
      "execution_count": null,
      "outputs": [
        {
          "output_type": "stream",
          "name": "stdout",
          "text": [
            "geek\n",
            "<class 'str'>\n",
            "g\n",
            "e\n",
            "e\n",
            "k\n",
            "k\n",
            "e\n",
            "e\n",
            "g\n"
          ]
        }
      ]
    },
    {
      "cell_type": "code",
      "source": [
        "s = ''' welcome to my world'''\n",
        "\n",
        "print(s)\n",
        "\n",
        "print(type(s))"
      ],
      "metadata": {
        "colab": {
          "base_uri": "https://localhost:8080/"
        },
        "id": "jwpkUVmzmkDk",
        "outputId": "c052ad94-bece-4b94-f22b-6f18c10b434c"
      },
      "execution_count": null,
      "outputs": [
        {
          "output_type": "stream",
          "name": "stdout",
          "text": [
            " welcome to my world\n",
            "<class 'str'>\n"
          ]
        }
      ]
    },
    {
      "cell_type": "markdown",
      "source": [
        "# Escape sequences"
      ],
      "metadata": {
        "id": "pugXi202m7ky"
      }
    },
    {
      "cell_type": "code",
      "source": [
        "s = 'Welcome to my world'\n",
        "\n",
        "print(s)\n",
        "\n"
      ],
      "metadata": {
        "colab": {
          "base_uri": "https://localhost:8080/"
        },
        "id": "j0vMq6mkmwKQ",
        "outputId": "4e19ec34-980b-4062-95b5-d0b369992c2d"
      },
      "execution_count": null,
      "outputs": [
        {
          "output_type": "stream",
          "name": "stdout",
          "text": [
            "Welcome to my world\n"
          ]
        }
      ]
    },
    {
      "cell_type": "code",
      "source": [
        "s = 'Welcome to my worl'd'\n",
        "\n",
        "print(s)"
      ],
      "metadata": {
        "colab": {
          "base_uri": "https://localhost:8080/",
          "height": 108
        },
        "id": "d49YyuFinC4i",
        "outputId": "45107a3d-bc76-4723-a599-81c5b73be40b"
      },
      "execution_count": null,
      "outputs": [
        {
          "output_type": "error",
          "ename": "SyntaxError",
          "evalue": "unterminated string literal (detected at line 1) (<ipython-input-8-89389ac4c64d>, line 1)",
          "traceback": [
            "\u001b[0;36m  File \u001b[0;32m\"<ipython-input-8-89389ac4c64d>\"\u001b[0;36m, line \u001b[0;32m1\u001b[0m\n\u001b[0;31m    s = 'Welcome to my worl'd'\u001b[0m\n\u001b[0m                             ^\u001b[0m\n\u001b[0;31mSyntaxError\u001b[0m\u001b[0;31m:\u001b[0m unterminated string literal (detected at line 1)\n"
          ]
        }
      ]
    },
    {
      "cell_type": "code",
      "source": [
        "s = 'Welcome to my worl\\'d'\n",
        "\n",
        "print(s)"
      ],
      "metadata": {
        "colab": {
          "base_uri": "https://localhost:8080/"
        },
        "id": "XzyzRHdknKFm",
        "outputId": "e9831c3a-b2dd-48c8-8a5c-c824dc321709"
      },
      "execution_count": null,
      "outputs": [
        {
          "output_type": "stream",
          "name": "stdout",
          "text": [
            "Welcome to my worl'd\n"
          ]
        }
      ]
    },
    {
      "cell_type": "code",
      "source": [
        "s = \"Hi, \\nI'm fine\"\n",
        "\n",
        "print(s)"
      ],
      "metadata": {
        "colab": {
          "base_uri": "https://localhost:8080/"
        },
        "id": "T7F2sgISnNrC",
        "outputId": "7dc1ddee-340b-4638-d62f-d41c0d99194d"
      },
      "execution_count": null,
      "outputs": [
        {
          "output_type": "stream",
          "name": "stdout",
          "text": [
            "Hi, \n",
            "I'm fine\n"
          ]
        }
      ]
    },
    {
      "cell_type": "code",
      "source": [
        "s1 = 'A simple \\example'\n",
        "\n",
        "print(s1)\n",
        "\n",
        "s2 = 'A simple example \\\\'\n",
        "\n",
        "print(s2)\n",
        "\n",
        "s3 = 'A simple \\t example '\n",
        "\n",
        "print(s3)"
      ],
      "metadata": {
        "colab": {
          "base_uri": "https://localhost:8080/"
        },
        "id": "MGHxNPDLnZeC",
        "outputId": "e8541dc8-940d-4b8e-b6f2-b88eeb14b8e5"
      },
      "execution_count": null,
      "outputs": [
        {
          "output_type": "stream",
          "name": "stdout",
          "text": [
            "A simple \\example\n",
            "A simple example \\\n",
            "A simple \t example \n"
          ]
        }
      ]
    },
    {
      "cell_type": "markdown",
      "source": [
        "# Raw Strings"
      ],
      "metadata": {
        "id": "v_A53RO9nqF9"
      }
    },
    {
      "cell_type": "code",
      "source": [
        "s1 = 'c:\\project\\name.py'\n",
        "\n",
        "print(s1)"
      ],
      "metadata": {
        "colab": {
          "base_uri": "https://localhost:8080/"
        },
        "id": "6ffR4T1tnh8v",
        "outputId": "2b2e61f3-18c2-405b-9a54-9474b4addb5d"
      },
      "execution_count": null,
      "outputs": [
        {
          "output_type": "stream",
          "name": "stdout",
          "text": [
            "c:\\project\n",
            "ame.py\n"
          ]
        }
      ]
    },
    {
      "cell_type": "code",
      "source": [
        "s1 = r'c:\\project\\name.py'\n",
        "\n",
        "print(s1)\n",
        "\n",
        "s1 = R'c:\\project\\name.py'\n",
        "\n",
        "print(s1)"
      ],
      "metadata": {
        "colab": {
          "base_uri": "https://localhost:8080/"
        },
        "id": "l8Ki_nwnnznw",
        "outputId": "640cff54-e712-4d95-807f-f41b0921470d"
      },
      "execution_count": null,
      "outputs": [
        {
          "output_type": "stream",
          "name": "stdout",
          "text": [
            "c:\\project\\name.py\n",
            "c:\\project\\name.py\n"
          ]
        }
      ]
    },
    {
      "cell_type": "markdown",
      "source": [
        "# Formatted Strings"
      ],
      "metadata": {
        "id": "wZceDAKnoAWB"
      }
    },
    {
      "cell_type": "code",
      "source": [
        "# using '%'\n",
        "\n",
        "name = 'ABC'\n",
        "course = 'Python Course'\n",
        "\n",
        "s = 'Welcome %s to %s' %(name, course)\n",
        "\n",
        "print(s)"
      ],
      "metadata": {
        "colab": {
          "base_uri": "https://localhost:8080/"
        },
        "id": "9omVfEF1n4tM",
        "outputId": "05b03da8-abfc-42ff-ba4d-57543069b7de"
      },
      "execution_count": null,
      "outputs": [
        {
          "output_type": "stream",
          "name": "stdout",
          "text": [
            "Welcome ABC to Python Course\n"
          ]
        }
      ]
    },
    {
      "cell_type": "code",
      "source": [
        "# using format()\n",
        "\n",
        "name = 'ABC'\n",
        "course = 'Python Course'\n",
        "\n",
        "s = 'Welcome {} to {}'.format(name, course)\n",
        "\n",
        "print(s)"
      ],
      "metadata": {
        "colab": {
          "base_uri": "https://localhost:8080/"
        },
        "id": "LqdR5txCoITF",
        "outputId": "740757c9-9221-4f74-ff0f-1c28d80a314c"
      },
      "execution_count": null,
      "outputs": [
        {
          "output_type": "stream",
          "name": "stdout",
          "text": [
            "Welcome ABC to Python Course\n"
          ]
        }
      ]
    },
    {
      "cell_type": "code",
      "source": [
        "# using f-string\n",
        "\n",
        "name = 'ABC'\n",
        "course = 'Python Course'\n",
        "\n",
        "s = f'Welcome {name} to {course}'\n",
        "\n",
        "print(s)"
      ],
      "metadata": {
        "colab": {
          "base_uri": "https://localhost:8080/"
        },
        "id": "N-yp6UzooQTY",
        "outputId": "87c1daa4-404a-4c23-bcfb-c362ab643044"
      },
      "execution_count": null,
      "outputs": [
        {
          "output_type": "stream",
          "name": "stdout",
          "text": [
            "Welcome ABC to Python Course\n"
          ]
        }
      ]
    },
    {
      "cell_type": "code",
      "source": [
        "# Example\n",
        "\n",
        "a = 10\n",
        "b = 20\n",
        "\n",
        "print(f'Sum of {a} and {b} is {a+b}')\n"
      ],
      "metadata": {
        "colab": {
          "base_uri": "https://localhost:8080/"
        },
        "id": "od8KbNW6oUw9",
        "outputId": "92ad30dc-6f60-4150-ca71-e5282b33c46f"
      },
      "execution_count": null,
      "outputs": [
        {
          "output_type": "stream",
          "name": "stdout",
          "text": [
            "Sum of 10 and 20 is 30\n"
          ]
        }
      ]
    },
    {
      "cell_type": "code",
      "source": [
        "# Example\n",
        "\n",
        "a = 'ABC'\n",
        "b = 'abc'\n",
        "print(f\"lower case of {a} is {b.lower()}\")\n",
        "print(f\"upper case of {b} is {a.upper()}\")\n"
      ],
      "metadata": {
        "colab": {
          "base_uri": "https://localhost:8080/"
        },
        "id": "K-zxWJX5obal",
        "outputId": "9c4dd8d1-abf4-473e-eca6-69ad274f4f63"
      },
      "execution_count": null,
      "outputs": [
        {
          "output_type": "stream",
          "name": "stdout",
          "text": [
            "lower case of ABC is abc\n",
            "upper case of abc is ABC\n"
          ]
        }
      ]
    },
    {
      "cell_type": "markdown",
      "source": [
        "# String comparison"
      ],
      "metadata": {
        "id": "mUgs7Ztuos8q"
      }
    },
    {
      "cell_type": "code",
      "source": [
        "s1 = 'gfg'\n",
        "s2 = 'ide'\n",
        "\n",
        "print(s1 == s2)\n",
        "\n",
        "print(s1 != s2)\n",
        "\n",
        "print(s1 > s2)\n",
        "\n",
        "print(s1 < s2)\n",
        "\n",
        "print(s1 >= s2)\n",
        "\n",
        "print(s1 <= s2)"
      ],
      "metadata": {
        "colab": {
          "base_uri": "https://localhost:8080/"
        },
        "id": "DFHtu-BHonmF",
        "outputId": "249ceded-205d-4e7b-de7c-14bfcdbc451d"
      },
      "execution_count": null,
      "outputs": [
        {
          "output_type": "stream",
          "name": "stdout",
          "text": [
            "False\n",
            "True\n",
            "False\n",
            "True\n",
            "False\n",
            "True\n"
          ]
        }
      ]
    },
    {
      "cell_type": "markdown",
      "source": [
        "# String Operations"
      ],
      "metadata": {
        "id": "ADY8El3Io8y-"
      }
    },
    {
      "cell_type": "code",
      "source": [
        "# Check for Substrings\n",
        "\n",
        "'''\n",
        "substrings of 'ABCD' are 'A', 'B', 'C', 'D', 'AB', 'BC', 'CD', 'ABCD'\n",
        "'''\n",
        "\n",
        "s1 = 'geeksforgeeks'\n",
        "s2 = 'geeks'\n",
        "\n",
        "print(s2 in s1) # True\n",
        "\n",
        "print(s2 not in s1) # False\n",
        "\n",
        "print(s1 in s2) # False\n",
        "\n",
        "print(s1 not in s2) # True\n"
      ],
      "metadata": {
        "id": "Z8f8x6qRo0Gl",
        "colab": {
          "base_uri": "https://localhost:8080/"
        },
        "outputId": "de3ad3a6-ec07-4a7a-a3a9-55481f7d0664"
      },
      "execution_count": null,
      "outputs": [
        {
          "output_type": "stream",
          "name": "stdout",
          "text": [
            "True\n",
            "False\n",
            "False\n",
            "True\n"
          ]
        }
      ]
    },
    {
      "cell_type": "code",
      "source": [
        "# Concatenation\n",
        "\n",
        "s1 = 'geeks'\n",
        "s2 = 'for'\n",
        "s3 = 'geeks'\n",
        "\n",
        "print(s1 + s2 + s3)\n",
        "\n",
        "print(s1 + ' ' + s2 + ' ' + s3)"
      ],
      "metadata": {
        "colab": {
          "base_uri": "https://localhost:8080/"
        },
        "id": "M16FWk1oruW_",
        "outputId": "bec7da9f-27e1-4bfa-cf55-4f00185eb816"
      },
      "execution_count": null,
      "outputs": [
        {
          "output_type": "stream",
          "name": "stdout",
          "text": [
            "geeksforgeeks\n",
            "geeks for geeks\n"
          ]
        }
      ]
    },
    {
      "cell_type": "code",
      "source": [
        "# Finding position of a substring\n",
        "\n",
        "s1 = 'geeksforgeeks'\n",
        "s2 = 'geeks'\n",
        "\n",
        "print(s1.index(s2))  # First come\n",
        "\n",
        "print(s1.rindex(s2))  # Last come\n",
        "\n",
        "print(s1.index(s2, 0, 13)) # Between the Range"
      ],
      "metadata": {
        "colab": {
          "base_uri": "https://localhost:8080/"
        },
        "id": "H-vyYzATr-Ol",
        "outputId": "7401bdec-df32-49a8-d441-f75b6802b3c5"
      },
      "execution_count": null,
      "outputs": [
        {
          "output_type": "stream",
          "name": "stdout",
          "text": [
            "0\n",
            "8\n",
            "0\n"
          ]
        }
      ]
    },
    {
      "cell_type": "code",
      "source": [
        "s1 = 'Thrishank is a name'\n",
        "\n",
        "s2 = 'Kav'\n",
        "\n",
        "print(len(s1))                           # 19\n",
        "\n",
        "print(s1.upper())                        # THRISHANK IS A NAME\n",
        "\n",
        "print(s1.lower())                        # thrishank is a name\n",
        "\n",
        "print(s1.isupper())                      # False\n",
        "\n",
        "print(s1.islower())                      # False\n",
        "\n",
        "print(s1.startswith('Th'))               # True\n",
        "\n",
        "print(s1.endswith('nk'))                 # False\n",
        "\n",
        "print(s1.startswith('th'))               # False\n",
        "\n",
        "print(s1.startswith(\" \", 1))             # False\n",
        "\n",
        "print(s1.endswith('a', 5, len(s1)))      # False\n",
        "\n",
        "print(s1.split(' '))                     # ['Thrishank', 'is', 'a', 'name']\n",
        "\n",
        "print(s1.split('n'))                     # ['Thrisha', 'k is a ', 'ame']\n",
        "\n",
        "print(s1.split('r', 1))                  # ['Th', 'ishank is a name']\n",
        "\n",
        "print(''.join(s1))                       # Thrishank is a name\n",
        "\n",
        "print(' '.join(s1))                      # T h r i s h a n k   i s   a   n a m e\n",
        "\n",
        "print(s1.strip(\" \"))                     # Thrishank is a name\n",
        "\n",
        "print(s1.lstrip(\" \"))                    # Thrishank is a name\n",
        "\n",
        "print(s1.rstrip(\" \"))                    # Thrishank is a name\n",
        "\n",
        "print(s1.replace('Thrishank', 'Kavya'))  # Kavya is a name\n",
        "\n",
        "print(s1.replace('h', 'H'))              # THrisHank is a name\n",
        "\n",
        "print(s1.find(s2))                       # -1\n",
        "\n",
        "print(s1.find(s2, 0, 13))                # -1\n",
        "\n",
        "print(s1.find('sha'))                    # 4"
      ],
      "metadata": {
        "colab": {
          "base_uri": "https://localhost:8080/"
        },
        "id": "09ZdTzPjsiiF",
        "outputId": "b8975b58-b829-4219-f744-4c15686e349a"
      },
      "execution_count": null,
      "outputs": [
        {
          "output_type": "stream",
          "name": "stdout",
          "text": [
            "19\n",
            "THRISHANK IS A NAME\n",
            "thrishank is a name\n",
            "False\n",
            "False\n",
            "True\n",
            "False\n",
            "False\n",
            "False\n",
            "False\n",
            "['Thrishank', 'is', 'a', 'name']\n",
            "['Thrisha', 'k is a ', 'ame']\n",
            "['Th', 'ishank is a name']\n",
            "Thrishank is a name\n",
            "T h r i s h a n k   i s   a   n a m e\n",
            "Thrishank is a name\n",
            "Thrishank is a name\n",
            "Thrishank is a name\n",
            "Kavya is a name\n",
            "THrisHank is a name\n",
            "-1\n",
            "-1\n",
            "4\n"
          ]
        }
      ]
    },
    {
      "cell_type": "markdown",
      "source": [
        "# Reverse a String\n",
        "\n",
        "I/P : 'Nani'\n",
        "\n",
        "O/P : 'inaN'"
      ],
      "metadata": {
        "id": "Xf5ofDYFvtg1"
      }
    },
    {
      "cell_type": "code",
      "source": [
        "# Naive\n",
        "\n",
        "s = input()\n",
        "rev = \"\"\n",
        "\n",
        "for i in s:\n",
        "    rev = i + rev\n",
        "\n",
        "print(rev)"
      ],
      "metadata": {
        "colab": {
          "base_uri": "https://localhost:8080/"
        },
        "id": "1okL7f_tuh1r",
        "outputId": "112a117c-4381-4ae3-eaa4-2fc55af5aabb"
      },
      "execution_count": null,
      "outputs": [
        {
          "output_type": "stream",
          "name": "stdout",
          "text": [
            "Nani\n",
            "inaN\n"
          ]
        }
      ]
    },
    {
      "cell_type": "code",
      "source": [
        "# using Slicing\n",
        "\n",
        "s = input()\n",
        "\n",
        "print(s[::-1])\n",
        "\n",
        "\n",
        "# s[x:y:z] gives substring from index x to y in steps of z"
      ],
      "metadata": {
        "colab": {
          "base_uri": "https://localhost:8080/"
        },
        "id": "31YIQKhJv79m",
        "outputId": "43535db1-0bc3-4f2f-e7f3-18bb8567d549"
      },
      "execution_count": null,
      "outputs": [
        {
          "output_type": "stream",
          "name": "stdout",
          "text": [
            "nani\n",
            "inan\n"
          ]
        }
      ]
    },
    {
      "cell_type": "markdown",
      "source": [
        "# Check for Rotation\n",
        "\n",
        "I/P : s1 = \"ABCD\"\n",
        "\n",
        "s2 = \"CDAB\"\n",
        "\n",
        "O/P : Yes\n",
        "\n",
        "\n",
        "Explaination :\n",
        "\n",
        "ABCD --> BCDA --> CDAB"
      ],
      "metadata": {
        "id": "BkzpVdsewXUn"
      }
    },
    {
      "cell_type": "code",
      "source": [
        "# Solution\n",
        "\n",
        "def areRotations(s1, s2):\n",
        "  if len(s1) != len(s2):\n",
        "    return False\n",
        "  temp = ''\n",
        "  temp = s1 + s1\n",
        "\n",
        "  return temp.find(s2) != -1\n",
        "\n",
        "print(areRotations(\"ABCD\", \"CDAB\"))\n",
        "\n",
        "print(areRotations(\"ABCD\", \"ABCA\"))\n",
        "\n",
        "# Time Complexity : O(n)\n",
        "# Space Complexity : O(n)"
      ],
      "metadata": {
        "colab": {
          "base_uri": "https://localhost:8080/"
        },
        "id": "RMJKtW2bwIHR",
        "outputId": "9d1e122c-0baa-41dd-c47e-503f729cf73a"
      },
      "execution_count": null,
      "outputs": [
        {
          "output_type": "stream",
          "name": "stdout",
          "text": [
            "True\n",
            "False\n"
          ]
        }
      ]
    },
    {
      "cell_type": "markdown",
      "source": [
        "# Check for Palindrome\n",
        "\n",
        "I/P : 10-02-2001\n",
        "\n",
        "O/P : 1002 20 01\n",
        "\n",
        "----------------\n",
        "\n",
        "I/P : 'abba'\n",
        "\n",
        "O/P : yes\n",
        "\n",
        "----------------\n",
        "\n",
        "I/P : 'abA'\n",
        "\n",
        "O/P : No\n"
      ],
      "metadata": {
        "id": "A8xABEsExlzv"
      }
    },
    {
      "cell_type": "code",
      "source": [
        "# Naive\n",
        "\n",
        "s = input()\n",
        "low = 0\n",
        "high = len(s) - 1\n",
        "\n",
        "while low < high:\n",
        "    if s[low] != s[high]:\n",
        "        print(\"No\")\n",
        "        break\n",
        "    low += 1\n",
        "    high -= 1\n",
        "else:\n",
        "    print(\"Yes\")"
      ],
      "metadata": {
        "colab": {
          "base_uri": "https://localhost:8080/"
        },
        "id": "URj8rA_dxHWp",
        "outputId": "e544ff6a-25db-4044-aeca-47bbf1735c9d"
      },
      "execution_count": null,
      "outputs": [
        {
          "output_type": "stream",
          "name": "stdout",
          "text": [
            "NanaN\n",
            "Yes\n"
          ]
        }
      ]
    },
    {
      "cell_type": "code",
      "source": [
        "# Using Slicing\n",
        "\n",
        "s = input()\n",
        "\n",
        "if s == s[::-1]:\n",
        "    print(\"Yes\")\n",
        "else:\n",
        "    print(\"No\")"
      ],
      "metadata": {
        "colab": {
          "base_uri": "https://localhost:8080/"
        },
        "id": "mWDFaQ2ZySH2",
        "outputId": "f959e0b6-e14d-405b-84da-ffebf996793f"
      },
      "execution_count": null,
      "outputs": [
        {
          "output_type": "stream",
          "name": "stdout",
          "text": [
            "Nani\n",
            "No\n"
          ]
        }
      ]
    },
    {
      "cell_type": "markdown",
      "source": [
        "# Check if a string is Subsequence\n",
        "\n",
        "I/P : s1 = 'ABCD';  s2 = 'AD'\n",
        "\n",
        "O/P : True\n",
        "\n",
        "I/P : s1 = \"ABCDE\";  s2 = \"AED\"\n",
        "\n",
        "O/P : False"
      ],
      "metadata": {
        "id": "b58Hz8kxyjKA"
      }
    },
    {
      "cell_type": "code",
      "source": [
        "# Naive\n",
        "\n",
        "def issubseq(s1, s2):\n",
        "  i, j = 0, 0\n",
        "\n",
        "  while i < len(s1) and j < len(s2):\n",
        "    if s1[i] == s2[j]:\n",
        "      j += 1\n",
        "    i += 1\n",
        "  return j == len(s2)\n",
        "\n",
        "print(issubseq(\"ABCD\", \"AD\"))\n",
        "print(issubseq(\"ABCDE\", \"AED\"))"
      ],
      "metadata": {
        "colab": {
          "base_uri": "https://localhost:8080/"
        },
        "id": "KavYReBAybc7",
        "outputId": "f50b1c66-0387-43ba-d388-d7e5ec4c6848"
      },
      "execution_count": null,
      "outputs": [
        {
          "output_type": "stream",
          "name": "stdout",
          "text": [
            "True\n",
            "False\n"
          ]
        }
      ]
    },
    {
      "cell_type": "code",
      "source": [
        "# Recursion\n",
        "\n",
        "def issubseq(s1, s2, m, n):\n",
        "  if n == 0:\n",
        "    return True\n",
        "  if m == 0:\n",
        "    return False\n",
        "  if s1[m-1] == s2[n-1]:\n",
        "    return issubseq(s1, s2, m-1, n-1)\n",
        "  return issubseq(s1, s2, m-1, n)\n",
        "\n",
        "print(issubseq(\"ABCD\", \"AD\", 4, 2))\n",
        "print(issubseq(\"ABCDE\", \"AED\", 5, 3))"
      ],
      "metadata": {
        "colab": {
          "base_uri": "https://localhost:8080/"
        },
        "id": "nsnYogAQ2CcK",
        "outputId": "fb3907a7-840c-4071-cd6a-b43e42530dd8"
      },
      "execution_count": null,
      "outputs": [
        {
          "output_type": "stream",
          "name": "stdout",
          "text": [
            "True\n",
            "False\n"
          ]
        }
      ]
    },
    {
      "cell_type": "markdown",
      "source": [
        "# Check for Anagram\n",
        "\n",
        "Anagram : length & character & count should be same\n",
        "\n",
        "I/P : s1 = 'listen'\n",
        "\n",
        "      s2 = 'silent'\n",
        "\n",
        "O/P : Yes\n",
        "\n",
        "---------------------\n",
        "\n",
        "I/P : s1 = \"aabc\"\n",
        "\n",
        "      s2 = \"acab\"\n",
        "\n",
        "O/P : Yes"
      ],
      "metadata": {
        "id": "EeWTzGZH2hKo"
      }
    },
    {
      "cell_type": "code",
      "source": [
        "# Naive\n",
        "\n",
        "def anagram(s1, s2):\n",
        "  if len(s1) != len(s2):\n",
        "    return False\n",
        "  s1 = sorted(s1)\n",
        "  s2 = sorted(s2)\n",
        "\n",
        "  return s1 == s2\n",
        "\n",
        "s1 = \"listen\"\n",
        "s2 = \"silent\"\n",
        "\n",
        "print(anagram(s1, s2))\n",
        "\n",
        "s1 = \"aabd\"\n",
        "s2 = \"acab\"\n",
        "\n",
        "print(anagram(s1, s2))\n",
        "\n",
        "# Time Complexity : O(n*logn)\n",
        "# Space Complexity : O(n)"
      ],
      "metadata": {
        "colab": {
          "base_uri": "https://localhost:8080/"
        },
        "id": "8HnrHH3h2Oc0",
        "outputId": "4e0041b9-59ee-4257-b5a8-01da01657112"
      },
      "execution_count": null,
      "outputs": [
        {
          "output_type": "stream",
          "name": "stdout",
          "text": [
            "True\n",
            "False\n"
          ]
        }
      ]
    },
    {
      "cell_type": "code",
      "source": [
        "# Efficient\n",
        "\n",
        "def anagram(s1, s2):\n",
        "  if len(s1) != len(s2):\n",
        "    return False\n",
        "  count = [0] * 256\n",
        "\n",
        "  for i in range(len(s1)):\n",
        "    count[ord(s1[i])] += 1\n",
        "    count[ord(s2[i])] -= 1\n",
        "  for i in range(256):\n",
        "    if count[i] != 0:\n",
        "      return False\n",
        "  return True\n",
        "\n",
        "s1 = \"listen\"\n",
        "s2 = \"silent\"\n",
        "\n",
        "print(anagram(s1, s2))\n",
        "\n",
        "s1 = \"aabd\"\n",
        "s2 = \"acab\"\n",
        "\n",
        "print(anagram(s1, s2))\n",
        "\n",
        "# Time Complexity : O(n)\n",
        "# Space Complexity : O(1)"
      ],
      "metadata": {
        "colab": {
          "base_uri": "https://localhost:8080/"
        },
        "id": "IVrT6xsL3eQY",
        "outputId": "edb2650c-4190-4673-b989-67844a6abbcd"
      },
      "execution_count": null,
      "outputs": [
        {
          "output_type": "stream",
          "name": "stdout",
          "text": [
            "True\n",
            "False\n"
          ]
        }
      ]
    },
    {
      "cell_type": "markdown",
      "source": [
        "# Leftmost Repeating Character\n",
        "\n",
        "I/P : str = \"geeksforgeeks\"\n",
        "\n",
        "O/P : 0\n",
        "\n",
        "I/P : str = \"abbcc\"\n",
        "\n",
        "O/P : 1\n",
        "\n",
        "I/P : str = \"abcd\"\n",
        "\n",
        "O/P : -1"
      ],
      "metadata": {
        "id": "wiaGDI714Zu3"
      }
    },
    {
      "cell_type": "code",
      "source": [
        "# Naive Approach\n",
        "\n",
        "def leftmost(str):\n",
        "  for i in range(len(str)):\n",
        "    for j in range(i+1, len(str)):\n",
        "      if str[i] == str[j]:\n",
        "        return i\n",
        "  return -1\n",
        "\n",
        "str = \"geeksforgeeks\"\n",
        "\n",
        "print(leftmost(str))\n",
        "\n",
        "# Time Complexity : O(n^2)\n",
        "# Space Complexity : O(1)"
      ],
      "metadata": {
        "colab": {
          "base_uri": "https://localhost:8080/"
        },
        "id": "n2q8DXnV37oQ",
        "outputId": "295c2130-1bc4-49fd-c7c3-2f66b3bc4692"
      },
      "execution_count": null,
      "outputs": [
        {
          "output_type": "stream",
          "name": "stdout",
          "text": [
            "0\n"
          ]
        }
      ]
    },
    {
      "cell_type": "code",
      "source": [
        "# Better Approach\n",
        "\n",
        "CHAR = 256\n",
        "\n",
        "def leftmost(str):\n",
        "  count = [0] * CHAR\n",
        "\n",
        "  for i in range(len(str)):\n",
        "    count[ord(str[i])] += 1\n",
        "\n",
        "  for i in range(len(str)):\n",
        "    if count[ord(str[i])] > 1:\n",
        "      return i\n",
        "\n",
        "  return -1\n",
        "\n",
        "str = \"geeksforgeeks\"\n",
        "\n",
        "print(leftmost(str))\n",
        "\n",
        "# Time Complexity : O(n)\n",
        "# Space Complexity : O(1)"
      ],
      "metadata": {
        "colab": {
          "base_uri": "https://localhost:8080/"
        },
        "id": "qpBkzGSR5FMz",
        "outputId": "f047bca1-7d8c-4b55-f24e-f9a9b659cf5c"
      },
      "execution_count": null,
      "outputs": [
        {
          "output_type": "stream",
          "name": "stdout",
          "text": [
            "0\n"
          ]
        }
      ]
    },
    {
      "cell_type": "code",
      "source": [
        "# Method 1\n",
        "\n",
        "import sys\n",
        "\n",
        "CHAR = 256\n",
        "\n",
        "def leftmost(str):\n",
        "\n",
        "  fIndex = [-1] * CHAR\n",
        "  res = sys.maxsize\n",
        "\n",
        "  for i in range(len(str)):\n",
        "\n",
        "    if fIndex[ord(str[i])] == -1:\n",
        "\n",
        "      fIndex[ord(str[i])] = i\n",
        "\n",
        "    else:\n",
        "\n",
        "      res = min(res, fIndex[ord(str[i])])\n",
        "\n",
        "  return res\n",
        "\n",
        "str = \"Thrishank\"\n",
        "\n",
        "print(leftmost(str))\n",
        "\n",
        "# Time Complexity : O(n)\n",
        "# Space Complexity : O(1)"
      ],
      "metadata": {
        "colab": {
          "base_uri": "https://localhost:8080/"
        },
        "id": "JWXUisUU5czM",
        "outputId": "7403a851-1316-463b-f0a7-62683a9a62d8"
      },
      "execution_count": null,
      "outputs": [
        {
          "output_type": "stream",
          "name": "stdout",
          "text": [
            "1\n"
          ]
        }
      ]
    },
    {
      "cell_type": "code",
      "source": [
        "# Method 2\n",
        "\n",
        "CHAR = 256\n",
        "\n",
        "def leftmost(str):\n",
        "  visited = [False] * CHAR\n",
        "  res = -1\n",
        "\n",
        "  for i in range(len(str) -1, -1, -1):\n",
        "    if visited[ord(str[i])] == True:\n",
        "      res = i\n",
        "    else:\n",
        "      visited[ord(str[i])] = True\n",
        "  return res\n",
        "\n",
        "str = \"Thrishank\"\n",
        "\n",
        "print(leftmost(str))\n",
        "\n",
        "# Time Complexity : O(n)\n",
        "# Space Complexity : O(1)"
      ],
      "metadata": {
        "colab": {
          "base_uri": "https://localhost:8080/"
        },
        "id": "AsShJAMf6lYD",
        "outputId": "cf3e915e-dac4-4157-820c-3790e5e39873"
      },
      "execution_count": null,
      "outputs": [
        {
          "output_type": "stream",
          "name": "stdout",
          "text": [
            "1\n"
          ]
        }
      ]
    },
    {
      "cell_type": "markdown",
      "source": [
        "# Leftmost Non-Repeating Character\n",
        "\n",
        "I/P : str = 'geeksforgeeks'\n",
        "\n",
        "O/P : 5\n",
        "\n",
        "I/P : str = 'abcabc'\n",
        "\n",
        "O/P : -1"
      ],
      "metadata": {
        "id": "K86JQkGf8ox8"
      }
    },
    {
      "cell_type": "code",
      "source": [
        "# Naive\n",
        "\n",
        "def nonRep(str):\n",
        "  for i in range(len(str)):\n",
        "    flag = False\n",
        "\n",
        "    for j in range(i+1, len(str)):\n",
        "      if str[i] == str[j]:\n",
        "        flag = True\n",
        "        break\n",
        "\n",
        "    if flag == False:\n",
        "      return i\n",
        "    return -1\n",
        "\n",
        "str1 = \"aaa\"\n",
        "\n",
        "print(nonRep(str1))\n",
        "\n",
        "str1 = \"geeksforgeeks\"\n",
        "\n",
        "print(nonRep(str1))\n",
        "\n",
        "# Time Complexity : O(n^2)\n",
        "# Space Complexity : O(1)"
      ],
      "metadata": {
        "colab": {
          "base_uri": "https://localhost:8080/"
        },
        "id": "Gbo966-X8knt",
        "outputId": "10a38204-e06a-4207-dd70-665ff4590848"
      },
      "execution_count": null,
      "outputs": [
        {
          "output_type": "stream",
          "name": "stdout",
          "text": [
            "-1\n",
            "-1\n"
          ]
        }
      ]
    },
    {
      "cell_type": "code",
      "source": [
        "# Better Solution\n",
        "\n",
        "CHAR = 256\n",
        "\n",
        "def nonRep(str):\n",
        "  count = [0] * CHAR\n",
        "\n",
        "  for i in range(len(str)):\n",
        "    count[ord(str[i])] += 1\n",
        "\n",
        "  for i in range(len(str)):\n",
        "    if count[ord(str[i])] == 1:\n",
        "      return i\n",
        "  return -1\n",
        "\n",
        "str1 = \"aaa\"\n",
        "\n",
        "print(nonRep(str1))\n",
        "\n",
        "str1 = \"geeksforgeeks\"\n",
        "\n",
        "print(nonRep(str1))\n",
        "\n",
        "# Time Complexity : O(n)\n",
        "# Space Complexity : O(CHAR)"
      ],
      "metadata": {
        "colab": {
          "base_uri": "https://localhost:8080/"
        },
        "id": "vhMyOLkI9W-d",
        "outputId": "c08d037d-76c6-4b76-cc8f-5647427132da"
      },
      "execution_count": null,
      "outputs": [
        {
          "output_type": "stream",
          "name": "stdout",
          "text": [
            "-1\n",
            "5\n"
          ]
        }
      ]
    },
    {
      "cell_type": "code",
      "source": [
        "# Method 1\n",
        "\n",
        "import sys\n",
        "\n",
        "CHAR = 256\n",
        "\n",
        "def nonRep(str):\n",
        "\n",
        "  fIndex = [-1] * CHAR\n",
        "  res = sys.maxsize\n",
        "\n",
        "  for i in range(len(str)):\n",
        "    if fIndex[ord(str[i])] == -1:\n",
        "      fIndex[ord(str[i])] = i\n",
        "    else:\n",
        "      fIndex[ord(str[i])] = -2\n",
        "\n",
        "  for i in range(CHAR):\n",
        "    if fIndex[i] >= 0:\n",
        "      res = min(res, fIndex[i])\n",
        "\n",
        "  return res if res != sys.maxsize else -1\n",
        "\n",
        "\n",
        "\n",
        "str1 = \"aaa\"\n",
        "print(nonRep(str1))\n",
        "\n",
        "str1 = \"geeksforgeeks\"\n",
        "print(nonRep(str1))\n",
        "\n",
        "# Time Complexity : O(n)\n",
        "# Space Complexity : O(CHAR)"
      ],
      "metadata": {
        "colab": {
          "base_uri": "https://localhost:8080/"
        },
        "id": "mddsP9WG9xjx",
        "outputId": "8ef0bdb8-717d-4390-8366-4332d03fb1af"
      },
      "execution_count": null,
      "outputs": [
        {
          "output_type": "stream",
          "name": "stdout",
          "text": [
            "-1\n",
            "5\n"
          ]
        }
      ]
    },
    {
      "cell_type": "markdown",
      "source": [
        "# Reverse Words in a String\n",
        "\n",
        "I/P : str = \"Welcome to gfg\"\n",
        "\n",
        "O/P : \"gfg to Welcome\"\n",
        "\n",
        "I/P : str = 'abc'\n",
        "\n",
        "O/P : abc"
      ],
      "metadata": {
        "id": "-njkYmdq_H3G"
      }
    },
    {
      "cell_type": "code",
      "source": [
        "# Naive Solution\n",
        "\n",
        "'''\n",
        "1. Initialize an empty stack\n",
        "2. Split the string into words\n",
        "3. Push each word onto the stack\n",
        "4. Initialize the output string\n",
        "5. Pop words from the stack and append them to the output string\n",
        "6. Remove the trailing space and return the reversed string\n",
        "\n",
        "'''\n",
        "\n",
        "def reverseWordsUsingStack(str):\n",
        "    stack = []\n",
        "    words = str.split()\n",
        "\n",
        "    for word in words:\n",
        "        stack.append(word)\n",
        "\n",
        "    reversed_str = \"\"\n",
        "\n",
        "    while stack:\n",
        "        reversed_str += stack.pop() + \" \"\n",
        "\n",
        "    return reversed_str.strip()\n",
        "\n",
        "str = \"Welcome to gfg\"\n",
        "result = reverseWordsUsingStack(str)\n",
        "print(result)\n",
        "\n",
        "# Time Comeplexity : O(n)\n",
        "# Space Complexity : O(n)\n"
      ],
      "metadata": {
        "id": "yKcXGuXf-eZn"
      },
      "execution_count": null,
      "outputs": []
    },
    {
      "cell_type": "code",
      "source": [
        "# Idea for O(1) Auxiliary Space Solution\n",
        "\n",
        "'''\n",
        "1. Reverse the individual word\n",
        "2. Reverse the whole string\n",
        "'''\n",
        "\n",
        "def reverse(s, b, e):\n",
        "  while b < e:\n",
        "    s[b], s[e] = s[e], s[b]\n",
        "    b += 1\n",
        "    e -= 1\n",
        "\n",
        "def reversewords(s):\n",
        "  n = len(s)\n",
        "  b = 0\n",
        "  for e in range(n):\n",
        "    if s[e] == ' ':\n",
        "      reverse(s, b, e-1)\n",
        "      b = e + 1\n",
        "  reverse(s, b, n-1)\n",
        "  reverse(s, 0, n-1)\n",
        "\n",
        "s = list(\"Welcome to gfg\")\n",
        "reversewords(s)\n",
        "print(\"\".join(s))\n",
        "\n",
        "# Time Complexity : O(n)\n",
        "# Space Complexity : O(1)"
      ],
      "metadata": {
        "colab": {
          "base_uri": "https://localhost:8080/"
        },
        "id": "WkvY29UKAIN5",
        "outputId": "fcc0aebe-f122-4a74-c48b-6b22f6814b89"
      },
      "execution_count": null,
      "outputs": [
        {
          "output_type": "stream",
          "name": "stdout",
          "text": [
            "gfg to Welcome\n"
          ]
        }
      ]
    },
    {
      "cell_type": "code",
      "source": [],
      "metadata": {
        "id": "k6cfiB9JAuTT"
      },
      "execution_count": null,
      "outputs": []
    }
  ]
}