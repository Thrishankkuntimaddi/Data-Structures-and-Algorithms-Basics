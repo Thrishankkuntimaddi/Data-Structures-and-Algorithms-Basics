{
  "nbformat": 4,
  "nbformat_minor": 0,
  "metadata": {
    "colab": {
      "provenance": [],
      "authorship_tag": "ABX9TyOB5lbI3o5AiJiXs4ZCBy2d",
      "include_colab_link": true
    },
    "kernelspec": {
      "name": "python3",
      "display_name": "Python 3"
    },
    "language_info": {
      "name": "python"
    }
  },
  "cells": [
    {
      "cell_type": "markdown",
      "metadata": {
        "id": "view-in-github",
        "colab_type": "text"
      },
      "source": [
        "<a href=\"https://colab.research.google.com/github/Thrishankkuntimaddi/Data-Structures-and-Algorithms-Basics-/blob/main/18%20-%20Binary%20Search%20Tree.ipynb\" target=\"_parent\"><img src=\"https://colab.research.google.com/assets/colab-badge.svg\" alt=\"Open In Colab\"/></a>"
      ]
    },
    {
      "cell_type": "markdown",
      "source": [
        "# Binary Search Tree(Background)\n",
        "\n",
        "                           Array(Unsorted)      Array(Sorted)     LinkedList      BST(Balanced)      Hash Table\n",
        "\n",
        "     Search                     O(n)              O(logn)           O(n)             O(logn)            O(1)\n",
        "\n",
        "     Insert                     O(1)              O(n)              O(1)             O(logn)            O(1)  \n",
        "\n",
        "     Delete                     O(n)              O(n)              O(n)             O(logn)            O(1)  \n",
        "\n",
        "     Find Closest               O(n)              O(logn)           O(n)             O(logn)            O(n)  \n",
        "\n",
        "     Sorted Traversal         O(nlogn)            O(n)              O(nlogn)         O(n)               O(nlogn)  "
      ],
      "metadata": {
        "id": "gJwr9F1h_c5G"
      }
    },
    {
      "cell_type": "markdown",
      "source": [
        "# Introduction\n",
        "\n",
        "-> For Every node, key in left side are smallerand keys in right side are greater\n",
        "\n",
        "-> All keys are typically considered as distinct\n",
        "\n",
        "-> Like LinkedList, it is a Linked Data Structure\n",
        "\n",
        "-> Implemented in C++ as map, set, multimap and multiset and in Java as Trueset and Truemap\n",
        "\n",
        "\n",
        "### Example Operations\n",
        "\n",
        "1. Create an Empty BST\n",
        "\n",
        "2. Insert 20, 15, 30, 40, 50, 12, 18, 35, 80, 7\n",
        "\n",
        "                        20\n",
        "                       /  \\\n",
        "                      15   30\n",
        "                     /  \\    \\\n",
        "                   12    18   40\n",
        "                  /          /  \\\n",
        "                 7         35    50\n",
        "                                   \\\n",
        "                                    80\n",
        "\n",
        "Note :\n",
        "\n",
        "-> All values on left are less than the root\n",
        "\n",
        "-> All values on right are greater then the root"
      ],
      "metadata": {
        "id": "12spUgdTBWR9"
      }
    },
    {
      "cell_type": "markdown",
      "source": [
        "# Search in Binary Search Tree\n",
        "\n",
        "I/P : Key = 7\n",
        "\n",
        "                        20\n",
        "                       /  \\\n",
        "                      15   30\n",
        "                     /  \\    \\\n",
        "                   12    18   40\n",
        "                  /          /  \\\n",
        "                 7         35    50\n",
        "                                   \\\n",
        "                                    80\n",
        "\n",
        "O/P : True"
      ],
      "metadata": {
        "id": "fFCwIc2wE85Y"
      }
    },
    {
      "cell_type": "code",
      "source": [
        "class Node:\n",
        "  def __init__(self, key):\n",
        "    self.left = None\n",
        "    self.right = None\n",
        "    self.val = key\n",
        "\n",
        "def createBST(root, key):\n",
        "  if root is None:\n",
        "    return Node(key)\n",
        "  else:\n",
        "    if root.val == key:\n",
        "      return root\n",
        "    elif root.val < key:\n",
        "      root.right = createBST(root.right, key)\n",
        "    else:\n",
        "      root.left = createBST(root.left, key)\n",
        "  return root\n",
        "\n",
        "def printInorder(root):\n",
        "  if root:\n",
        "    printInorder(root.left)\n",
        "    print(root.val, end = \" \")\n",
        "    printInorder(root.right)\n",
        "\n",
        "head = Node(20)\n",
        "head.left = createBST(head.left, 15)\n",
        "head.right = createBST(head.right, 30)\n",
        "head.left.left = createBST(head.left.left, 12)\n",
        "head.left.right = createBST(head.left.right, 18)\n",
        "head.right.left = createBST(head.right.left, 35)\n",
        "head.right.right = createBST(head.right.right, 50)\n",
        "head.right.right.right = createBST(head.right.right.right, 80)\n",
        "head.left.left.left = createBST(head.left.left.left, 7)\n",
        "\n",
        "printInorder(head)\n"
      ],
      "metadata": {
        "colab": {
          "base_uri": "https://localhost:8080/"
        },
        "id": "a8MduAvEFe8Y",
        "outputId": "cbadc9c2-1e13-4886-8317-5ebb1b16b5f9"
      },
      "execution_count": null,
      "outputs": [
        {
          "output_type": "stream",
          "name": "stdout",
          "text": [
            "7 12 15 18 20 35 30 50 80 "
          ]
        }
      ]
    },
    {
      "cell_type": "code",
      "source": [
        "# Recursion\n",
        "\n",
        "def searchBST(root, key):\n",
        "    if root is None:\n",
        "        return False\n",
        "    if root.val == key:\n",
        "        return True\n",
        "    if root.val < key:\n",
        "        return searchBST(root.right, key)\n",
        "    return searchBST(root.left, key)\n",
        "\n",
        "searchBST(head, 7)"
      ],
      "metadata": {
        "colab": {
          "base_uri": "https://localhost:8080/"
        },
        "id": "goKHvlgaFWd0",
        "outputId": "bd349ceb-24cc-405c-8cb3-791668f43f5b"
      },
      "execution_count": null,
      "outputs": [
        {
          "output_type": "execute_result",
          "data": {
            "text/plain": [
              "True"
            ]
          },
          "metadata": {},
          "execution_count": 9
        }
      ]
    },
    {
      "cell_type": "code",
      "source": [
        "# Iterative\n",
        "\n",
        "def searchBST(root, key):\n",
        "    while root is not None:\n",
        "        if root.val == key:\n",
        "            return True\n",
        "        elif root.val < key:\n",
        "            root = root.right\n",
        "        else:\n",
        "            root = root.left\n",
        "    return False\n",
        "\n",
        "searchBST(head, 7)"
      ],
      "metadata": {
        "colab": {
          "base_uri": "https://localhost:8080/"
        },
        "id": "qjyFR7siFc7a",
        "outputId": "86afa38c-0c13-40c3-f488-84dd6096dde2"
      },
      "execution_count": null,
      "outputs": [
        {
          "output_type": "execute_result",
          "data": {
            "text/plain": [
              "True"
            ]
          },
          "metadata": {},
          "execution_count": 10
        }
      ]
    },
    {
      "cell_type": "markdown",
      "source": [
        "# Insert in BST\n",
        "\n",
        "I/P : Key = 40\n",
        "\n",
        "                        20\n",
        "                       /  \\\n",
        "                     15    30\n",
        "\n",
        "O/P :  \n",
        "\n",
        "                        20\n",
        "                       /  \\\n",
        "                     15    30\n",
        "                             \\\n",
        "                              40"
      ],
      "metadata": {
        "id": "zwc42p3LGr4n"
      }
    },
    {
      "cell_type": "code",
      "source": [
        "# Recursion\n",
        "\n",
        "def insertBST(root, key):\n",
        "  if root is None:\n",
        "    return Node(key)\n",
        "  elif root.val == key:\n",
        "    return root\n",
        "  elif root.val < key:\n",
        "    root.right = insertBST(root.right, key)\n",
        "  else:\n",
        "    root.left = insertBST(root.left, key)\n",
        "  return root\n",
        "\n",
        "insertBST(head, 40)\n",
        "insertBST(head, 60)\n",
        "printInorder(head)\n",
        "\n",
        "# Time Complexity : O(h)\n",
        "# Auxiliary Space : O(h)"
      ],
      "metadata": {
        "colab": {
          "base_uri": "https://localhost:8080/"
        },
        "id": "R60Lg1iWGdwW",
        "outputId": "9a8b31b5-b2c2-48d9-c4a2-f60e42e54f07"
      },
      "execution_count": null,
      "outputs": [
        {
          "output_type": "stream",
          "name": "stdout",
          "text": [
            "7 12 15 18 20 35 30 40 50 60 80 "
          ]
        }
      ]
    },
    {
      "cell_type": "code",
      "source": [
        "# Iterative\n",
        "\n",
        "def insertBST(root, key):\n",
        "  parent = None\n",
        "  curr = root\n",
        "  while curr is not None:\n",
        "    if curr.val == key:\n",
        "      return root\n",
        "    elif curr.val < key:\n",
        "      parent = curr\n",
        "      curr = curr.right\n",
        "    else:\n",
        "      parent = curr\n",
        "      curr = curr.left\n",
        "  if parent is None:\n",
        "    return Node(key)\n",
        "  if parent.val < key:\n",
        "    parent.right = Node(key)\n",
        "  else:\n",
        "    parent.left = Node(key)\n",
        "  return root\n",
        "\n",
        "insertBST(head, 40)\n",
        "insertBST(head, 10)\n",
        "printInorder(head)\n",
        "\n",
        "# Time Complexity : O(h)\n",
        "# Auxiliary Space : O(1)"
      ],
      "metadata": {
        "colab": {
          "base_uri": "https://localhost:8080/"
        },
        "id": "CeHoRPYgHIEx",
        "outputId": "6164ad63-06b2-4e07-f6ed-fb2b08471969"
      },
      "execution_count": null,
      "outputs": [
        {
          "output_type": "stream",
          "name": "stdout",
          "text": [
            "7 10 12 15 18 20 35 30 40 50 60 80 "
          ]
        }
      ]
    },
    {
      "cell_type": "markdown",
      "source": [
        "# Delete Operation in BST\n",
        "\n",
        "I/P : Key = 40\n",
        "\n",
        "                        20\n",
        "                       /  \\\n",
        "                     15    30\n",
        "                             \\\n",
        "                              40\n",
        "\n",
        "O/P :  \n",
        "\n",
        "                        20\n",
        "                       /  \\\n",
        "                     15    30\n"
      ],
      "metadata": {
        "id": "phqJLQS6H0gI"
      }
    },
    {
      "cell_type": "code",
      "source": [
        "def delNode(root, key):\n",
        "  if root == None:\n",
        "    return root\n",
        "  if root.val < key:\n",
        "    root.right = delNode(root.right, key)\n",
        "  elif root.val > key:\n",
        "    root.left = delNode(root.left, key)\n",
        "  else:\n",
        "    if root.left is None:\n",
        "      temp = root.right\n",
        "      root = None\n",
        "      return temp\n",
        "    elif root.right is None:\n",
        "      temp = root.left\n",
        "      root = None\n",
        "      return temp\n",
        "    temp = minValueNode(root.right)\n",
        "    root.val = temp.val\n",
        "    root.right = delNode(root.right, temp.val)\n",
        "  return root\n",
        "\n",
        "def minValueNode(node):\n",
        "  current = node\n",
        "  while(current.left is not None):\n",
        "    current = current.left\n",
        "  return current\n",
        "\n",
        "delNode(head, 40)\n",
        "delNode(head, 80)\n",
        "printInorder(head)\n",
        "\n",
        "# Time Complexity : O(h)\n",
        "# Auxiliary Space : O(h)"
      ],
      "metadata": {
        "colab": {
          "base_uri": "https://localhost:8080/"
        },
        "id": "zgrpfmsuHvsk",
        "outputId": "8559a1d4-4d77-4c1c-f086-95c1cde0e81c"
      },
      "execution_count": null,
      "outputs": [
        {
          "output_type": "stream",
          "name": "stdout",
          "text": [
            "7 10 12 15 18 20 35 30 50 60 "
          ]
        }
      ]
    },
    {
      "cell_type": "markdown",
      "source": [
        "# Floor in a BST\n",
        "\n",
        "I/P : Key = 14\n",
        "\n",
        "                        10\n",
        "                       /  \\\n",
        "                      5    15\n",
        "                          /  \\\n",
        "                        12    30\n",
        "\n",
        "O/P : Node 12"
      ],
      "metadata": {
        "id": "KUK9EWUiI-lt"
      }
    },
    {
      "cell_type": "code",
      "source": [
        "def getFloor(root, x):\n",
        "  res = None\n",
        "  while root is not None:\n",
        "    if root.val == x:\n",
        "      return root\n",
        "    elif root.val > x:\n",
        "      root = root.left\n",
        "    else:\n",
        "      res = root\n",
        "      root = root.right\n",
        "  return res\n",
        "\n",
        "print(getFloor(head, 1))\n",
        "print(getFloor(head, 9).val)\n",
        "\n",
        "# Time Complexity : O(h)\n",
        "# Auxiliary Space : O(1)"
      ],
      "metadata": {
        "colab": {
          "base_uri": "https://localhost:8080/"
        },
        "id": "IJMnre0CISW3",
        "outputId": "2da1c1b9-f521-4140-d3c3-42815f5a6b54"
      },
      "execution_count": null,
      "outputs": [
        {
          "output_type": "stream",
          "name": "stdout",
          "text": [
            "None\n",
            "7\n"
          ]
        }
      ]
    },
    {
      "cell_type": "markdown",
      "source": [
        "# Ceiling in BST\n",
        "\n",
        "Efficient Solution\n",
        "\n",
        "1. If root's key is same as x, return root\n",
        "\n",
        "2. If root's key is smaller, then change root to root's right\n",
        "\n",
        "3. If root's key is greater, update the result as root and change root to root's left\n",
        "\n",
        "Time Complexity : O(h)\n",
        "\n",
        "Space Complexity : O(1)"
      ],
      "metadata": {
        "id": "vlM06mvcKccx"
      }
    },
    {
      "cell_type": "code",
      "source": [
        "def getCeil(root, k):\n",
        "    res = None\n",
        "    while root is not None:\n",
        "        if root.val == k:\n",
        "            return root\n",
        "        elif root.val < k:\n",
        "            root = root.right\n",
        "        else:\n",
        "            res = root\n",
        "            root = root.left\n",
        "    return res  # Moved this return statement outside the loop\n",
        "\n",
        "# Example usage:\n",
        "print(getCeil(head, 21).val)\n",
        "print(getCeil(head, 7).val)\n"
      ],
      "metadata": {
        "colab": {
          "base_uri": "https://localhost:8080/"
        },
        "id": "FjU8tp9aKE7l",
        "outputId": "19d3eb68-75cf-47a4-da84-006890051dfc"
      },
      "execution_count": null,
      "outputs": [
        {
          "output_type": "stream",
          "name": "stdout",
          "text": [
            "35\n",
            "7\n"
          ]
        }
      ]
    },
    {
      "cell_type": "code",
      "source": [
        "class Node:\n",
        "    def __init__(self, key):\n",
        "        self.left = None\n",
        "        self.right = None\n",
        "        self.val = key\n",
        "\n",
        "def findCeil(root, x):\n",
        "    res = None\n",
        "    while root:\n",
        "        if root.val == x:\n",
        "            return root.val\n",
        "        if root.val < x:\n",
        "            root = root.right\n",
        "        else:\n",
        "            res = root.val\n",
        "            root = root.left\n",
        "    return res\n",
        "\n",
        "# Create the BST\n",
        "root = Node(8)\n",
        "root.left = Node(4)\n",
        "root.right = Node(12)\n",
        "root.left.left = Node(2)\n",
        "root.left.right = Node(6)\n",
        "root.right.left = Node(10)\n",
        "root.right.right = Node(14)\n",
        "\n",
        "x = 5\n",
        "result = findCeil(root, x)\n",
        "print(f\"Ceil of {x} is {result}\")\n",
        "\n",
        "# Time Complexity : O(h)\n",
        "# Auxiliary Space : O(1)"
      ],
      "metadata": {
        "colab": {
          "base_uri": "https://localhost:8080/"
        },
        "id": "4QXFNGB9OGSv",
        "outputId": "66999f8a-35e3-4f1f-a903-4f936a0d362c"
      },
      "execution_count": null,
      "outputs": [
        {
          "output_type": "stream",
          "name": "stdout",
          "text": [
            "Ceil of 5 is 6\n"
          ]
        }
      ]
    },
    {
      "cell_type": "markdown",
      "source": [
        "# Self Balancing BST\n",
        "\n",
        "Idea : Keep the height as O(logn)\n",
        "\n",
        "Background : SameSet of keys can make different height BSTs\n",
        "\n",
        "\n",
        "\n",
        "Order 1 :\n",
        "\n",
        "         7\n",
        "          \\\n",
        "           10\n",
        "             \\\n",
        "              11\n",
        "                \\\n",
        "                 15\n",
        "                   \\\n",
        "                    30\n",
        "                      \\\n",
        "                       35\n",
        "                        \\\n",
        "                         40\n",
        "\n",
        "\n",
        "Order 2  :\n",
        "\n",
        "\n",
        "             15\n",
        "           /    \\\n",
        "         10      35\n",
        "        /  \\    /  \\\n",
        "       7   11  30   40\n",
        "\n",
        "\n",
        "\n",
        "-> If we know keys in advance, we can make a perfectly balanced BST\n",
        "\n",
        "-> How to keep it balanced when random insertions/deletions happening..?\n",
        "\n",
        "-> Restructing (or re-balancing) when doing insertions/deletions\n",
        "\n",
        "\n",
        "--> Insert 100, 200, 300\n",
        "\n",
        "\n",
        "         100    --->      100               100\n",
        "                             \\       --->     \\     restructing\n",
        "                              200             200     --->             200\n",
        "                                                \\                     /   \\\n",
        "                                                300                 100    300\n",
        "\n",
        "\n",
        "### Rotation\n",
        "\n",
        "\n",
        "            P                               P\n",
        "            |                               |\n",
        "            x       Right Rotation          y\n",
        "          /   \\         ---->             /   \\\n",
        "         y     T3       <----            T1    x\n",
        "       /   \\        Left Rotation            /   \\\n",
        "      T1   T2                               T2   T3\n",
        "\n",
        "\n",
        "\n",
        "### Self - Balancing\n",
        "\n",
        "  - AVL Tree\n",
        "\n",
        "  - Red Black Tree\n",
        "\n",
        "\n",
        "\n",
        "### Applications of BST\n",
        "\n",
        "1. To maintain sorted stream of data (or sorted set of data)\n",
        "\n",
        "2. To implement doubly ended priority queue\n",
        "\n",
        "3. To Solve problems like:\n",
        "\n",
        "  - Count smaller/greater in a stream\n",
        "\n",
        "  - Floor/ceiling/greater/smaller in a stream"
      ],
      "metadata": {
        "id": "AAnCHC6dPlAs"
      }
    },
    {
      "cell_type": "markdown",
      "source": [
        "# AVL Tree\n",
        "\n",
        "- It is a BST\n",
        "\n",
        "- It is Balanced (For every node, difference b/w left and right heights does not exceed one)\n",
        "\n",
        "\n",
        "Balancing Factor : |lh - rh| < 1  \n",
        "\n",
        "\n",
        "Insert Operation :\n",
        "\n",
        "- Perform normal BST insert\n",
        "\n",
        "- Traverse all ancestors of the newly inserted node from the node to react\n",
        "\n",
        "- If find an unbalanced node check for any of the below cases\n",
        "\n",
        "Single Rotation\n",
        "\n",
        "  - Left    Left\n",
        "\n",
        "  - Right   Right\n",
        "\n",
        "Double Rotation\n",
        "\n",
        "  - Left    Right\n",
        "\n",
        "  - Right   Left\n",
        "\n",
        "\n",
        "\n",
        "Insert\n",
        "\n",
        "\n",
        "                   20           20\n",
        "      20   -->    /     -->    /      Right Rotation\n",
        "                15           15            ---->           15\n",
        "                            /                             /  \\\n",
        "                           5                             5    20\n",
        "\n"
      ],
      "metadata": {
        "id": "RHO6Jft02T10"
      }
    },
    {
      "cell_type": "markdown",
      "source": [
        "# Red Black Tree\n",
        "\n",
        "1. Every node is either Red or Black\n",
        "\n",
        "2. Root is always black\n",
        "\n",
        "3. No two consecutive Reds\n",
        "\n",
        "4. No.of black nodes from every node to all of its descandent leaves should be same\n",
        "\n",
        "\n",
        "                        20               --> Black\n",
        "                       /  \\\n",
        "                      15   30            --> Red\n",
        "                     /  \\    \\\n",
        "                   12    18   40         --> Black\n",
        "                  /          /  \\  \n",
        "                 7         35    50      --> Red\n",
        "\n",
        "\n",
        "No.of nodes on the path from a node to its farthest descendent leaf should not be more than twice than the no.of nodes on the path to its closest descendent leaf.\n"
      ],
      "metadata": {
        "id": "51siT33949NM"
      }
    },
    {
      "cell_type": "code",
      "source": [],
      "metadata": {
        "id": "po-pClpmOxUn"
      },
      "execution_count": null,
      "outputs": []
    }
  ]
}