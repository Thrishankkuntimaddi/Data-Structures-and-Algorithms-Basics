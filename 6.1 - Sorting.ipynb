{
  "nbformat": 4,
  "nbformat_minor": 0,
  "metadata": {
    "colab": {
      "provenance": [],
      "authorship_tag": "ABX9TyPZ/hHTkhO1ND7AQ+aesr90",
      "include_colab_link": true
    },
    "kernelspec": {
      "name": "python3",
      "display_name": "Python 3"
    },
    "language_info": {
      "name": "python"
    }
  },
  "cells": [
    {
      "cell_type": "markdown",
      "metadata": {
        "id": "view-in-github",
        "colab_type": "text"
      },
      "source": [
        "<a href=\"https://colab.research.google.com/github/Thrishankkuntimaddi/Data-Structures-and-Algorithms-Basics-/blob/main/6%20-%201%20-%20Sorting.ipynb\" target=\"_parent\"><img src=\"https://colab.research.google.com/assets/colab-badge.svg\" alt=\"Open In Colab\"/></a>"
      ]
    },
    {
      "cell_type": "markdown",
      "source": [
        "# Sorting\n",
        "\n",
        "sort()\n",
        "  - Works only for list\n",
        "  - modifies the smallest\n",
        "  - Sorts in place\n",
        "  - Use Tim Sort Algorithm\n",
        "\n",
        "sorted()\n",
        "  - Works for any iterable\n",
        "  - Does not modify the passes container, instead returns a list of sorted items\n",
        "\n",
        "\n",
        "NOTE : Both use Tim Sort Algorithm and Both are Stable"
      ],
      "metadata": {
        "id": "vmaLlBFrzVnH"
      }
    },
    {
      "cell_type": "markdown",
      "source": [
        "# Tim Sort Algorithm\n",
        "It's a hybrid algorithm that uses 'Merge Sort' and 'Insertion Sort; internally\n",
        "\n",
        "for sort() & sorted() it uses O(nlog(n)) time"
      ],
      "metadata": {
        "id": "ewSGJWGAz-mU"
      }
    },
    {
      "cell_type": "markdown",
      "source": [
        "# Sort()"
      ],
      "metadata": {
        "id": "XlHhksDT3PQg"
      }
    },
    {
      "cell_type": "code",
      "execution_count": null,
      "metadata": {
        "colab": {
          "base_uri": "https://localhost:8080/"
        },
        "id": "TCsBS7qVzANj",
        "outputId": "7aea2620-7044-449f-fbf7-9f991e755fda"
      },
      "outputs": [
        {
          "output_type": "stream",
          "name": "stdout",
          "text": [
            "[1, 5, 10, 15]\n"
          ]
        }
      ],
      "source": [
        "# List Sort()\n",
        "\n",
        "l1 = [5, 10, 15, 1]\n",
        "l1.sort()\n",
        "print(l1)"
      ]
    },
    {
      "cell_type": "code",
      "source": [
        "l2 = [5, 10, 15, 1]\n",
        "l2.sort(reverse = True)\n",
        "print(l2)"
      ],
      "metadata": {
        "colab": {
          "base_uri": "https://localhost:8080/"
        },
        "id": "cQ2nL6Za0Y-5",
        "outputId": "8a303a2b-fdfc-42ec-f7d2-676095887c6d"
      },
      "execution_count": null,
      "outputs": [
        {
          "output_type": "stream",
          "name": "stdout",
          "text": [
            "[15, 10, 5, 1]\n"
          ]
        }
      ]
    },
    {
      "cell_type": "code",
      "source": [
        "l3 = ['Thrishank', 'Nani', 'Kuntimaddi']\n",
        "l3.sort()\n",
        "print(l3)"
      ],
      "metadata": {
        "colab": {
          "base_uri": "https://localhost:8080/"
        },
        "id": "2N-m44bE0iHe",
        "outputId": "d4b3471f-d19e-4d68-8a29-19b8ff446fc1"
      },
      "execution_count": null,
      "outputs": [
        {
          "output_type": "stream",
          "name": "stdout",
          "text": [
            "['Kuntimaddi', 'Nani', 'Thrishank']\n"
          ]
        }
      ]
    },
    {
      "cell_type": "code",
      "source": [
        "def myfun(s):\n",
        "  return len(s)\n",
        "\n",
        "l4 = ['Thrishank', 'Nani', 'Kuntimaddi']\n",
        "l4.sort(key = myfun)\n",
        "print(l4)\n",
        "\n",
        "l4.sort(key = myfun, reverse = True)\n",
        "print(l4)"
      ],
      "metadata": {
        "colab": {
          "base_uri": "https://localhost:8080/"
        },
        "id": "xXXYBEjA0r7X",
        "outputId": "d4df80ad-72f3-4885-dfc4-eaf015bda2bb"
      },
      "execution_count": null,
      "outputs": [
        {
          "output_type": "stream",
          "name": "stdout",
          "text": [
            "['Nani', 'Thrishank', 'Kuntimaddi']\n",
            "['Kuntimaddi', 'Thrishank', 'Nani']\n"
          ]
        }
      ]
    },
    {
      "cell_type": "code",
      "source": [
        "# Recap for class concept\n",
        "\n",
        "class Point:\n",
        "  def __init__(self, x, y):\n",
        "    self.x = x\n",
        "    self.y = y\n",
        "\n",
        "def myFun(p):\n",
        "  return p.x\n",
        "\n",
        "l = [Point(1, 15), Point(10, 15), Point(3, 8)]\n",
        "# print(l)\n",
        "l.sort(key = myFun)\n",
        "for i in l:\n",
        "  print(i.x, i.y)\n",
        "\n",
        "print()\n",
        "\n",
        "print(l) # Returns a list of Objects"
      ],
      "metadata": {
        "colab": {
          "base_uri": "https://localhost:8080/"
        },
        "id": "_ZlzAPgE0-Ub",
        "outputId": "56193bb6-7dcb-49bc-8952-9f553b3297a7"
      },
      "execution_count": null,
      "outputs": [
        {
          "output_type": "stream",
          "name": "stdout",
          "text": [
            "[<__main__.Point object at 0x7ccb2b6cdfc0>, <__main__.Point object at 0x7ccb2b6ce890>, <__main__.Point object at 0x7ccb2b6cd0c0>]\n",
            "1 15\n",
            "3 8\n",
            "10 15\n",
            "\n",
            "[<__main__.Point object at 0x7ccb2b6cdfc0>, <__main__.Point object at 0x7ccb2b6cd0c0>, <__main__.Point object at 0x7ccb2b6ce890>]\n"
          ]
        }
      ]
    },
    {
      "cell_type": "code",
      "source": [
        "class Point:\n",
        "  def __init__(self, x, y):\n",
        "    self.x = x\n",
        "    self.y = y\n",
        "\n",
        "  def __lt__(self, other):   # Less than Operation\n",
        "    return self.x < other.x\n",
        "\n",
        "l = [Point(1, 15), Point(10, 15), Point(3, 8)]\n",
        "l.sort()\n",
        "for i in l:\n",
        "  print(i.x, i.y)"
      ],
      "metadata": {
        "colab": {
          "base_uri": "https://localhost:8080/"
        },
        "id": "TQBkroDv1dog",
        "outputId": "9a8545d6-25f7-487b-c569-c16ac5d3ed32"
      },
      "execution_count": null,
      "outputs": [
        {
          "output_type": "stream",
          "name": "stdout",
          "text": [
            "1 15\n",
            "3 8\n",
            "10 15\n"
          ]
        }
      ]
    },
    {
      "cell_type": "code",
      "source": [
        "# If both are equal then we compare y values\n",
        "\n",
        "class Point:\n",
        "  def __init__(self, x, y):\n",
        "    self.x = x\n",
        "    self.y = y\n",
        "\n",
        "  def __lt__(self, other):   # Less than Operation\n",
        "    if self.x == other.x:\n",
        "      return self.y < other.y\n",
        "    else:\n",
        "      return self.x < other.x\n",
        "\n",
        "l = [Point(1, 15), Point(10, 15), Point(3, 8)]\n",
        "l.sort()\n",
        "for i in l:\n",
        "  print(i.x, i.y)"
      ],
      "metadata": {
        "colab": {
          "base_uri": "https://localhost:8080/"
        },
        "id": "1RyAHW2v2Xf9",
        "outputId": "1bf8b733-b347-4620-c46f-66e25df90796"
      },
      "execution_count": null,
      "outputs": [
        {
          "output_type": "stream",
          "name": "stdout",
          "text": [
            "1 15\n",
            "3 8\n",
            "10 15\n"
          ]
        }
      ]
    },
    {
      "cell_type": "markdown",
      "source": [
        "# Sorted()\n",
        "  - Works for any Iterable (List, Tuple, Dictionary, Strings, Set)\n",
        "  - Returns a list with sorted items\n",
        "  - Parameters like reverse and key work same way as sort()"
      ],
      "metadata": {
        "id": "inGmHp7s3QnL"
      }
    },
    {
      "cell_type": "code",
      "source": [
        "l = [30, 8, 23, 76, 12, 1, 12]\n",
        "ls = sorted(l)\n",
        "print(ls)"
      ],
      "metadata": {
        "colab": {
          "base_uri": "https://localhost:8080/"
        },
        "id": "de9YNsOz3BbJ",
        "outputId": "d325cc2a-66e6-4990-b43a-6509df4b664f"
      },
      "execution_count": null,
      "outputs": [
        {
          "output_type": "stream",
          "name": "stdout",
          "text": [
            "[1, 8, 12, 12, 23, 30, 76]\n"
          ]
        }
      ]
    },
    {
      "cell_type": "code",
      "source": [
        "l = [10, -15, -2, 1]\n",
        "ls = sorted(l, key = abs)\n",
        "print(ls)\n",
        "\n",
        "print()\n",
        "\n",
        "ls = sorted(l, key = abs, reverse = True)\n",
        "print(ls)\n",
        "\n",
        "print()\n",
        "\n",
        "ls = sorted(l)\n",
        "print(ls)"
      ],
      "metadata": {
        "colab": {
          "base_uri": "https://localhost:8080/"
        },
        "id": "Qg7aHy5q3k7X",
        "outputId": "28391ba3-5be4-4028-f5f7-3f2cc15a9678"
      },
      "execution_count": null,
      "outputs": [
        {
          "output_type": "stream",
          "name": "stdout",
          "text": [
            "[1, -2, 10, -15]\n",
            "\n",
            "[-15, 10, -2, 1]\n",
            "\n",
            "[-15, -2, 1, 10]\n"
          ]
        }
      ]
    },
    {
      "cell_type": "code",
      "source": [
        "t = (10, 12, 5, 1)\n",
        "print(sorted(t))\n",
        "\n",
        "print()\n",
        "\n",
        "s = {'Thrishank', 'Nani', 'Kuntimaddi'}\n",
        "print(sorted(s))\n",
        "\n",
        "print()\n",
        "\n",
        "s = 'gfg'\n",
        "print(sorted(s))\n",
        "\n",
        "print()\n",
        "\n",
        "d = { 10 : 'Thrishank', 12 : 'Nani', 5 : 'Kuntimaddi'}\n",
        "print(sorted(d))\n",
        "\n",
        "print()\n",
        "\n",
        "l = [(10, 15), (12, 15), (3, 8)]\n",
        "print(sorted(l))"
      ],
      "metadata": {
        "colab": {
          "base_uri": "https://localhost:8080/"
        },
        "id": "qLL9wUA93yd2",
        "outputId": "42ebd7d0-207a-4a94-fcba-ca8ab53e7b2d"
      },
      "execution_count": null,
      "outputs": [
        {
          "output_type": "stream",
          "name": "stdout",
          "text": [
            "[1, 5, 10, 12]\n",
            "\n",
            "['Kuntimaddi', 'Nani', 'Thrishank']\n",
            "\n",
            "['f', 'g', 'g']\n",
            "\n",
            "[5, 10, 12]\n",
            "\n",
            "[(3, 8), (10, 15), (12, 15)]\n"
          ]
        }
      ]
    },
    {
      "cell_type": "markdown",
      "source": [
        "# Stability in Sorting Algorithms\n",
        "\n",
        "arr[] = [ ('Anil', 50), ('Ayan', 80), ('Pyush', 50), ('Ramesh', 80) ]\n",
        "\n",
        "If two items have same value, then they should appear in the same order as they appeared in the original array is called stability.\n",
        "\n",
        "stable output : [ ('Anil', 50), ('Pyush', 50), ('Ayan', 80), ('Ramesh', 80) ]\n",
        "\n",
        "unstable output : [ ('Pyush', 50), ('Anil', 50), ('Ayan', 80), ('Ramesh', 80) ]\n",
        "\n",
        "\n",
        "Stable Sorts\n",
        "\n",
        "  - Bubble Sort\n",
        "  - Insertion Sort\n",
        "  - Merge Sort\n",
        "\n",
        "Unstable Sorts\n",
        "\n",
        " - Selection Sort\n",
        " - Quick Sort\n",
        " - Heap Sort"
      ],
      "metadata": {
        "id": "_EUtTw2K4egJ"
      }
    },
    {
      "cell_type": "markdown",
      "source": [
        "# Bubble Sort\n",
        "\n",
        "Applications - Generally preferred in academics"
      ],
      "metadata": {
        "id": "bt59fKl56FRk"
      }
    },
    {
      "cell_type": "code",
      "source": [
        "# Naive Approach\n",
        "\n",
        "'''\n",
        "1. Compare each pair of adjacent items in the list.\n",
        "\n",
        "2. Swap them if the first item is larger than the second.\n",
        "\n",
        "3. Repeat until you pass through the list without any swaps.\n",
        "\n",
        "4. The list is sorted when no more swaps are needed.\n",
        "\n",
        "'''\n",
        "\n",
        "\n",
        "def bubbleSort(l):\n",
        "  n = len(l)\n",
        "  for i in range(n):\n",
        "    for j in range(n - i - 1):\n",
        "      if l[j] > l[j + 1]:\n",
        "        l[j], l[j + 1] = l[j + 1], l[j]\n",
        "\n",
        "l = [10, 12, 5, 1, 10, 4, 56, 100]\n",
        "bubbleSort(l)\n",
        "print(l)\n",
        "\n",
        "# Time Complexity : Theta(n^2)"
      ],
      "metadata": {
        "colab": {
          "base_uri": "https://localhost:8080/"
        },
        "id": "DxX8KmMR4XdG",
        "outputId": "8068ba1f-63a9-460e-ebe4-5ff6e984d7a6"
      },
      "execution_count": null,
      "outputs": [
        {
          "output_type": "stream",
          "name": "stdout",
          "text": [
            "[1, 4, 5, 10, 10, 12, 56, 100]\n"
          ]
        }
      ]
    },
    {
      "cell_type": "code",
      "source": [
        "# Optimized Approach\n",
        "\n",
        "def bubblesort(l):\n",
        "  n = len(l)\n",
        "  for i in range(n-1):\n",
        "    swapped = False\n",
        "    for j in range(n - i - 1):\n",
        "      if l[j] > l[j + 1]:\n",
        "        l[j], l[j + 1] = l[j + 1], l[j]\n",
        "        swapped = True\n",
        "    if swapped == False:\n",
        "      return\n",
        "\n",
        "l = [10, 12, 5, 1, 10, 4, 56, 100]\n",
        "bubblesort(l)\n",
        "print(l)\n",
        "\n",
        "# Time Complexity : Theta(n^2)"
      ],
      "metadata": {
        "colab": {
          "base_uri": "https://localhost:8080/"
        },
        "id": "8tWERupG6SKt",
        "outputId": "a01ef848-264d-40bf-e53d-c45542465319"
      },
      "execution_count": null,
      "outputs": [
        {
          "output_type": "stream",
          "name": "stdout",
          "text": [
            "[1, 4, 5, 10, 10, 12, 56, 100]\n"
          ]
        }
      ]
    },
    {
      "cell_type": "markdown",
      "source": [
        "# Selection Sort\n",
        "\n",
        " - Theta(n^2)\n",
        " - Does less memory writer comapred to Quick sort, Merge Sort, Insertion Sort. But Cycle sort is optimal in terms of memory\n",
        " - Basic idea for Heap Sort\n",
        " - Not Stable\n",
        " - In Place sort : No need for extra array or space"
      ],
      "metadata": {
        "id": "pMLWJ7yN7eZD"
      }
    },
    {
      "cell_type": "code",
      "source": [
        "# Approach\n",
        "\n",
        "def selectionSort(l):\n",
        "  n = len(l)\n",
        "\n",
        "  for i in range(n):\n",
        "    min_index = i\n",
        "    for j in range(i+1, n):\n",
        "      if l[j] < l[min_index]:\n",
        "        min_index = j\n",
        "    l[i], l[min_index] = l[min_index], l[i]\n",
        "\n",
        "l = [10, 12, 5, 1, 10, 4, 56, 100]\n",
        "selectionSort(l)\n",
        "print(l)\n",
        "\n",
        "# Time Complexity : Theta(1)"
      ],
      "metadata": {
        "colab": {
          "base_uri": "https://localhost:8080/"
        },
        "id": "IY-qqc0C7LhC",
        "outputId": "cb4c927b-3a53-44d5-a954-6d5b64c8c8d4"
      },
      "execution_count": null,
      "outputs": [
        {
          "output_type": "stream",
          "name": "stdout",
          "text": [
            "[1, 4, 5, 10, 10, 12, 56, 100]\n"
          ]
        }
      ]
    },
    {
      "cell_type": "markdown",
      "source": [
        "# Insertion Sort\n",
        "\n",
        " - O(n^2) : Worst Case\n",
        " - In-place and stable\n",
        " - used in practice for small arrays (Tim Sort & Intro Sort)\n",
        " - O(n) : Best Case"
      ],
      "metadata": {
        "id": "OKTaPtHu83PP"
      }
    },
    {
      "cell_type": "code",
      "source": [
        "# Approach\n",
        "\n",
        "def insertionSort(l):\n",
        "  for i in range(1, len(l)):\n",
        "    x = l[i]\n",
        "    j = i - 1\n",
        "    while j >= 0 and x < l[i]:\n",
        "      l[j + 1] = l[j]\n",
        "      j -= 1\n",
        "    l[j + 1] = x\n",
        "\n",
        "l = [10, 12, 5, 1, 10, 4, 56, 100]\n",
        "insertionSort(l)\n",
        "print(l)\n",
        "\n",
        "# Time Complexity : O(n) : Best Case\n",
        "#                   O(n^2) : Worst Case"
      ],
      "metadata": {
        "colab": {
          "base_uri": "https://localhost:8080/"
        },
        "id": "zgWCW8_68ycG",
        "outputId": "70d79343-f8b7-45f7-a603-be3f79b46538"
      },
      "execution_count": null,
      "outputs": [
        {
          "output_type": "stream",
          "name": "stdout",
          "text": [
            "[10, 12, 5, 1, 10, 4, 56, 100]\n"
          ]
        }
      ]
    },
    {
      "cell_type": "code",
      "source": [],
      "metadata": {
        "id": "CH13NWyL9gGD"
      },
      "execution_count": null,
      "outputs": []
    }
  ]
}
