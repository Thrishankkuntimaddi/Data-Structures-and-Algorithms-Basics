{
  "nbformat": 4,
  "nbformat_minor": 0,
  "metadata": {
    "colab": {
      "provenance": [],
      "authorship_tag": "ABX9TyMwfnewGDOJWyilXhjTBr1C",
      "include_colab_link": true
    },
    "kernelspec": {
      "name": "python3",
      "display_name": "Python 3"
    },
    "language_info": {
      "name": "python"
    }
  },
  "cells": [
    {
      "cell_type": "markdown",
      "metadata": {
        "id": "view-in-github",
        "colab_type": "text"
      },
      "source": [
        "<a href=\"https://colab.research.google.com/github/Thrishankkuntimaddi/Data-Structures-and-Algorithms-Basics-/blob/main/14%20-%20Stack.ipynb\" target=\"_parent\"><img src=\"https://colab.research.google.com/assets/colab-badge.svg\" alt=\"Open In Colab\"/></a>"
      ]
    },
    {
      "cell_type": "markdown",
      "source": [
        "# Stack\n",
        "\n",
        "10 | 20 | 30 | 40 | --> push(x) | pop()\n",
        "\n",
        "Last IN First OUT\n",
        "\n",
        "### Operations\n",
        "\n",
        "isEmpty() : if stack is empty returns True\n",
        "\n",
        "push(x) : Insert an item to the top of Stack\n",
        "\n",
        "pop() : Removes an item from the top\n",
        "\n",
        "peek() : Returns top item\n",
        "\n",
        "size() : Returns the size\n",
        "\n",
        "\n",
        "UnderFlow : When pop() and peek() called no empty stack\n",
        "\n",
        "OverFlow : when push() called on a Full Stack\n",
        "\n",
        "\n",
        "Stack in Python\n",
        "\n",
        "1. Using List\n",
        "\n",
        "2. Using collection.deque\n",
        "\n",
        "3. Using queue.LIFOQueue (Advanced Topic)\n",
        "\n",
        "4. Using our own Implementation"
      ],
      "metadata": {
        "id": "_Gv95Qsf_kwv"
      }
    },
    {
      "cell_type": "code",
      "execution_count": null,
      "metadata": {
        "colab": {
          "base_uri": "https://localhost:8080/"
        },
        "id": "0LrZnUmg_gSA",
        "outputId": "0aa38b4e-3e92-4549-d833-2a7004847312"
      },
      "outputs": [
        {
          "output_type": "stream",
          "name": "stdout",
          "text": [
            "Initial Stack\n",
            "['a', 'b', 'c']\n",
            "\n",
            "Elements poped from stack\n",
            "c\n",
            "b\n",
            "a\n",
            "\n",
            "Stack after elements are poped\n",
            "[]\n"
          ]
        }
      ],
      "source": [
        "# Method 1 : Using List\n",
        "\n",
        "stack = []\n",
        "\n",
        "stack.append('a')\n",
        "stack.append('b')\n",
        "stack.append('c')\n",
        "\n",
        "print('Initial Stack')\n",
        "print(stack)\n",
        "\n",
        "print('\\nElements poped from stack')\n",
        "print(stack.pop())\n",
        "print(stack.pop())\n",
        "print(stack.pop())\n",
        "\n",
        "print('\\nStack after elements are poped')\n",
        "print(stack)\n"
      ]
    },
    {
      "cell_type": "code",
      "source": [
        "# Method 2 : using deque\n",
        "\n",
        "from collections import deque\n",
        "\n",
        "stack = deque()\n",
        "stack.append('a')\n",
        "stack.append('b')\n",
        "stack.append('c')\n",
        "\n",
        "print(stack.pop())\n",
        "print(stack.pop())\n",
        "\n",
        "top = stack[-1]\n",
        "print(top)\n",
        "\n",
        "print(len(stack))"
      ],
      "metadata": {
        "colab": {
          "base_uri": "https://localhost:8080/"
        },
        "id": "s1ZGD-diAx05",
        "outputId": "a9fa26a4-18af-40b6-82b2-191743a45272"
      },
      "execution_count": null,
      "outputs": [
        {
          "output_type": "stream",
          "name": "stdout",
          "text": [
            "c\n",
            "b\n",
            "a\n",
            "1\n"
          ]
        }
      ]
    },
    {
      "cell_type": "code",
      "source": [
        "# Linked List Implementation\n",
        "\n",
        "class Node:\n",
        "  def __init__(self, value):\n",
        "    self.value = value\n",
        "    self.next = None\n",
        "\n",
        "class myStack:\n",
        "  def __init__(self):\n",
        "    self.head = None\n",
        "    self.size = 0\n",
        "\n",
        "  def push(self, value):\n",
        "    node = Node(value)\n",
        "    if self.head:\n",
        "      node.next = self.head\n",
        "    self.head = node\n",
        "    self.size += 1\n",
        "\n",
        "  def pop(self):\n",
        "    if self.head:\n",
        "      temp = self.head\n",
        "      self.head = self.head.next\n",
        "      self.size -= 1\n",
        "      return temp.value\n",
        "    else:\n",
        "      return None\n",
        "\n",
        "  def peek(self):\n",
        "    if self.head:\n",
        "      return self.head.value\n",
        "    else:\n",
        "      return None\n",
        "\n",
        "  def sizes(self):\n",
        "    return self.size\n",
        "\n",
        "def printList(head):\n",
        "  temp = head\n",
        "  while temp:\n",
        "    print(temp.value, end = \" \")\n",
        "    temp = temp.next\n",
        "\n",
        "s = myStack()\n",
        "s.push(1)\n",
        "s.push(2)\n",
        "s.push(3)\n",
        "printList(s.head)\n",
        "print()\n",
        "print(s.sizes())\n",
        "print(s.pop())\n",
        "print(s.peek())\n",
        "\n",
        "# Time Complexity : O(1)"
      ],
      "metadata": {
        "colab": {
          "base_uri": "https://localhost:8080/"
        },
        "id": "kVsCT85eBElL",
        "outputId": "b47afe30-d09d-443e-86f2-e4d09a432dae"
      },
      "execution_count": null,
      "outputs": [
        {
          "output_type": "stream",
          "name": "stdout",
          "text": [
            "3 2 1 \n",
            "3\n",
            "3\n",
            "2\n"
          ]
        }
      ]
    },
    {
      "cell_type": "markdown",
      "source": [
        "# Applications of Stack\n",
        "\n",
        "1. Function calls\n",
        "\n",
        "2. Balanced parenthesis\n",
        "\n",
        "3. Reversing Items\n",
        "\n",
        "4. Infix to Postfix/prefix\n",
        "\n",
        "5. Evaluation of Postfix/prefix\n",
        "\n",
        "6. Stock spam problem\n",
        "\n",
        "7. Undo/Redo or Forward/Backward"
      ],
      "metadata": {
        "id": "XwBGUSrqB1Ct"
      }
    },
    {
      "cell_type": "markdown",
      "source": [
        "# Check for Balanced parenthesis\n",
        "\n",
        "I/P : s = '([])'\n",
        "\n",
        "O/P : Yes\n",
        "\n",
        "I/P : s = '([)]'\n",
        "\n",
        "O/P : No"
      ],
      "metadata": {
        "id": "W_qHfo_sCX6_"
      }
    },
    {
      "cell_type": "code",
      "source": [
        "def isBalanced(s):\n",
        "  stack = []\n",
        "  for x in expr:\n",
        "    if x in ['(', '{', '[']:\n",
        "      stack.append(x)\n",
        "    else:\n",
        "      if not stack:\n",
        "        return False\n",
        "      elif isMarching(stack[-1], x) == False:\n",
        "        return False\n",
        "      else:\n",
        "        stack.pop()\n",
        "  if not stack:\n",
        "    return True\n",
        "  else:\n",
        "    return False\n",
        "\n",
        "def isMarching(a, b):\n",
        "  if a == '(' and b == ')':\n",
        "    return True\n",
        "  elif a == '{' and b == '}':\n",
        "    return True\n",
        "  elif a == '[' and b == ']':\n",
        "    return True\n",
        "  else:\n",
        "    return False\n",
        "\n",
        "expr = input()\n",
        "if isBalanced(expr):\n",
        "  print('Yes')\n",
        "else:\n",
        "  print('No')\n",
        "\n",
        "# Time Complexity : O(n)"
      ],
      "metadata": {
        "colab": {
          "base_uri": "https://localhost:8080/"
        },
        "id": "2idP9HWSBiiP",
        "outputId": "7d854c6d-fcbf-4805-ab46-8030f89f321d"
      },
      "execution_count": null,
      "outputs": [
        {
          "output_type": "stream",
          "name": "stdout",
          "text": [
            "((()))\n",
            "Yes\n"
          ]
        }
      ]
    },
    {
      "cell_type": "code",
      "source": [],
      "metadata": {
        "id": "0Xa_MzyoC4bF"
      },
      "execution_count": null,
      "outputs": []
    }
  ]
}