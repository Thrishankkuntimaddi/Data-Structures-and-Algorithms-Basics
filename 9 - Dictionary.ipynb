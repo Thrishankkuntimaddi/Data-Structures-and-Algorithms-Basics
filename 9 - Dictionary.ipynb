{
  "nbformat": 4,
  "nbformat_minor": 0,
  "metadata": {
    "colab": {
      "provenance": [],
      "authorship_tag": "ABX9TyMN/5xUgNjnpMWU4A/sDLk8",
      "include_colab_link": true
    },
    "kernelspec": {
      "name": "python3",
      "display_name": "Python 3"
    },
    "language_info": {
      "name": "python"
    }
  },
  "cells": [
    {
      "cell_type": "markdown",
      "metadata": {
        "id": "view-in-github",
        "colab_type": "text"
      },
      "source": [
        "<a href=\"https://colab.research.google.com/github/Thrishankkuntimaddi/Data-Structures-and-Algorithms-Basics-/blob/main/9%20-%20Dictionary.ipynb\" target=\"_parent\"><img src=\"https://colab.research.google.com/assets/colab-badge.svg\" alt=\"Open In Colab\"/></a>"
      ]
    },
    {
      "cell_type": "markdown",
      "source": [
        "# Dictionary in Python\n",
        "\n",
        "1. Collection of key-value pairs\n",
        "\n",
        "2. Unordered\n",
        "\n",
        "3. All keys must be distinct\n",
        "\n",
        "4. Values maybe repeated\n",
        "\n",
        "5. Uses Hashing internally"
      ],
      "metadata": {
        "id": "xtA2t7l1kvr0"
      }
    },
    {
      "cell_type": "code",
      "execution_count": null,
      "metadata": {
        "id": "bGPoCtedktXt"
      },
      "outputs": [],
      "source": [
        "d = {110 : 'xyz', 101 : 'abc', 105 : 'pqr'}\n",
        "print(d)\n",
        "\n",
        "d ={}\n",
        "d[110] = 'xyz'\n",
        "d[101] = 'abc'\n",
        "d[105] = 'pqr'\n",
        "print(d)\n",
        "\n",
        "print(d.keys())\n",
        "print(d.values())\n",
        "print(d.items())\n",
        "\n",
        "print(d[101])\n",
        "\n",
        "print(d.get(101))\n",
        "\n",
        "print(d.pop(101))\n",
        "print(d)\n",
        "\n",
        "print(d.popitem())\n",
        "print(d)"
      ]
    },
    {
      "cell_type": "code",
      "source": [],
      "metadata": {
        "id": "j6cYAr_5lKVN"
      },
      "execution_count": null,
      "outputs": []
    }
  ]
}