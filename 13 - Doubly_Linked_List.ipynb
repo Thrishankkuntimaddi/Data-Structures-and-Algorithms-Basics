{
  "nbformat": 4,
  "nbformat_minor": 0,
  "metadata": {
    "colab": {
      "provenance": [],
      "authorship_tag": "ABX9TyN7+EGOSKG/xPwFqbqKtYLr",
      "include_colab_link": true
    },
    "kernelspec": {
      "name": "python3",
      "display_name": "Python 3"
    },
    "language_info": {
      "name": "python"
    }
  },
  "cells": [
    {
      "cell_type": "markdown",
      "metadata": {
        "id": "view-in-github",
        "colab_type": "text"
      },
      "source": [
        "<a href=\"https://colab.research.google.com/github/Thrishankkuntimaddi/Data-Structures-and-Algorithms-Basics-/blob/main/13%20-%20Doubly_Linked_List.ipynb\" target=\"_parent\"><img src=\"https://colab.research.google.com/assets/colab-badge.svg\" alt=\"Open In Colab\"/></a>"
      ]
    },
    {
      "cell_type": "markdown",
      "source": [
        "# Doubly Linked List\n",
        "\n",
        "\n",
        "None <--> 10 <--> 20 <--> 30 <--> None"
      ],
      "metadata": {
        "id": "qKYuNyI179pp"
      }
    },
    {
      "cell_type": "code",
      "execution_count": null,
      "metadata": {
        "colab": {
          "base_uri": "https://localhost:8080/"
        },
        "id": "xrLXqznM75bB",
        "outputId": "15dd4d9e-9598-4cee-c290-afc1221699fc"
      },
      "outputs": [
        {
          "output_type": "stream",
          "name": "stdout",
          "text": [
            "10\n",
            "20\n",
            "30\n"
          ]
        }
      ],
      "source": [
        "class Node:\n",
        "  def __init__(self, data):\n",
        "    self.data = data\n",
        "    self.prev = None\n",
        "    self.next = None\n",
        "\n",
        "head = Node(10)\n",
        "temp1 = Node(20)\n",
        "temp2 = Node(30)\n",
        "\n",
        "head.next = temp1\n",
        "temp1.prev = head\n",
        "\n",
        "temp1.next = temp2\n",
        "temp2.prev = temp1\n",
        "\n",
        "temp = head\n",
        "while temp is not None:\n",
        "  print(temp.data)\n",
        "  temp = temp.next"
      ]
    },
    {
      "cell_type": "markdown",
      "source": [
        "# Advantages\n",
        "\n",
        "1. can be traversed in both directions\n",
        "\n",
        "2. A given delete a node in O(1) time with given reference/pointer to it\n",
        "\n",
        "3. Insert/Delete before a given node\n",
        "\n",
        "4. Insert/Delete from both ends in O(1) time by maintaining tail\n",
        "\n",
        "# Disadvantages\n",
        "\n",
        "1. Extra Space for prev\n",
        "\n",
        "2. Code becomes more complex"
      ],
      "metadata": {
        "id": "nYlt4-cz8kQb"
      }
    },
    {
      "cell_type": "markdown",
      "source": [
        "# Insert at beginning"
      ],
      "metadata": {
        "id": "-2sUrRSI9oIr"
      }
    },
    {
      "cell_type": "code",
      "source": [
        "# Insert at beginning\n",
        "\n",
        "class Node:\n",
        "  def __init__(self, data):\n",
        "    self.data = data\n",
        "    self.prev = None\n",
        "    self.next = None\n",
        "\n",
        "def printList(head):\n",
        "    temp = head\n",
        "    while temp is not None:\n",
        "      print(temp.data, end = ' ')\n",
        "      temp = temp.next\n",
        "\n",
        "def insertAtBeginning(head, data):\n",
        "    temp = Node(data)\n",
        "    temp.next = head\n",
        "    head.prev = temp\n",
        "    return temp\n",
        "\n",
        "head = Node(10)\n",
        "temp1 = Node(20)\n",
        "temp2 = Node(30)\n",
        "\n",
        "head.next = temp1\n",
        "temp1.prev = head\n",
        "\n",
        "temp1.next = temp2\n",
        "temp2.prev = temp1\n",
        "\n",
        "head = insertAtBeginning(head, 5)\n",
        "\n",
        "printList(head)\n",
        "\n",
        "# Time Complexity : O(1)"
      ],
      "metadata": {
        "colab": {
          "base_uri": "https://localhost:8080/"
        },
        "id": "cSgdW_iz8XwQ",
        "outputId": "da0cadb3-a642-4a09-91e5-9fdf2d725dd0"
      },
      "execution_count": null,
      "outputs": [
        {
          "output_type": "stream",
          "name": "stdout",
          "text": [
            "5 10 20 30 "
          ]
        }
      ]
    },
    {
      "cell_type": "markdown",
      "source": [
        "# Insert at the End"
      ],
      "metadata": {
        "id": "K1Upq31c9kis"
      }
    },
    {
      "cell_type": "code",
      "source": [
        "def insertEnd(head, x):\n",
        "  temp = Node(x)\n",
        "  if head == None:\n",
        "    return temp\n",
        "\n",
        "  curr = head\n",
        "  while curr.next is not None:\n",
        "    curr = curr.next\n",
        "\n",
        "  curr.next = temp\n",
        "  temp.prev = curr\n",
        "\n",
        "  return head\n",
        "\n",
        "head = insertEnd(head, 40)\n",
        "printList(head)"
      ],
      "metadata": {
        "colab": {
          "base_uri": "https://localhost:8080/"
        },
        "id": "J-QZ-AwH9QRA",
        "outputId": "ab8062f7-6334-4839-d4cd-ea6e2527c20a"
      },
      "execution_count": null,
      "outputs": [
        {
          "output_type": "stream",
          "name": "stdout",
          "text": [
            "5 10 20 30 40 "
          ]
        }
      ]
    },
    {
      "cell_type": "markdown",
      "source": [
        "# Delete head"
      ],
      "metadata": {
        "id": "8jgI676w-S6D"
      }
    },
    {
      "cell_type": "code",
      "source": [
        "def delHead(head):\n",
        "  if head == None:\n",
        "    return None\n",
        "\n",
        "  if head.next == None:\n",
        "    return None\n",
        "\n",
        "  head = head.next\n",
        "  head.prev = None\n",
        "  return head\n",
        "\n",
        "head = delHead(head)\n",
        "printList(head)"
      ],
      "metadata": {
        "colab": {
          "base_uri": "https://localhost:8080/"
        },
        "id": "cpieksJO-CK6",
        "outputId": "599d33a1-f34c-465e-c7ca-1b461807ccd4"
      },
      "execution_count": null,
      "outputs": [
        {
          "output_type": "stream",
          "name": "stdout",
          "text": [
            "10 20 30 40 "
          ]
        }
      ]
    },
    {
      "cell_type": "markdown",
      "source": [
        "# Delete last Node"
      ],
      "metadata": {
        "id": "0Hb1Cjf--kyA"
      }
    },
    {
      "cell_type": "code",
      "source": [
        "def delEnd(head):\n",
        "  if head == None:\n",
        "    return None\n",
        "\n",
        "  if head.next == None:\n",
        "    return None\n",
        "\n",
        "  curr = head\n",
        "  while curr.next.next is not None:\n",
        "    curr = curr.next\n",
        "\n",
        "  curr.next = None\n",
        "  return head\n",
        "\n",
        "head = delEnd(head)\n",
        "printList(head)"
      ],
      "metadata": {
        "colab": {
          "base_uri": "https://localhost:8080/"
        },
        "id": "JyQnr9ih-YC3",
        "outputId": "b9e286ee-a57f-40d9-c1fc-32af47b340ef"
      },
      "execution_count": null,
      "outputs": [
        {
          "output_type": "stream",
          "name": "stdout",
          "text": [
            "10 20 30 "
          ]
        }
      ]
    },
    {
      "cell_type": "markdown",
      "source": [
        "# Reverse a Double Linked List"
      ],
      "metadata": {
        "id": "NcxC79_E_AZt"
      }
    },
    {
      "cell_type": "code",
      "source": [
        "def reverseDLL(head):\n",
        "  if head == None:\n",
        "    return None\n",
        "\n",
        "  if head.next == None:\n",
        "    return head\n",
        "\n",
        "  curr = head\n",
        "  prev = None\n",
        "\n",
        "  while curr != None:\n",
        "    prev = curr\n",
        "    curr.next, curr.prev = curr.prev, curr.next\n",
        "    curr = curr.prev\n",
        "\n",
        "  return prev\n",
        "\n",
        "head = reverseDLL(head)\n",
        "printList(head)"
      ],
      "metadata": {
        "colab": {
          "base_uri": "https://localhost:8080/"
        },
        "id": "nr7tCdGU-tKX",
        "outputId": "7c0c938d-6c19-4b5a-c39a-0b4c01ccf0f8"
      },
      "execution_count": null,
      "outputs": [
        {
          "output_type": "stream",
          "name": "stdout",
          "text": [
            "30 20 10 "
          ]
        }
      ]
    }
  ]
}