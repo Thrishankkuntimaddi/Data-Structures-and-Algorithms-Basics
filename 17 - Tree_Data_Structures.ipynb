{
  "nbformat": 4,
  "nbformat_minor": 0,
  "metadata": {
    "colab": {
      "provenance": [],
      "authorship_tag": "ABX9TyOIuKMR5/rBbw4wqSBl7LSJ",
      "include_colab_link": true
    },
    "kernelspec": {
      "name": "python3",
      "display_name": "Python 3"
    },
    "language_info": {
      "name": "python"
    }
  },
  "cells": [
    {
      "cell_type": "markdown",
      "metadata": {
        "id": "view-in-github",
        "colab_type": "text"
      },
      "source": [
        "<a href=\"https://colab.research.google.com/github/Thrishankkuntimaddi/Data-Structures-and-Algorithms-Basics-/blob/main/17%20-%20Tree_Data_Structures.ipynb\" target=\"_parent\"><img src=\"https://colab.research.google.com/assets/colab-badge.svg\" alt=\"Open In Colab\"/></a>"
      ]
    },
    {
      "cell_type": "markdown",
      "source": [
        "# Tree Data Structure\n",
        "\n",
        "-> Non Linear Data Structure\n",
        "\n",
        "  - node\n",
        "  \n",
        "  - child\n",
        "\n",
        "  - root\n",
        "\n",
        "  - leaf\n",
        "\n",
        "  - parent\n",
        "\n",
        "  - subtree\n",
        "\n",
        "  - descendants\n",
        "\n",
        "  - ancestors\n",
        "\n",
        "  - degree"
      ],
      "metadata": {
        "id": "w2ZeZ7Vrwi0_"
      }
    },
    {
      "cell_type": "markdown",
      "source": [
        "# Applications\n",
        "\n",
        "-> To represent hierarchical data\n",
        "\n",
        "  - organization structure\n",
        "\n",
        "  - Folder structure\n",
        "\n",
        "  - XML/HTML content (JSON Objects)\n",
        "\n",
        "  - In OOPS : Inheritance\n",
        "\n",
        "-> Binary Search Tree\n",
        "\n",
        "-> Binary Heap\n",
        "\n",
        "-> B and B+ Trees in DBMS\n",
        "\n",
        "-> Spanning and shortest path trees in computer networks\n",
        "\n",
        "-> Parse Trees, Expression Tree in Compilers\n",
        "\n",
        "\n",
        "### Variations\n",
        "\n",
        "-> Trie\n",
        "\n",
        "-> Suffix Tree\n",
        "\n",
        "-> Binary Index Tree\n",
        "\n",
        "-> Segment Tree"
      ],
      "metadata": {
        "id": "DzkDB9pRw70f"
      }
    },
    {
      "cell_type": "markdown",
      "source": [
        "# Binary Tree\n",
        "\n",
        "             30\n",
        "\n",
        "         40      50\n",
        "\n",
        "     70      60      80\n"
      ],
      "metadata": {
        "id": "UCDCwu1x1Lil"
      }
    },
    {
      "cell_type": "code",
      "execution_count": null,
      "metadata": {
        "colab": {
          "base_uri": "https://localhost:8080/"
        },
        "id": "Lu3Mcs89wVzj",
        "outputId": "3d56f470-1f76-4f68-9005-e374ea728d26"
      },
      "outputs": [
        {
          "output_type": "stream",
          "name": "stdout",
          "text": [
            "30 40 70 60 50 80 "
          ]
        }
      ],
      "source": [
        "class Node:\n",
        "  def __init__(self, k):\n",
        "    self.key = k\n",
        "    self.left = None\n",
        "    self.right = None\n",
        "\n",
        "def print_tree(root):\n",
        "  if root:\n",
        "    print(root.key, end = \" \")\n",
        "    print_tree(root.left)\n",
        "    print_tree(root.right)\n",
        "\n",
        "root = Node(30)\n",
        "root.left = Node(40)\n",
        "root.right = Node(50)\n",
        "root.left.left = Node(70)\n",
        "root.left.right = Node(60)\n",
        "root.right.right = Node(80)\n",
        "\n",
        "print_tree(root)\n"
      ]
    },
    {
      "cell_type": "markdown",
      "source": [
        "# Tree Traversal\n",
        "\n",
        "-> Breadth First (or Level Order)\n",
        "\n",
        "-> Depth First\n",
        "\n",
        "    - Inorder\n",
        "\n",
        "    - Preorder\n",
        "\n",
        "    - Postorder\n",
        "\n",
        "-> Inorder   : Left   Root    Right\n",
        "\n",
        "-> Preorder  : Root   Left    Right\n",
        "\n",
        "-> Postorder : Left   Right   Root\n",
        "\n",
        "\n",
        "### Consider Tree\n",
        "\n",
        "\n",
        "              10\n",
        "            /    \\\n",
        "          20      30\n",
        "        /    \\      \\\n",
        "      40      50     60\n",
        "            /    \\   \n",
        "          70      80\n",
        "\n",
        "Inorder    : 40, 20, 70, 50, 80, 10, 30, 60\n",
        "\n",
        "Preorder   : 10, 20, 40, 50, 70, 80, 30, 60\n",
        "\n",
        "Postorder  : 40, 70, 80, 50, 20, 60, 30, 10"
      ],
      "metadata": {
        "id": "RbzKySwR2rKK"
      }
    },
    {
      "cell_type": "markdown",
      "source": [
        "### Considering this Tree\n",
        "\n",
        "            30\n",
        "           /  \\\n",
        "         40    50\n",
        "        /  \\     \\\n",
        "      70    60    80"
      ],
      "metadata": {
        "id": "iXYBsIPF6otr"
      }
    },
    {
      "cell_type": "markdown",
      "source": [
        "# Inorder Traversal"
      ],
      "metadata": {
        "id": "FS1Uuwmv4g4c"
      }
    },
    {
      "cell_type": "code",
      "source": [
        "def inorder(root):\n",
        "  if root != None:\n",
        "    inorder(root.left)\n",
        "    print(root.key, end=\" \")\n",
        "    inorder(root.right)\n",
        "\n",
        "inorder(root)\n",
        "\n",
        "# Time Complexity :  Θ(n)\n",
        "# Auxiliary Space :  Θ(n)"
      ],
      "metadata": {
        "colab": {
          "base_uri": "https://localhost:8080/"
        },
        "id": "TD2_oA-t2TIg",
        "outputId": "adff6585-fbca-4171-db01-d11296d6e79a"
      },
      "execution_count": null,
      "outputs": [
        {
          "output_type": "stream",
          "name": "stdout",
          "text": [
            "70 40 60 30 50 80 "
          ]
        }
      ]
    },
    {
      "cell_type": "markdown",
      "source": [
        "# Pre Order Traversal"
      ],
      "metadata": {
        "id": "yjlfpyCI5Drm"
      }
    },
    {
      "cell_type": "code",
      "source": [
        "def preorder(root):\n",
        "  if root != None:\n",
        "    print(root.key, end=\" \")\n",
        "    preorder(root.left)\n",
        "    preorder(root.right)\n",
        "\n",
        "preorder(root)\n",
        "\n",
        "# Time Complexity :  Θ(n)\n",
        "# Auxiliary Space :  Θ(n)"
      ],
      "metadata": {
        "colab": {
          "base_uri": "https://localhost:8080/"
        },
        "id": "uJ8vueif4ov9",
        "outputId": "0e537fa0-7ea9-4767-c494-7bb9494aad5d"
      },
      "execution_count": null,
      "outputs": [
        {
          "output_type": "stream",
          "name": "stdout",
          "text": [
            "30 40 70 60 50 80 "
          ]
        }
      ]
    },
    {
      "cell_type": "markdown",
      "source": [
        "# Post Order Traversal"
      ],
      "metadata": {
        "id": "3I15Ua0L5QIO"
      }
    },
    {
      "cell_type": "code",
      "source": [
        "def postorder(root):\n",
        "  if root != None:\n",
        "    postorder(root.left)\n",
        "    postorder(root.right)\n",
        "    print(root.key, end=\" \")\n",
        "\n",
        "postorder(root)\n",
        "\n",
        "# Time Complexity :  Θ(n)\n",
        "# Auxiliary Space :  Θ(n)"
      ],
      "metadata": {
        "colab": {
          "base_uri": "https://localhost:8080/"
        },
        "id": "0WOPDtVe5Jt2",
        "outputId": "1cc85422-7ef7-42e4-db2d-1622d7649d86"
      },
      "execution_count": null,
      "outputs": [
        {
          "output_type": "stream",
          "name": "stdout",
          "text": [
            "70 60 40 80 50 30 "
          ]
        }
      ]
    },
    {
      "cell_type": "markdown",
      "source": [
        "# Height of Binary Tree\n",
        "\n",
        "I/P :\n",
        "\n",
        "            30\n",
        "           /  \\\n",
        "         40    50\n",
        "        /  \\     \\\n",
        "      70    60    80\n",
        "\n",
        "\n",
        "O/P : 3"
      ],
      "metadata": {
        "id": "82d_laKl5XUp"
      }
    },
    {
      "cell_type": "code",
      "source": [
        "def height(root):\n",
        "  if root == None:\n",
        "    return 0\n",
        "  else:\n",
        "    lth = height(root.left)\n",
        "    rth = height(root.right)\n",
        "    return max(lth, rth) + 1\n",
        "\n",
        "height(root)"
      ],
      "metadata": {
        "colab": {
          "base_uri": "https://localhost:8080/"
        },
        "id": "XLmSYZ9o5VDV",
        "outputId": "c68d3434-6e3a-4006-daf8-22bd33864d8c"
      },
      "execution_count": null,
      "outputs": [
        {
          "output_type": "execute_result",
          "data": {
            "text/plain": [
              "3"
            ]
          },
          "metadata": {},
          "execution_count": 16
        }
      ]
    },
    {
      "cell_type": "markdown",
      "source": [
        "# Print Node at distance K\n",
        "\n",
        "I/P :\n",
        "\n",
        "            30\n",
        "           /  \\\n",
        "         40    50\n",
        "        /  \\     \\\n",
        "      70    60    80\n",
        "\n",
        "K = 2 : O/P : 70 60 80\n",
        "\n",
        "K = 1 : O/P : 40 50"
      ],
      "metadata": {
        "id": "pyh5tGpX7NkC"
      }
    },
    {
      "cell_type": "code",
      "source": [
        "def printKDist(root, k):\n",
        "  if root is None:\n",
        "    return\n",
        "  if k == 0:\n",
        "    print(root.key, end=\" \")\n",
        "  else:\n",
        "    printKDist(root.left, k-1)\n",
        "    printKDist(root.right, k-1)\n",
        "\n",
        "printKDist(root, 2)\n",
        "print(\"\\n\")\n",
        "printKDist(root, 1)"
      ],
      "metadata": {
        "colab": {
          "base_uri": "https://localhost:8080/"
        },
        "id": "BpJd1oMK6KWl",
        "outputId": "78e7dd29-fedf-425c-d721-80a10b8e0d60"
      },
      "execution_count": null,
      "outputs": [
        {
          "output_type": "stream",
          "name": "stdout",
          "text": [
            "70 60 80 \n",
            "\n",
            "40 50 "
          ]
        }
      ]
    },
    {
      "cell_type": "markdown",
      "source": [
        "# Level Order Traversal\n",
        "\n",
        "I/P :\n",
        "\n",
        "            30\n",
        "           /  \\\n",
        "         40    50\n",
        "        /  \\     \\\n",
        "      70    60    80\n",
        "\n",
        "\n",
        "O/P : 30 -> 40 -> 50 -> 70 -> 60 -> 80\n",
        "\n",
        "I/P :\n",
        "\n",
        "          3\n",
        "         /\n",
        "        4\n",
        "       /\n",
        "      5\n",
        "\n",
        "O/P : 3 -> 4 -> 5"
      ],
      "metadata": {
        "id": "O4D77G_x8HcI"
      }
    },
    {
      "cell_type": "code",
      "source": [
        "# Naive Method\n",
        "\n",
        "from collections import deque\n",
        "\n",
        "def printLevelOrder(root):\n",
        "  if root is None:\n",
        "    return\n",
        "  queue = deque()\n",
        "  queue.append(root)\n",
        "  while len(queue) > 0:\n",
        "    node = queue.popleft()\n",
        "    print(node.key, end=\" \")\n",
        "    if node.left:\n",
        "      queue.append(node.left)\n",
        "    if node.right:\n",
        "      queue.append(node.right)\n",
        "\n",
        "printLevelOrder(root)\n",
        "\n",
        "# Time Complexity : Θ(n)\n",
        "# Auxiliary Space : Θ(n)"
      ],
      "metadata": {
        "colab": {
          "base_uri": "https://localhost:8080/"
        },
        "id": "4nQgmzky7-D6",
        "outputId": "fc800828-259f-4d02-e6ea-bd413eda17ec"
      },
      "execution_count": null,
      "outputs": [
        {
          "output_type": "stream",
          "name": "stdout",
          "text": [
            "30 40 50 70 60 80 "
          ]
        }
      ]
    },
    {
      "cell_type": "markdown",
      "source": [
        "# Size of Binary Tree\n",
        "\n",
        "I/P :\n",
        "\n",
        "            30\n",
        "           /  \\\n",
        "         40    50\n",
        "        /  \\     \\\n",
        "      70    60    80\n",
        "\n",
        "O/P : 6"
      ],
      "metadata": {
        "id": "ziCQsbfL9eZo"
      }
    },
    {
      "cell_type": "code",
      "source": [
        "def TreeSize(root):\n",
        "  if root == None:\n",
        "    return 0\n",
        "  else:\n",
        "    return TreeSize(root.left) + TreeSize(root.right) + 1\n",
        "\n",
        "TreeSize(root)\n",
        "\n",
        "# Time Complexity : Θ(n)\n",
        "# Auxiliary Space : Θ(h)"
      ],
      "metadata": {
        "colab": {
          "base_uri": "https://localhost:8080/"
        },
        "id": "smJ8zb888wXr",
        "outputId": "dc9893ae-451b-49ac-b0ae-2f99d962f31e"
      },
      "execution_count": null,
      "outputs": [
        {
          "output_type": "execute_result",
          "data": {
            "text/plain": [
              "6"
            ]
          },
          "metadata": {},
          "execution_count": 23
        }
      ]
    },
    {
      "cell_type": "markdown",
      "source": [
        "# maximum Value in Binary Tree\n",
        "\n",
        "I/P :\n",
        "\n",
        "            30\n",
        "           /  \\\n",
        "         40    50\n",
        "        /  \\     \\\n",
        "      70    60    80\n",
        "\n",
        "O/P : 80"
      ],
      "metadata": {
        "id": "0oYo2qVS-FnU"
      }
    },
    {
      "cell_type": "code",
      "source": [
        "import math\n",
        "\n",
        "def getMax(root):\n",
        "  if root == None:\n",
        "    return -math.inf\n",
        "  else:\n",
        "    return max(root.key, getMax(root.left), getMax(root.right))\n",
        "\n",
        "getMax(root)\n",
        "\n",
        "# Time Complexity : Θ(n)\n",
        "# Auxiliary Space : Θ(h)"
      ],
      "metadata": {
        "colab": {
          "base_uri": "https://localhost:8080/"
        },
        "id": "xGUqlqRF-DP1",
        "outputId": "91202cdc-59e1-41ea-de90-f7df2ecc9723"
      },
      "execution_count": null,
      "outputs": [
        {
          "output_type": "execute_result",
          "data": {
            "text/plain": [
              "80"
            ]
          },
          "metadata": {},
          "execution_count": 24
        }
      ]
    },
    {
      "cell_type": "code",
      "source": [],
      "metadata": {
        "id": "Eb42QedM-fBY"
      },
      "execution_count": null,
      "outputs": []
    }
  ]
}