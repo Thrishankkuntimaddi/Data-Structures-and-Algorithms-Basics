{
  "nbformat": 4,
  "nbformat_minor": 0,
  "metadata": {
    "colab": {
      "provenance": [],
      "authorship_tag": "ABX9TyMBsNHdRXSTcdweYRPM6Evu",
      "include_colab_link": true
    },
    "kernelspec": {
      "name": "python3",
      "display_name": "Python 3"
    },
    "language_info": {
      "name": "python"
    }
  },
  "cells": [
    {
      "cell_type": "markdown",
      "metadata": {
        "id": "view-in-github",
        "colab_type": "text"
      },
      "source": [
        "<a href=\"https://colab.research.google.com/github/Thrishankkuntimaddi/Data-Structures-and-Algorithms-Basics-/blob/main/4%20-%20Recursion.ipynb\" target=\"_parent\"><img src=\"https://colab.research.google.com/assets/colab-badge.svg\" alt=\"Open In Colab\"/></a>"
      ]
    },
    {
      "cell_type": "markdown",
      "source": [
        "# Recursion\n",
        "\n",
        "A Function calls itself directly or indirectly\n",
        "\n",
        "Direct Method:\n",
        "\n",
        "def func();\n",
        "  - func()\n",
        "\n",
        "Indirect Method\n",
        "\n",
        "def fun1():\n",
        "  - fun2()\n",
        "\n",
        "def fun2();\n",
        "  - fun1()"
      ],
      "metadata": {
        "id": "83NAUQFXZETz"
      }
    },
    {
      "cell_type": "code",
      "source": [
        "def fun():\n",
        "  for i in range(1):\n",
        "    print(\"GFG\")\n",
        "    break\n",
        "\n",
        "fun()"
      ],
      "metadata": {
        "colab": {
          "base_uri": "https://localhost:8080/"
        },
        "id": "n_PJgwrBY3JT",
        "outputId": "ab87fe59-b36b-4f5f-c0d2-e5827f864675"
      },
      "execution_count": null,
      "outputs": [
        {
          "output_type": "stream",
          "name": "stdout",
          "text": [
            "GFG\n"
          ]
        }
      ]
    },
    {
      "cell_type": "markdown",
      "source": [
        "# Recursion Background"
      ],
      "metadata": {
        "id": "6xD-Aq7TYgIf"
      }
    },
    {
      "cell_type": "code",
      "execution_count": null,
      "metadata": {
        "colab": {
          "base_uri": "https://localhost:8080/"
        },
        "id": "zDDCWf9DYc3a",
        "outputId": "b8603856-362a-4513-b6e2-119c407edda0"
      },
      "outputs": [
        {
          "output_type": "stream",
          "name": "stdout",
          "text": [
            "Function 1 is called\n"
          ]
        }
      ],
      "source": [
        "def fun1():\n",
        "  print(\"Function 1 is called\")\n",
        "\n",
        "fun1()"
      ]
    },
    {
      "cell_type": "code",
      "source": [
        "def fun2():\n",
        "  print(\"Before Function 1\")\n",
        "  fun1()\n",
        "  print(\"After Function 1\")\n",
        "\n",
        "print(\"Before Function 2\")\n",
        "fun2()\n",
        "print(\"After Function 2\")"
      ],
      "metadata": {
        "colab": {
          "base_uri": "https://localhost:8080/"
        },
        "id": "5q6PQ2c1Ytjt",
        "outputId": "abe1058a-b679-4592-83b1-4926696f08db"
      },
      "execution_count": null,
      "outputs": [
        {
          "output_type": "stream",
          "name": "stdout",
          "text": [
            "Before Function 2\n",
            "Before Function 1\n",
            "Function 1 is called\n",
            "After Function 1\n",
            "After Function 2\n"
          ]
        }
      ]
    },
    {
      "cell_type": "markdown",
      "source": [
        "# Typical structure of Reecursive Functions\n",
        "\n",
        "def fun(...):\n",
        "  - base cases\n",
        "\n",
        "  - Recursive cal : with atleast one change to parameter so that call approches towards base case"
      ],
      "metadata": {
        "id": "B5wNihQcZ1o3"
      }
    },
    {
      "cell_type": "markdown",
      "source": [
        "# Applications of Recursion\n",
        "\n",
        "1. Many algorithm techniques are based on recursive\n",
        "    - Dynamic Programming\n",
        "    - Backtracking\n",
        "    - Divide and Conquer (Binary Search, Merge Sort, Quick Sort)\n",
        "\n",
        "2. Many Problems inherently recursive\n",
        "    - Tower of Hanoi\n",
        "    - DFS based traversals (DFS of graph and Inorder, Post Order, Pre Order traverse)\n",
        "    "
      ],
      "metadata": {
        "id": "w2DCqfA3aPaP"
      }
    },
    {
      "cell_type": "code",
      "source": [
        "# Factorial\n",
        "\n",
        "def fact(n):\n",
        "  if n == 0:    # base case\n",
        "    return 1\n",
        "  return n * fact(n-1) # recursive case\n",
        "\n",
        "fact(5)\n",
        "\n",
        "# Note : Don't use n == 1 because it goes to -ve infinity"
      ],
      "metadata": {
        "colab": {
          "base_uri": "https://localhost:8080/"
        },
        "id": "jbXjWNV0aOpx",
        "outputId": "d8978c80-aca0-4acc-cca5-186712005e2b"
      },
      "execution_count": null,
      "outputs": [
        {
          "output_type": "execute_result",
          "data": {
            "text/plain": [
              "120"
            ]
          },
          "metadata": {},
          "execution_count": 7
        }
      ]
    },
    {
      "cell_type": "code",
      "source": [
        "# Fibbonacci : nth value of series\n",
        "\n",
        "# 0 1 1 2 3 5 8 12 20\n",
        "\n",
        "def fib(n):\n",
        "  if n == 0 or n == 1:\n",
        "    return n\n",
        "  return fib(n-1) + fib(n-2)\n",
        "\n",
        "fib(10)"
      ],
      "metadata": {
        "colab": {
          "base_uri": "https://localhost:8080/"
        },
        "id": "xC0wp5ODbGba",
        "outputId": "aa2e58f3-c9e7-4fa3-ffa3-270648e44bfd"
      },
      "execution_count": null,
      "outputs": [
        {
          "output_type": "execute_result",
          "data": {
            "text/plain": [
              "55"
            ]
          },
          "metadata": {},
          "execution_count": 10
        }
      ]
    },
    {
      "cell_type": "markdown",
      "source": [
        "# Tail Recursion\n",
        "\n",
        "A recursive function is called tail recursive if the function does not do anything after the last recursive call."
      ],
      "metadata": {
        "id": "762MadNAb6ea"
      }
    },
    {
      "cell_type": "code",
      "source": [
        "def fun(n):\n",
        "  if n == 0:\n",
        "    return\n",
        "  print(n)\n",
        "  fun(n-1)   # Tail Recursive function\n",
        "\n",
        "fun(5)"
      ],
      "metadata": {
        "colab": {
          "base_uri": "https://localhost:8080/"
        },
        "id": "7aglg0AnblH9",
        "outputId": "9be3ff03-4f4c-4160-ddbc-2dd10bd117aa"
      },
      "execution_count": null,
      "outputs": [
        {
          "output_type": "stream",
          "name": "stdout",
          "text": [
            "5\n",
            "4\n",
            "3\n",
            "2\n",
            "1\n"
          ]
        }
      ]
    },
    {
      "cell_type": "code",
      "source": [
        "# Not Tail Recursion\n",
        "\n",
        "def fun(n):\n",
        "  if n == 0:\n",
        "    return\n",
        "  fun(n-1)\n",
        "  print(n)   # Not Tail Recursive function\n",
        "\n",
        "fun(5)"
      ],
      "metadata": {
        "colab": {
          "base_uri": "https://localhost:8080/"
        },
        "id": "Z3jVX1pncKfQ",
        "outputId": "b98ed874-a5fa-4ecc-f03a-a68692110919"
      },
      "execution_count": null,
      "outputs": [
        {
          "output_type": "stream",
          "name": "stdout",
          "text": [
            "1\n",
            "2\n",
            "3\n",
            "4\n",
            "5\n"
          ]
        }
      ]
    },
    {
      "cell_type": "markdown",
      "source": [
        "# Removing Recursion\n",
        "\n",
        "1. Replace if with while\n",
        "2. Change value of parameters at the end of loop\n",
        "\n",
        "Examples of Tail Recursive Functions\n",
        "  - Quick Sort\n",
        "  - Post Order Tree Traversal"
      ],
      "metadata": {
        "id": "-Cvs9l_Scb82"
      }
    },
    {
      "cell_type": "code",
      "source": [
        "def fun(n):\n",
        "  if n == 0:\n",
        "    return\n",
        "  print(n, end = ' ')\n",
        "  fun(n-1)\n",
        "  print(n, end = ' ')\n",
        "\n",
        "fun(4)"
      ],
      "metadata": {
        "colab": {
          "base_uri": "https://localhost:8080/"
        },
        "id": "BNiR0gflcZdb",
        "outputId": "ffb80632-766f-4de3-b78c-c282962a79c6"
      },
      "execution_count": null,
      "outputs": [
        {
          "output_type": "stream",
          "name": "stdout",
          "text": [
            "4 3 2 1 1 2 3 4 "
          ]
        }
      ]
    },
    {
      "cell_type": "code",
      "source": [
        "def fun(n):\n",
        "  if n == 0:\n",
        "    return\n",
        "  fun(n-1)\n",
        "  print(n, end = ' ')\n",
        "  fun(n-1)\n",
        "\n",
        "fun(4)"
      ],
      "metadata": {
        "colab": {
          "base_uri": "https://localhost:8080/"
        },
        "id": "x5zRuRN5c3z5",
        "outputId": "a9ff4358-0a1b-4f14-a7d7-143132c003ec"
      },
      "execution_count": null,
      "outputs": [
        {
          "output_type": "stream",
          "name": "stdout",
          "text": [
            "1 2 1 3 1 2 1 4 1 2 1 3 1 2 1 "
          ]
        }
      ]
    },
    {
      "cell_type": "code",
      "source": [
        "# Calculates the number of times you can divide n by 2\n",
        "\n",
        "def fun(n):\n",
        "  if n <= 1:\n",
        "    return 0\n",
        "  else:\n",
        "    return 1 + fun(n//2)\n",
        "\n",
        "fun(16)\n",
        "\n",
        "# What does this funtion do in general for n >= 1 ?\n",
        "\n",
        "# log_2(n)"
      ],
      "metadata": {
        "colab": {
          "base_uri": "https://localhost:8080/"
        },
        "id": "_uoR6n1zdWWZ",
        "outputId": "33e9fbf5-5f53-4809-aaf3-ecc522bb2328"
      },
      "execution_count": null,
      "outputs": [
        {
          "output_type": "execute_result",
          "data": {
            "text/plain": [
              "4"
            ]
          },
          "metadata": {},
          "execution_count": 17
        }
      ]
    },
    {
      "cell_type": "code",
      "source": [
        "# Shows the Binary Representaion of a number\n",
        "\n",
        "def fun(n):\n",
        "  if n == 0:\n",
        "    return\n",
        "  fun(n//2)\n",
        "  print(n%2, end = '')\n",
        "\n",
        "fun(13)"
      ],
      "metadata": {
        "colab": {
          "base_uri": "https://localhost:8080/"
        },
        "id": "o2CVqxfkdl8E",
        "outputId": "eeb83ae7-c422-49fb-c11f-5263c1f3c96d"
      },
      "execution_count": null,
      "outputs": [
        {
          "output_type": "stream",
          "name": "stdout",
          "text": [
            "1101"
          ]
        }
      ]
    },
    {
      "cell_type": "markdown",
      "source": [
        "# Print 1 to N & N to 1\n",
        "\n",
        "I/P : n = 4\n",
        "\n",
        "O/P : 1 2 3 4"
      ],
      "metadata": {
        "id": "V7sRrhfBfSVa"
      }
    },
    {
      "cell_type": "code",
      "source": [
        "# 1 to N\n",
        "\n",
        "def print1toN(n):\n",
        "  if n == 0:\n",
        "    return\n",
        "  print1toN(n-1)\n",
        "  print(n, end = ' ')\n",
        "\n",
        "print1toN(4)"
      ],
      "metadata": {
        "colab": {
          "base_uri": "https://localhost:8080/"
        },
        "id": "hJtWULGaeIpd",
        "outputId": "bb5af9de-81a0-43db-a0c0-505c0150c3ec"
      },
      "execution_count": null,
      "outputs": [
        {
          "output_type": "stream",
          "name": "stdout",
          "text": [
            "1 2 3 4 "
          ]
        }
      ]
    },
    {
      "cell_type": "code",
      "source": [
        "# N to 1\n",
        "\n",
        "def printNto1(n):\n",
        "  if n == 0:\n",
        "    return\n",
        "  print(n, end = ' ')\n",
        "  printNto1(n-1)\n",
        "\n",
        "printNto1(4)"
      ],
      "metadata": {
        "colab": {
          "base_uri": "https://localhost:8080/"
        },
        "id": "nGDIZYK-fd7m",
        "outputId": "888b98e0-6acd-4ee6-deaf-b72f5607bea6"
      },
      "execution_count": null,
      "outputs": [
        {
          "output_type": "stream",
          "name": "stdout",
          "text": [
            "4 3 2 1 "
          ]
        }
      ]
    },
    {
      "cell_type": "markdown",
      "source": [
        "# Sum of Digits\n",
        "\n",
        "I/P : n = 253\n",
        "O/P : 10"
      ],
      "metadata": {
        "id": "0_7nYPCZfz2t"
      }
    },
    {
      "cell_type": "code",
      "source": [
        "def fun(n):\n",
        "  if n < 10:\n",
        "    return n\n",
        "  return fun(n//10) + n % 10\n",
        "\n",
        "fun(253)"
      ],
      "metadata": {
        "colab": {
          "base_uri": "https://localhost:8080/"
        },
        "id": "Oq31ckGcfwVu",
        "outputId": "27b213e2-dd4c-4105-d5ac-98fe881ee38c"
      },
      "execution_count": null,
      "outputs": [
        {
          "output_type": "execute_result",
          "data": {
            "text/plain": [
              "10"
            ]
          },
          "metadata": {},
          "execution_count": 24
        }
      ]
    },
    {
      "cell_type": "markdown",
      "source": [
        "# Palindrome Check\n",
        "\n",
        "I/P : 'aabbaa'\n",
        "\n",
        "O/p : False"
      ],
      "metadata": {
        "id": "A24E4gQmgI19"
      }
    },
    {
      "cell_type": "code",
      "source": [
        "def palin(str, start, end):\n",
        "  if start >= end:\n",
        "    return True\n",
        "  return str[start] == str[end] and palin(str, start+1, end-1)\n",
        "\n",
        "palin('aabbaa', 0, 5)\n",
        "\n",
        "# Time Complexity : O(n)\n",
        "# Space Complexity : O(n)"
      ],
      "metadata": {
        "colab": {
          "base_uri": "https://localhost:8080/"
        },
        "id": "xsM4PAiKgHkG",
        "outputId": "f7961800-e785-446f-acf7-7c1632bebdcf"
      },
      "execution_count": null,
      "outputs": [
        {
          "output_type": "execute_result",
          "data": {
            "text/plain": [
              "True"
            ]
          },
          "metadata": {},
          "execution_count": 26
        }
      ]
    },
    {
      "cell_type": "code",
      "source": [],
      "metadata": {
        "id": "tENCJ95QgfKe"
      },
      "execution_count": null,
      "outputs": []
    }
  ]
}