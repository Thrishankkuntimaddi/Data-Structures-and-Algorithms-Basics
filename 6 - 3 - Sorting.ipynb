{
  "nbformat": 4,
  "nbformat_minor": 0,
  "metadata": {
    "colab": {
      "provenance": [],
      "authorship_tag": "ABX9TyMQni75tLjNe4eubS1x1upt",
      "include_colab_link": true
    },
    "kernelspec": {
      "name": "python3",
      "display_name": "Python 3"
    },
    "language_info": {
      "name": "python"
    }
  },
  "cells": [
    {
      "cell_type": "markdown",
      "metadata": {
        "id": "view-in-github",
        "colab_type": "text"
      },
      "source": [
        "<a href=\"https://colab.research.google.com/github/Thrishankkuntimaddi/Data-Structures-and-Algorithms-Basics-/blob/main/6%20-%203%20-%20Sorting.ipynb\" target=\"_parent\"><img src=\"https://colab.research.google.com/assets/colab-badge.svg\" alt=\"Open In Colab\"/></a>"
      ]
    },
    {
      "cell_type": "markdown",
      "source": [
        "# Partition a Given Array\n",
        "\n",
        "I/P : l = [3, 8, 6, 12, 10, 7]\n",
        "\n",
        "p = 5\n",
        "\n",
        "O/P :\n",
        "\n",
        "l = [3, 6, 7, 8, 12, 10]\n",
        "\n",
        "or\n",
        "\n",
        "l = [6, 3, 7, 12, 8, 10]\n",
        "\n",
        "............"
      ],
      "metadata": {
        "id": "mpa-YVqOffbD"
      }
    },
    {
      "cell_type": "code",
      "execution_count": null,
      "metadata": {
        "colab": {
          "base_uri": "https://localhost:8080/"
        },
        "id": "GYLfeOEffWru",
        "outputId": "acaa5940-7568-4211-86cf-d3d7fca661ed"
      },
      "outputs": [
        {
          "output_type": "stream",
          "name": "stdout",
          "text": [
            "[3, 8, 6, 7, 10, 12]\n"
          ]
        }
      ],
      "source": [
        "# Naive Solution\n",
        "\n",
        "def partition(arr, p):\n",
        "  n = len(arr)\n",
        "  arr[p], arr[n-1] = arr[n-1], arr[p]\n",
        "  temp = []\n",
        "\n",
        "  for x in arr:\n",
        "    if x <= arr[n-1]:\n",
        "      temp.append(x)\n",
        "\n",
        "  for x in arr:\n",
        "    if x > arr[n-1]:\n",
        "      temp.append(x)\n",
        "\n",
        "  for i in range(len(temp)):\n",
        "    arr[i] = temp[i]\n",
        "\n",
        "  return temp\n",
        "\n",
        "l = [3, 8, 6, 12, 10, 7]\n",
        "p = 3                        # Index Value to swap with last element\n",
        "print(partition(l, p))\n",
        "\n",
        "# Time Complexity : Theta(n)\n",
        "# Space Complexity : Theta(n)"
      ]
    },
    {
      "cell_type": "markdown",
      "source": [
        "# Lomuto Parition (Guarantee)\n",
        "\n",
        "arr = [10, 80, 30, 90, 40, 50, 70]\n",
        "\n",
        "     l = 0                     h = 6\n",
        "\n",
        "pivot = 70  # Last Element"
      ],
      "metadata": {
        "id": "5iJS92-qgi6z"
      }
    },
    {
      "cell_type": "code",
      "source": [
        "def lomutoPartition(arr, l, h):\n",
        "  pivot = arr[h]\n",
        "  i = l - 1\n",
        "\n",
        "  for j in range(l, h):\n",
        "    if arr[j] <= pivot:\n",
        "      i += 1\n",
        "      arr[i], arr[j] = arr[j], arr[i]\n",
        "\n",
        "  arr[i+1], arr[h] = arr[h], arr[i+1]\n",
        "  return i+1\n",
        "\n",
        "arr = [10, 80, 30, 90, 40, 50, 70]\n",
        "print(arr)\n",
        "n = len(arr)\n",
        "print(lomutoPartition(arr, 0, n-1))\n",
        "print(arr)"
      ],
      "metadata": {
        "colab": {
          "base_uri": "https://localhost:8080/"
        },
        "id": "-88bwSCFgRUj",
        "outputId": "8ea4e23e-1010-41af-b056-cf28885f4d50"
      },
      "execution_count": null,
      "outputs": [
        {
          "output_type": "stream",
          "name": "stdout",
          "text": [
            "[10, 80, 30, 90, 40, 50, 70]\n",
            "4\n",
            "[10, 30, 40, 50, 70, 90, 80]\n"
          ]
        }
      ]
    },
    {
      "cell_type": "markdown",
      "source": [
        "# Hoare's Partition (No Guarantee)\n",
        "\n",
        "rr = [10, 80, 30, 90, 40, 50, 70]\n",
        "\n",
        "     l = 0                     h = 6\n",
        "\n",
        "after partition, pivot can be anywhere in leftside"
      ],
      "metadata": {
        "id": "ryP33GpLhdPF"
      }
    },
    {
      "cell_type": "code",
      "source": [
        "def hoarePartition(arr, l, h):\n",
        "  pivot = arr[l]\n",
        "  i = l - 1\n",
        "  j = h + 1\n",
        "\n",
        "  while True:\n",
        "    i += 1\n",
        "    while arr[i] < pivot:\n",
        "      i += 1\n",
        "    j = j - 1\n",
        "    while arr[j] > pivot:\n",
        "      j -= 1\n",
        "    if i >= j:\n",
        "      return j\n",
        "    arr[i], arr[j] = arr[j], arr[i]\n",
        "\n",
        "arr = [10, 80, 30, 90, 40, 50, 70, 100, 120, 10, 5]\n",
        "print(arr)\n",
        "n = len(arr)\n",
        "print(hoarePartition(arr, 0, n-1))\n",
        "print(arr)"
      ],
      "metadata": {
        "colab": {
          "base_uri": "https://localhost:8080/"
        },
        "id": "zFu6_KkShGgh",
        "outputId": "c76c4872-f676-4bfb-955c-faaef6ad9122"
      },
      "execution_count": null,
      "outputs": [
        {
          "output_type": "stream",
          "name": "stdout",
          "text": [
            "[10, 80, 30, 90, 40, 50, 70, 100, 120, 10, 5]\n",
            "1\n",
            "[5, 10, 30, 90, 40, 50, 70, 100, 120, 80, 10]\n"
          ]
        }
      ]
    },
    {
      "cell_type": "markdown",
      "source": [
        "# Quick Sort\n",
        "\n",
        "1. Divide and Conquer Algorithm\n",
        "2. Worst Time Case : O(n^2)\n",
        "3. Despite O(n^2) worst cae, it is considered faster because of the following\n",
        "\n",
        "  - In-Place\n",
        "\n",
        "  - cache friendly\n",
        "\n",
        "  - Average-case : O(n * logn)\n",
        "\n",
        "  - Tail Recursive\n",
        "\n",
        "4. Partition is key function (Naive, Lomuto, Hoarse)\n",
        "\n",
        "  where Naive is stable and Lomuto, Hoarse are unstable\n",
        "\n",
        "\n"
      ],
      "metadata": {
        "id": "htnhiaTRiShU"
      }
    },
    {
      "cell_type": "code",
      "source": [
        "# Using Lomuto\n",
        "\n",
        "def qsort(arr, l, h):\n",
        "  if l < h:\n",
        "    p = lomutoPartition(arr, l, h)\n",
        "    qsort(arr, l, p-1)\n",
        "    qsort(arr, p+1, h)\n",
        "\n",
        "arr = [10, 80, 30, 90, 40, 50, 70]\n",
        "print(arr)\n",
        "n = len(arr)\n",
        "qsort(arr, 0, n-1)\n",
        "print(arr)\n",
        "\n",
        "# Best case : Theta(log n)\n",
        "\n",
        "'''\n",
        "Dry Run\n",
        "\n",
        "1. Based on the pivot value it sort the elements\n",
        "\n",
        "2. [3, 5, 6, 7, 1, 2, 4]\n",
        "\n",
        "  - pivot is 4\n",
        "\n",
        "  - Element on left side are less than 4\n",
        "\n",
        "  - Element on right side are greater than 4\n",
        "\n",
        "3. sorted array : [1, 2, 3, 4, 5, 6, 7]\n",
        "\n",
        "'''"
      ],
      "metadata": {
        "colab": {
          "base_uri": "https://localhost:8080/"
        },
        "id": "uVpqFYiSh8fh",
        "outputId": "94654792-a968-4db0-9740-1aee3ef6c4c3"
      },
      "execution_count": null,
      "outputs": [
        {
          "output_type": "stream",
          "name": "stdout",
          "text": [
            "[10, 80, 30, 90, 40, 50, 70]\n",
            "[10, 30, 40, 50, 70, 80, 90]\n"
          ]
        }
      ]
    },
    {
      "cell_type": "code",
      "source": [
        "# Using Hoarse\n",
        "\n",
        "def qsort(arr, l, h):\n",
        "  if l < h:\n",
        "    p = hoarePartition(arr, l, h)\n",
        "    qsort(arr, l, p)\n",
        "    qsort(arr, p+1, h)\n",
        "\n",
        "arr = [10, 80, 30, 90, 40, 50, 70]\n",
        "print(arr)\n",
        "n = len(arr)\n",
        "qsort(arr, 0, n-1)\n",
        "print(arr)\n",
        "\n",
        "# Note : Hoare's Partition is three times faster than Lomuto Partition\n",
        "\n",
        "'''\n",
        "1. Firstly this the collection is completely divided into single cell\n",
        "\n",
        "2. Then it is conquered in a way they swapped in acesending order\n",
        "\n",
        "'''"
      ],
      "metadata": {
        "colab": {
          "base_uri": "https://localhost:8080/"
        },
        "id": "eZeoaAq6jDni",
        "outputId": "f6729241-81c2-44f5-dd91-30a4bc35f167"
      },
      "execution_count": null,
      "outputs": [
        {
          "output_type": "stream",
          "name": "stdout",
          "text": [
            "[10, 80, 30, 90, 40, 50, 70]\n",
            "[10, 30, 40, 50, 70, 80, 90]\n"
          ]
        }
      ]
    },
    {
      "cell_type": "markdown",
      "source": [
        "# Analysis of QuickSort : Hoare's Partition\n",
        "\n",
        "Best Case : Theta(n * log_2 n)\n",
        "\n",
        "Worst Case : Theta(n^2)\n",
        "\n",
        "Average Case : O(n * log n)\n",
        "\n",
        "Space Complexity : Theta(n)"
      ],
      "metadata": {
        "id": "ONx9b_8Nmo5L"
      }
    },
    {
      "cell_type": "code",
      "source": [],
      "metadata": {
        "id": "ZhFcU38WlCRK"
      },
      "execution_count": null,
      "outputs": []
    }
  ]
}