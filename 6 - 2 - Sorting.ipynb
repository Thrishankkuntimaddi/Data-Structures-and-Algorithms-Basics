{
  "nbformat": 4,
  "nbformat_minor": 0,
  "metadata": {
    "colab": {
      "provenance": [],
      "authorship_tag": "ABX9TyNBzRWWfd/eK00Q/bbd+2F3",
      "include_colab_link": true
    },
    "kernelspec": {
      "name": "python3",
      "display_name": "Python 3"
    },
    "language_info": {
      "name": "python"
    }
  },
  "cells": [
    {
      "cell_type": "markdown",
      "metadata": {
        "id": "view-in-github",
        "colab_type": "text"
      },
      "source": [
        "<a href=\"https://colab.research.google.com/github/Thrishankkuntimaddi/Data-Structures-and-Algorithms-Basics-/blob/main/6%20-%202%20-%20Sorting.ipynb\" target=\"_parent\"><img src=\"https://colab.research.google.com/assets/colab-badge.svg\" alt=\"Open In Colab\"/></a>"
      ]
    },
    {
      "cell_type": "markdown",
      "source": [
        "# Merge Sort\n",
        "\n",
        " - Divide and Conquer Algorithm (Divide, Conquer, Merge)\n",
        " - Stable\n",
        " - Time complexity : Theta(n*log(n))\n",
        " - Auxiliary Space : O(n)\n",
        " - well suited for LinkedList that works in O(1) Auxiliary Space\n",
        " - Used in external Sorting"
      ],
      "metadata": {
        "id": "qH3PNGRm-JlS"
      }
    },
    {
      "cell_type": "markdown",
      "source": [
        "# Merge Sort for Two Sorted Arrays\n",
        "\n",
        "I/P : a = [10, 15, 20] ; b = [5, 6, 6, 30]\n",
        "\n",
        "O/P : res = [5, 6, 6, 10, 15, 20, 30]"
      ],
      "metadata": {
        "id": "EmlfKIrN-6z7"
      }
    },
    {
      "cell_type": "code",
      "execution_count": null,
      "metadata": {
        "colab": {
          "base_uri": "https://localhost:8080/"
        },
        "id": "X9P7H6EK955z",
        "outputId": "a47a0c55-bf27-4883-d020-a12f1ef03122"
      },
      "outputs": [
        {
          "output_type": "stream",
          "name": "stdout",
          "text": [
            "[5, 6, 6, 10, 15, 20, 30]\n"
          ]
        }
      ],
      "source": [
        "# Naive Solution\n",
        "\n",
        "def merge(a, b):\n",
        "  res = a + b\n",
        "  res.sort()\n",
        "  return res\n",
        "\n",
        "a = [10, 15, 20]\n",
        "b = [5, 6, 6, 30]\n",
        "print(merge(a, b))\n",
        "\n",
        "# Time Complexity : O(n log(n))\n",
        "# Space Complexity : O(n)"
      ]
    },
    {
      "cell_type": "code",
      "source": [
        "# Efficient Solution\n",
        "\n",
        "def mergeList(a, b):\n",
        "  res = []\n",
        "  m = len(a)\n",
        "  n = len(b)\n",
        "  i = 0\n",
        "  j = 0\n",
        "\n",
        "  while i < m and j < n:\n",
        "    if a[i] < b[j]:\n",
        "      res.append(a[i])\n",
        "      i += 1\n",
        "    else:\n",
        "      res.append(b[j])\n",
        "      j += 1\n",
        "\n",
        "  while i < m:\n",
        "    res.append(a[i])\n",
        "    i += 1\n",
        "\n",
        "  while j < n:\n",
        "    res.append(b[j])\n",
        "    j += 1\n",
        "\n",
        "  return res\n",
        "\n",
        "l = [10, 15, 20]\n",
        "r = [5, 6, 6, 30]\n",
        "print(mergeList(l, r))\n",
        "\n",
        "# Time Complexity : O(n) or O(m+n)\n",
        "# Space Complexity : O(n)"
      ],
      "metadata": {
        "colab": {
          "base_uri": "https://localhost:8080/"
        },
        "id": "Iq_vbxQZ_SF-",
        "outputId": "f012981e-e0d7-41a7-9f1d-30dea6855eb9"
      },
      "execution_count": null,
      "outputs": [
        {
          "output_type": "stream",
          "name": "stdout",
          "text": [
            "[5, 6, 6, 10, 15, 20, 30]\n"
          ]
        }
      ]
    },
    {
      "cell_type": "markdown",
      "source": [
        "# Merge Subarray\n",
        "\n",
        "I/P :\n",
        "\n",
        "a = [10, 15, 20, 11, 13]\n",
        "\n",
        "low = 0\n",
        "\n",
        "high = 4\n",
        "\n",
        "mid = 2\n",
        "\n",
        "O/P :\n",
        "\n",
        "a = [10, 11, 13, 15, 20]\n",
        "\n",
        "so that the idea is split main array into two parts then merge them"
      ],
      "metadata": {
        "id": "yA56mcXAAMnf"
      }
    },
    {
      "cell_type": "code",
      "source": [
        "def merge(a, low, mid, high):\n",
        "  left = a[low : mid + 1]\n",
        "  right = a[mid + 1 : high + 1]\n",
        "  i = 0\n",
        "  j = 0\n",
        "  k = low\n",
        "\n",
        "  while i < len(left) and j < len(right):\n",
        "    if left[i] < right[j]:\n",
        "      a[k] = left[i]\n",
        "      k += 1\n",
        "      i += 1\n",
        "    else:\n",
        "      a[k] = right[j]\n",
        "      j += 1\n",
        "      k += 1\n",
        "\n",
        "  while i < len(left):\n",
        "    a[k] = left[i]\n",
        "    i += 1\n",
        "    k += 1\n",
        "\n",
        "  while j < len(right):\n",
        "    a[k] = right[j]\n",
        "    j += 1\n",
        "    k += 1\n",
        "\n",
        "a = [10, 15, 20, 11, 13]\n",
        "merge(a, 0, 2, 4)\n",
        "print(a)\n",
        "\n",
        "# Time Complexity : Theta(m+n)"
      ],
      "metadata": {
        "colab": {
          "base_uri": "https://localhost:8080/"
        },
        "id": "sPG-hlcI_60r",
        "outputId": "5ed232c3-8281-4cfc-aab0-241fb3ca6e51"
      },
      "execution_count": null,
      "outputs": [
        {
          "output_type": "stream",
          "name": "stdout",
          "text": [
            "[10, 11, 13, 15, 20]\n"
          ]
        }
      ]
    },
    {
      "cell_type": "markdown",
      "source": [
        "# Merge Sort Algorithm"
      ],
      "metadata": {
        "id": "NHPQEPHbBgk6"
      }
    },
    {
      "cell_type": "code",
      "source": [
        "def mergeSort(arr, l, r):\n",
        "  if r > l:\n",
        "    mid = (l + r) // 2\n",
        "    mergeSort(arr, l, mid)\n",
        "    mergeSort(arr, mid + 1, r)\n",
        "    merge(arr, l, mid, r)\n",
        "\n",
        "arr = [10, 15, 20, 11, 13]\n",
        "mergeSort(arr, 0, 4)\n",
        "print(arr)\n",
        "\n",
        "# Time Complexity : Theta(n*log(n))\n",
        "# Space Complexity : O(n)"
      ],
      "metadata": {
        "colab": {
          "base_uri": "https://localhost:8080/"
        },
        "id": "8AmchblUBY7c",
        "outputId": "d0799268-87c4-4565-cfed-c08a81364821"
      },
      "execution_count": null,
      "outputs": [
        {
          "output_type": "stream",
          "name": "stdout",
          "text": [
            "[10, 11, 13, 15, 20]\n"
          ]
        }
      ]
    },
    {
      "cell_type": "markdown",
      "source": [
        "# Union of two sorted array\n",
        "\n",
        "I/P :\n",
        "\n",
        "a = [3, 5, 8]\n",
        "\n",
        "b = [2, 8, 9, 10, 15]\n",
        "\n",
        "O/P : 2 3 5 8 9 10 15\n",
        "\n",
        "# Naive Solution\n",
        "\n",
        "1. Concatenate both lists\n",
        "\n",
        "2. Sort the concatenated list\n",
        "\n",
        "3. Print Distinct Elements\n",
        "\n",
        "Time Complexity : O((m + n) * log(m + n))\n",
        "\n",
        "m - len of a\n",
        "\n",
        "n - len of b"
      ],
      "metadata": {
        "id": "0smSvBkLQRXX"
      }
    },
    {
      "cell_type": "code",
      "source": [
        "# Naive Approach\n",
        "\n",
        "def Print(a, b):\n",
        "  c = a + b\n",
        "  c.sort()\n",
        "  for i in range(0, len(c)):\n",
        "    if i == 0 or c[i] != c[i - 1]:\n",
        "      print(c[i], end = \" \")\n",
        "\n",
        "a = [3, 5, 8, 9, 10, 15]\n",
        "b = [2, 8, 9, 10, 15]\n",
        "Print(a, b)"
      ],
      "metadata": {
        "id": "Obr7UoVrBlbE",
        "colab": {
          "base_uri": "https://localhost:8080/"
        },
        "outputId": "b571b536-f72b-471d-c00e-c0469a7b7f04"
      },
      "execution_count": null,
      "outputs": [
        {
          "output_type": "stream",
          "name": "stdout",
          "text": [
            "2 3 5 8 9 10 15 "
          ]
        }
      ]
    },
    {
      "cell_type": "code",
      "source": [
        "# Efficient Approach\n",
        "\n",
        "# First, How does the Idea Works..?\n",
        "'''\n",
        "a = [_, _, _, i, _, _, _, _, _]\n",
        "b = [_ ,_, _, _, j, _, _, _, _]\n",
        "\n",
        "if a[i] == a[i-1]:\n",
        "  i = i + 1\n",
        "\n",
        "if b[j] == b[j-1]:\n",
        "  j = j + 1\n",
        "\n",
        "if a[i] < b[j]:\n",
        "  print(a[i], end = \" \")\n",
        "  i = i + 1\n",
        "\n",
        "if a[i] > b[j]:\n",
        "  print(b[j], end = \" \")\n",
        "  j = j + 1\n",
        "\n",
        "if a[i] == b[j]:\n",
        "  print(a[i], end = \" \")\n",
        "  i = i + 1\n",
        "  j = j + 1\n",
        "\n",
        "'''\n",
        "\n",
        "def PrintUnion(a, b):\n",
        "  i = 0\n",
        "  j = 0\n",
        "  while i < len(a) and j < len(b):\n",
        "    if i > 0 and a[i] == a[i - 1]:\n",
        "      i = i + 1\n",
        "    elif j > 0 and b[j] == b[j-1]:\n",
        "      j = j + 1\n",
        "    elif a[i] < b[j]:\n",
        "      print(a[i], end = \" \")\n",
        "      i = i + 1\n",
        "    elif a[i] > b[j]:\n",
        "      print(b[j], end = \" \")\n",
        "      j = j + 1\n",
        "    else:                          # a[i] == b[j]\n",
        "      print(a[i], end = \" \")\n",
        "      i = i + 1\n",
        "      j = j + 1\n",
        "\n",
        "  while i < len(a):\n",
        "      if i > 0 and a[i] == a[i-1]:\n",
        "        print(a[i], end = \" \")\n",
        "        i = i + 1\n",
        "\n",
        "  while j < len(b):\n",
        "      if j > 0 and b[j] == b[j-1]:\n",
        "        print(b[j], end = \" \")\n",
        "        j = j + 1\n",
        "\n",
        "a = [3, 5, 8, 9, 10, 15]\n",
        "b = [2, 8, 9, 10, 15]\n",
        "PrintUnion(a, b)\n",
        "\n",
        "# Time Complexity : Theta(m+n)\n",
        "# Space Complexity : Theta(1)"
      ],
      "metadata": {
        "id": "b6uoKJJbS0cw",
        "colab": {
          "base_uri": "https://localhost:8080/"
        },
        "outputId": "8bded23f-a523-4f96-b87e-7922fac920f3"
      },
      "execution_count": null,
      "outputs": [
        {
          "output_type": "stream",
          "name": "stdout",
          "text": [
            "2 3 5 8 9 10 15 "
          ]
        }
      ]
    },
    {
      "cell_type": "markdown",
      "source": [
        "# Intersection of Two sorted Array\n",
        "\n",
        "I/P :\n",
        "\n",
        "a[] = { 3, 5, 10, 10, 10, 10, 15, 15, 20 }\n",
        "\n",
        "b[] = { 5, 10, 10, 15, 30 }\n",
        "\n",
        "O/P : 5, 10, 15"
      ],
      "metadata": {
        "id": "nvtxmt6CRlLq"
      }
    },
    {
      "cell_type": "code",
      "source": [
        "# Naive\n",
        "\n",
        "def intersection(a, b, m, n):\n",
        "  for i in range(m):\n",
        "    if i > 0 and a[i-1] == a[i]:\n",
        "      continue\n",
        "    else:\n",
        "      for j in range(n):\n",
        "        if a[i] == b[j]:\n",
        "          print(a[i], end = \" \")\n",
        "          break\n",
        "\n",
        "a = [3, 5, 10, 10, 10, 10, 15, 15, 20 ]\n",
        "b = [ 5, 10, 10, 15, 30 ]\n",
        "\n",
        "intersection(a, b, 9, 5)\n",
        "\n",
        "# Time complexity : O(m+n)\n",
        "# Space Complexity : O(1)"
      ],
      "metadata": {
        "colab": {
          "base_uri": "https://localhost:8080/"
        },
        "id": "2teJcuhiOhtN",
        "outputId": "a4ec7b3c-f097-4761-b494-cba9d0a0cf13"
      },
      "execution_count": null,
      "outputs": [
        {
          "output_type": "stream",
          "name": "stdout",
          "text": [
            "5 10 15 "
          ]
        }
      ]
    },
    {
      "cell_type": "code",
      "source": [
        "# Efficient\n",
        "\n",
        "# First, How does the idea works..?\n",
        "'''\n",
        "a = [_, _, _, i, _, _, _, _, _]\n",
        "b = [_ ,_, _, _, j, _, _, _, _]\n",
        "\n",
        "if i > 0 && a[i] == a[i-1]:\n",
        "  i += 1\n",
        "  continue\n",
        "\n",
        "if a[i] < b[j]:\n",
        "  i += 1\n",
        "\n",
        "if a[i] > b[j]:\n",
        "  j += 1\n",
        "\n",
        "if a[i] == b[j]:\n",
        "  print(a[i], end = \" \")\n",
        "  i += 1\n",
        "  j += 1\n",
        "\n",
        "'''\n",
        "\n",
        "def intersection(a, b, m, n):\n",
        "  i = 0\n",
        "  j = 0\n",
        "\n",
        "  while i < m and j < n:\n",
        "    if i > 0 and a[i-1] == a[i]:  # Don't consider common elements in Set A\n",
        "      i += 1\n",
        "      continue\n",
        "    elif a[i] < b[j]: # Moves i value based on j value\n",
        "      i += 1\n",
        "    elif a[i] > b[j]: # Moves j value based on i value\n",
        "      j += 1\n",
        "    elif a[i] == b[j]:\n",
        "      print(a[i], end = \" \")\n",
        "      i += 1\n",
        "      j += 1\n",
        "\n",
        "a = [3, 5, 10, 10, 10, 10, 15, 15, 20 ]\n",
        "b = [ 5, 10, 10, 15, 30 ]\n",
        "intersection(a, b, len(a), len(b))\n",
        "\n",
        "# Time complexity : O(m+n)\n",
        "# Space Complexity : O(1)"
      ],
      "metadata": {
        "colab": {
          "base_uri": "https://localhost:8080/"
        },
        "id": "-u4-lKIQSb2Y",
        "outputId": "146df740-241b-47f0-9597-cdefdb300cfd"
      },
      "execution_count": null,
      "outputs": [
        {
          "output_type": "stream",
          "name": "stdout",
          "text": [
            "5 10 15 "
          ]
        }
      ]
    },
    {
      "cell_type": "markdown",
      "source": [
        "# Count inversions in Array\n",
        "\n",
        "Inversions : A pair arr[i], arr[j] forms an inversion when ( i < j ) and arr[i] > arr[j]\n",
        "\n",
        "I/P = [2, 4, 1, 3, 5]\n",
        "\n",
        "O/P = 3\n",
        "\n"
      ],
      "metadata": {
        "id": "wM7mk-POVCax"
      }
    },
    {
      "cell_type": "code",
      "source": [
        "# Naive\n",
        "\n",
        "def inversion(arr):\n",
        "  n = len(arr)\n",
        "  res = 0\n",
        "  for i in range(n-1):\n",
        "    for j in range(i+1, n):\n",
        "      if arr[i] > arr[j]:\n",
        "        res += 1\n",
        "  return res\n",
        "\n",
        "arr = [2, 4, 1, 3, 5, 2]\n",
        "print(inversion(arr))\n",
        "\n",
        "# Time Complexity : O(n^2)\n",
        "# Space Complexity : O(1)"
      ],
      "metadata": {
        "colab": {
          "base_uri": "https://localhost:8080/"
        },
        "id": "2inwBgHBS7tZ",
        "outputId": "8e3c60fe-4d70-442b-fa64-3c79134c592e"
      },
      "execution_count": null,
      "outputs": [
        {
          "output_type": "stream",
          "name": "stdout",
          "text": [
            "6\n"
          ]
        }
      ]
    },
    {
      "cell_type": "code",
      "source": [
        "# Efficient\n",
        "'''\n",
        "\n",
        "arr[] = [_, _, _, _, _, _, _, _, _, _, _, _, _, _, _, _, _]\n",
        "\n",
        "         l                 m  m+1                        r\n",
        "\n",
        "m = (l+r)/2\n",
        "\n",
        "Every Inversion(x, y) where x > y has three possibilities\n",
        "\n",
        "a) Both x & y lie in the first half\n",
        "b) Both x & y lie in the second half\n",
        "c) x lies in the first half and y lies in the second half\n",
        "\n",
        "'''\n",
        "\n",
        "def countInv(arr, l, r):\n",
        "  res = 0\n",
        "  if l < r:\n",
        "    mid = (l + r) // 2\n",
        "    res += countInv(arr, l, mid)\n",
        "    res += countInv(arr, mid+1, r)\n",
        "    res += countMerge(arr, l, mid, r)\n",
        "  return res\n",
        "\n",
        "def countMerge(arr, l, mid, r):\n",
        "  left = arr[l : mid+1]\n",
        "  right = arr[mid+1 : r+1]\n",
        "  res, i, j, k = 0, 0, 0, l\n",
        "  while i < len(left) and j < len(right):\n",
        "    if left[i] <= right[j]:\n",
        "      arr[k] = left[i]\n",
        "      i += 1\n",
        "    else:\n",
        "      arr[k] = right[j]\n",
        "      j += 1\n",
        "      res += (len(left) - i)\n",
        "    k += 1\n",
        "\n",
        "  while i < len(left):\n",
        "    arr[k] = left[i]\n",
        "    i += 1\n",
        "    k += 1\n",
        "\n",
        "  while j < len(right):\n",
        "    arr[k] = right[j]\n",
        "    j += 1\n",
        "    k += 1\n",
        "\n",
        "  return res\n",
        "\n",
        "arr = [2, 4, 1, 3, 5]\n",
        "print(countInv(arr, 0, 4))\n",
        "\n",
        "# Time Complexity : O(n*log(n))\n",
        "# Space Complexity : O(n)"
      ],
      "metadata": {
        "colab": {
          "base_uri": "https://localhost:8080/"
        },
        "id": "mca7iILLWSRS",
        "outputId": "b5b51b65-c168-4b9f-f86e-faf018d7a80a"
      },
      "execution_count": null,
      "outputs": [
        {
          "output_type": "stream",
          "name": "stdout",
          "text": [
            "3\n"
          ]
        }
      ]
    },
    {
      "cell_type": "code",
      "source": [],
      "metadata": {
        "id": "074KGI4sX1MW"
      },
      "execution_count": null,
      "outputs": []
    }
  ]
}