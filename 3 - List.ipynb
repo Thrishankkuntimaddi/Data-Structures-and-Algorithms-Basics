{
  "nbformat": 4,
  "nbformat_minor": 0,
  "metadata": {
    "colab": {
      "provenance": [],
      "authorship_tag": "ABX9TyOXfIkxqsjDVhA2DxNSdUp2",
      "include_colab_link": true
    },
    "kernelspec": {
      "name": "python3",
      "display_name": "Python 3"
    },
    "language_info": {
      "name": "python"
    }
  },
  "cells": [
    {
      "cell_type": "markdown",
      "metadata": {
        "id": "view-in-github",
        "colab_type": "text"
      },
      "source": [
        "<a href=\"https://colab.research.google.com/github/Thrishankkuntimaddi/Data-Structures-and-Algorithms-Basics-/blob/main/3%20-%20List.ipynb\" target=\"_parent\"><img src=\"https://colab.research.google.com/assets/colab-badge.svg\" alt=\"Open In Colab\"/></a>"
      ]
    },
    {
      "cell_type": "markdown",
      "source": [
        "# List\n",
        "\n",
        "collection of items in array data strucuture, in which collections are in heterogenous\n",
        "\n",
        "list      =  [ 10,  20,  30,  40,  50 ]\n",
        "\n",
        "index     =  [  0,   1,   2,   3,   4 ]\n",
        "\n",
        "-ve index =  [ -1,  -2,  -3,  -4,  -5 ]"
      ],
      "metadata": {
        "id": "Fvo1gC6DpE3-"
      }
    },
    {
      "cell_type": "code",
      "execution_count": null,
      "metadata": {
        "id": "Q6jyRlofpA9a",
        "colab": {
          "base_uri": "https://localhost:8080/"
        },
        "outputId": "817763d8-adcc-44fb-9efe-2951ba7010d5"
      },
      "outputs": [
        {
          "output_type": "stream",
          "name": "stdout",
          "text": [
            "[10, 20, 30, 40, 50]\n",
            "10\n",
            "40\n",
            "50\n",
            "30\n"
          ]
        }
      ],
      "source": [
        "l = [10, 20, 30, 40, 50]\n",
        "print(l)\n",
        "print(l[0])\n",
        "print(l[3])\n",
        "print(l[-1])\n",
        "print(l[-3])"
      ]
    },
    {
      "cell_type": "code",
      "source": [
        "l = [10, 20, 30, 40, 50]\n",
        "l.append(30)\n",
        "print(l)\n",
        "l.insert(1, 60)\n",
        "print(l)\n",
        "print(60 in l)\n",
        "print(l.count(30))\n",
        "print(l)\n",
        "print(l.index(30))\n",
        "print(l.index(30, 4, 7))"
      ],
      "metadata": {
        "colab": {
          "base_uri": "https://localhost:8080/"
        },
        "id": "akMFZGlmq93J",
        "outputId": "d98a7ccc-edc8-456b-c16c-5e12668c9499"
      },
      "execution_count": null,
      "outputs": [
        {
          "output_type": "stream",
          "name": "stdout",
          "text": [
            "[10, 20, 30, 40, 50, 30]\n",
            "[10, 60, 20, 30, 40, 50, 30]\n",
            "True\n",
            "2\n",
            "[10, 60, 20, 30, 40, 50, 30]\n",
            "3\n",
            "6\n"
          ]
        }
      ]
    },
    {
      "cell_type": "code",
      "source": [
        "l = [10, 20, 30, 40, 50]\n",
        "l.remove(30)\n",
        "print(l)\n",
        "print(l.pop())\n",
        "print(l)\n",
        "print(l.pop(2))\n",
        "print(l)\n",
        "del l[1]\n",
        "print(l)\n",
        "del l[0:2]\n",
        "print(l)"
      ],
      "metadata": {
        "colab": {
          "base_uri": "https://localhost:8080/"
        },
        "id": "gOk81eMkrcIR",
        "outputId": "88514c6d-972e-4c9c-8a65-52ef7f57dc00"
      },
      "execution_count": null,
      "outputs": [
        {
          "output_type": "stream",
          "name": "stdout",
          "text": [
            "[10, 20, 40, 50]\n",
            "50\n",
            "[10, 20, 40]\n",
            "40\n",
            "[10, 20]\n",
            "[10]\n",
            "[]\n"
          ]
        }
      ]
    },
    {
      "cell_type": "code",
      "source": [
        "l = [10, 20, 30, 40, 50]\n",
        "print(min(l))\n",
        "print(max(l))\n",
        "print(sum(l))\n",
        "l.reverse()\n",
        "print(l)\n",
        "l.sort()\n",
        "print(l)\n",
        "\n",
        "# If list contain any other string than int, then the code will not work"
      ],
      "metadata": {
        "colab": {
          "base_uri": "https://localhost:8080/"
        },
        "id": "rfWYc_D_rhEf",
        "outputId": "c003c797-60cb-4f2e-c463-fdbfc7d0af17"
      },
      "execution_count": null,
      "outputs": [
        {
          "output_type": "stream",
          "name": "stdout",
          "text": [
            "10\n",
            "50\n",
            "150\n",
            "[50, 40, 30, 20, 10]\n",
            "[10, 20, 30, 40, 50]\n"
          ]
        }
      ]
    },
    {
      "cell_type": "markdown",
      "source": [
        "# Working of list in Python\n",
        "\n",
        "Basically list underlying the array data structure where contiguous memory location happens.\n",
        "\n",
        "It means there is a pre-allocated extra space for future additions.\n",
        "\n",
        "index   =  0,   1,    2,      3,   .....\n",
        "\n",
        "values  =  2,  'p',  '1',  'True'  .....\n",
        "\n",
        "Advantages:\n",
        "- Random Access - easily get item in constant time\n",
        "- cache friendly - locality of reference\n",
        "- when we search for one data point it also store the reference of others if we have contiguous allocation.\n",
        "\n",
        "Disadvantages:\n",
        "- Insertion, Deletion, Search are slower because if any item added, deleted then we need to change the index position and move\n",
        "\n",
        "# How doe Dynamic size work...?\n",
        "\n",
        "- pre allocate some extra space\n",
        "- If it becomes full, do the following\n",
        "  1. Allocate a new space of larger size (multply by size of list * 2)\n",
        "  2. copy old space to new\n",
        "  3. Freeup the old space\n",
        "\n",
        "\n",
        "Explanation:\n",
        "\n",
        "list = []\n",
        "\n",
        "for i in range(1, 1001):\n",
        "\n",
        "  - l.append(i)\n",
        "\n",
        "\n",
        "Assumption :\n",
        "1. initially space for 10 items or allocated\n",
        "2. when a number is inserted at 11th index then block of '10' will be deallocated and then allocates double sized\n",
        "\n",
        "Time Complexity : O(1) # constant which is Amortized Time"
      ],
      "metadata": {
        "id": "-CfaG2KStMI_"
      }
    },
    {
      "cell_type": "markdown",
      "source": [
        "# Average or Mean of a list\n",
        "\n",
        "I/P : l = [10, 20, 30, 40]\n",
        "\n",
        "O/P : 25.0"
      ],
      "metadata": {
        "id": "JQFKNqgZwHEJ"
      }
    },
    {
      "cell_type": "code",
      "source": [
        "l = [10,20,30,40]\n",
        "def avg(l):\n",
        "  sum = 0\n",
        "  for i in l:\n",
        "    sum += i\n",
        "  n = len(l)\n",
        "  return sum/n\n",
        "\n",
        "print(avg(l))"
      ],
      "metadata": {
        "colab": {
          "base_uri": "https://localhost:8080/"
        },
        "id": "5kibScOesq6n",
        "outputId": "5e981dae-562c-4f78-d700-5d2152e33e6e"
      },
      "execution_count": null,
      "outputs": [
        {
          "output_type": "stream",
          "name": "stdout",
          "text": [
            "25.0\n"
          ]
        }
      ]
    },
    {
      "cell_type": "markdown",
      "source": [
        "# Seperate Even and Odd\n",
        "\n",
        "I/P : l = [10, 20, 11, 40, 15, 19]\n",
        "\n",
        "O/P :\n",
        "\n",
        "even = [10, 20, 40]\n",
        "\n",
        "odd = [11, 15, 19]\n",
        "\n"
      ],
      "metadata": {
        "id": "Q51mH5yNwhJA"
      }
    },
    {
      "cell_type": "code",
      "source": [
        "def getevenodd(l):\n",
        "  even = []\n",
        "  odd = []\n",
        "  for i in l:\n",
        "    if i%2 == 0:\n",
        "      even.append(i)\n",
        "    else:\n",
        "      odd.append(i)\n",
        "  return even, odd\n",
        "\n",
        "l = [10, 20, 11, 40, 15, 19]\n",
        "even, odd = getevenodd(l)\n",
        "print(even)\n",
        "print(odd)"
      ],
      "metadata": {
        "colab": {
          "base_uri": "https://localhost:8080/"
        },
        "id": "hR5anOXywfpC",
        "outputId": "d41ac912-49f1-4825-fbbb-8cf1ec272ae6"
      },
      "execution_count": null,
      "outputs": [
        {
          "output_type": "stream",
          "name": "stdout",
          "text": [
            "[10, 20, 40]\n",
            "[11, 15, 19]\n"
          ]
        }
      ]
    },
    {
      "cell_type": "markdown",
      "source": [
        "# Get Smaller Elements\n",
        "\n",
        "I/P : l = [10, 20, 11, 40, 15, 19], x = 21\n",
        "\n",
        "O/P : [10, 20, 11, 15, 19]"
      ],
      "metadata": {
        "id": "qnq1gDhkxO8Q"
      }
    },
    {
      "cell_type": "code",
      "source": [
        "def getSmaller(x):\n",
        "  res = []\n",
        "  for e in l:\n",
        "    if e < x:\n",
        "      res.append(e)\n",
        "  return res\n",
        "\n",
        "l = [10, 20, 11, 40, 15, 19]\n",
        "x = 21\n",
        "print(getSmaller(x))"
      ],
      "metadata": {
        "colab": {
          "base_uri": "https://localhost:8080/"
        },
        "id": "5t_SfGfPxLv2",
        "outputId": "e79aa9d5-8faf-4b2c-8a0a-5133ec3ac01d"
      },
      "execution_count": null,
      "outputs": [
        {
          "output_type": "stream",
          "name": "stdout",
          "text": [
            "[10, 20, 11, 15, 19]\n"
          ]
        }
      ]
    },
    {
      "cell_type": "markdown",
      "source": [
        "# Slicing (List, Tuple and String)"
      ],
      "metadata": {
        "id": "EMm9cPeCxuVW"
      }
    },
    {
      "cell_type": "code",
      "source": [
        "# Slicing\n",
        "\n",
        "l = [10, 20, 11, 40, 15, 19]\n",
        "print(l[0:5])\n",
        "print(l[0:5:2])\n",
        "print(l[:])\n",
        "print(l[3:])\n",
        "print(l[:3])\n",
        "print(l[::-1])   # Reverse"
      ],
      "metadata": {
        "colab": {
          "base_uri": "https://localhost:8080/"
        },
        "id": "RT0DWFlDxnlU",
        "outputId": "53f6130d-d574-4dcc-98af-b06925fcb49b"
      },
      "execution_count": null,
      "outputs": [
        {
          "output_type": "stream",
          "name": "stdout",
          "text": [
            "[10, 20, 11, 40, 15]\n",
            "[10, 11, 15]\n",
            "[10, 20, 11, 40, 15, 19]\n",
            "[40, 15, 19]\n",
            "[10, 20, 11]\n",
            "[19, 15, 40, 11, 20, 10]\n"
          ]
        }
      ]
    },
    {
      "cell_type": "code",
      "source": [
        "l = [10, 20, 11, 40, 15, 19]\n",
        "dup = l[:]\n",
        "print(dup)\n",
        "print(l)\n",
        "print(l in dup)\n",
        "print(dup is l)\n",
        "\n",
        "# False Because dup is separate in terms of memory allocation"
      ],
      "metadata": {
        "colab": {
          "base_uri": "https://localhost:8080/"
        },
        "id": "0AS8VRnpyD0P",
        "outputId": "fd69b053-b75f-4fcf-8d72-cd64886f1dbe"
      },
      "execution_count": null,
      "outputs": [
        {
          "output_type": "stream",
          "name": "stdout",
          "text": [
            "[10, 20, 11, 40, 15, 19]\n",
            "[10, 20, 11, 40, 15, 19]\n",
            "False\n",
            "False\n"
          ]
        }
      ]
    },
    {
      "cell_type": "code",
      "source": [
        "t1 = (10, 20, 30)\n",
        "t2 = (10, 20, 30)\n",
        "print(t1 is t2)\n",
        "print(t1 == t2)\n",
        "print(t1 in t2)"
      ],
      "metadata": {
        "colab": {
          "base_uri": "https://localhost:8080/"
        },
        "id": "jC5Mg8ykyLqk",
        "outputId": "63caccec-463a-4ced-8317-7e624ebd1022"
      },
      "execution_count": null,
      "outputs": [
        {
          "output_type": "stream",
          "name": "stdout",
          "text": [
            "False\n",
            "True\n",
            "False\n"
          ]
        }
      ]
    },
    {
      "cell_type": "markdown",
      "source": [
        "# Comprehensions\n",
        "\n",
        "List comprehension provides a shortcut syntax to create a list from another iterable.\n",
        "\n",
        "Iterable : A range function numbers are iterables\n",
        "\n",
        "syntax : list = [ item for item in collection if condition ]"
      ],
      "metadata": {
        "id": "ADMjPRAizHhr"
      }
    },
    {
      "cell_type": "code",
      "source": [
        "l = [ x for x in range(11)]\n",
        "print(l)\n",
        "\n",
        "l = [ i for i in range(11) if i%2 == 0]\n",
        "print(l)\n",
        "\n",
        "l = [ x for x in range(11) if x%2 == 1]\n",
        "print(l)"
      ],
      "metadata": {
        "colab": {
          "base_uri": "https://localhost:8080/"
        },
        "id": "IDdGxB0byjSM",
        "outputId": "34fd514f-93d3-4bb6-ffbe-6cc914be98d6"
      },
      "execution_count": null,
      "outputs": [
        {
          "output_type": "stream",
          "name": "stdout",
          "text": [
            "[0, 1, 2, 3, 4, 5, 6, 7, 8, 9, 10]\n",
            "[0, 2, 4, 6, 8, 10]\n",
            "[1, 3, 5, 7, 9]\n"
          ]
        }
      ]
    },
    {
      "cell_type": "code",
      "source": [
        "# Get Smaller\n",
        "\n",
        "def getSmaller(x):\n",
        "  return [e for e in l if e < x]\n",
        "\n",
        "l = [10, 20, 11, 40, 15, 19]\n",
        "x = 21\n",
        "print(getSmaller(x))"
      ],
      "metadata": {
        "colab": {
          "base_uri": "https://localhost:8080/"
        },
        "id": "6Vu3JPjtz7vE",
        "outputId": "b4e12226-5ea2-4eb7-b2d6-d827e593e8b6"
      },
      "execution_count": null,
      "outputs": [
        {
          "output_type": "stream",
          "name": "stdout",
          "text": [
            "[10, 20, 11, 15, 19]\n"
          ]
        }
      ]
    },
    {
      "cell_type": "code",
      "source": [
        "# Get Even Odd\n",
        "\n",
        "def getEvenOdd(l):\n",
        "  even = [i for i in l if i%2 == 0]\n",
        "  odd = [i for i in l if i%2 == 1]\n",
        "  return even, odd\n",
        "\n",
        "l = [10, 20, 11, 40, 15, 19]\n",
        "even, odd = getEvenOdd(l)\n",
        "print(even)\n",
        "print(odd)"
      ],
      "metadata": {
        "colab": {
          "base_uri": "https://localhost:8080/"
        },
        "id": "Cf5eaw010F6B",
        "outputId": "f67e64bf-20f0-4ca4-f302-df2737cc6208"
      },
      "execution_count": null,
      "outputs": [
        {
          "output_type": "stream",
          "name": "stdout",
          "text": [
            "[10, 20, 40]\n",
            "[11, 15, 19]\n"
          ]
        }
      ]
    },
    {
      "cell_type": "code",
      "source": [
        "s = \"ThrishankKuntimaddi\"\n",
        "l = [ch for ch in s if ch in 'aeiou']\n",
        "print(l)"
      ],
      "metadata": {
        "colab": {
          "base_uri": "https://localhost:8080/"
        },
        "id": "kqXzQP0n0Kwe",
        "outputId": "538fa098-86f6-40c6-d36d-c8ad183c319e"
      },
      "execution_count": null,
      "outputs": [
        {
          "output_type": "stream",
          "name": "stdout",
          "text": [
            "['i', 'a', 'u', 'i', 'a', 'i']\n"
          ]
        }
      ]
    },
    {
      "cell_type": "code",
      "source": [
        "s = ['Thrishank', 'Kuntimaddi', 'ThrishankKuntimaddi', 'Nani']\n",
        "l = [name for name in s if name.startswith(\"T\")]\n",
        "print(l)"
      ],
      "metadata": {
        "colab": {
          "base_uri": "https://localhost:8080/"
        },
        "id": "jkvzF8VP0YyW",
        "outputId": "c12c7f16-a9d9-45e4-cb1b-68249ce4fd20"
      },
      "execution_count": null,
      "outputs": [
        {
          "output_type": "stream",
          "name": "stdout",
          "text": [
            "['Thrishank', 'ThrishankKuntimaddi']\n"
          ]
        }
      ]
    },
    {
      "cell_type": "code",
      "source": [
        "l = [x*x for x in range(11)]\n",
        "print(l)"
      ],
      "metadata": {
        "colab": {
          "base_uri": "https://localhost:8080/"
        },
        "id": "00K2S-qt0kE4",
        "outputId": "f2840f1c-51fb-4405-bfe3-8cbdd78265d9"
      },
      "execution_count": null,
      "outputs": [
        {
          "output_type": "stream",
          "name": "stdout",
          "text": [
            "[0, 1, 4, 9, 16, 25, 36, 49, 64, 81, 100]\n"
          ]
        }
      ]
    },
    {
      "cell_type": "code",
      "source": [
        "s = ['Thrishank', 'Kuntimaddi', 'ThrishankKuntimaddi', 'Nani']\n",
        "l = [name.lower() for name in s if name.startswith(\"T\")]\n",
        "print(l)"
      ],
      "metadata": {
        "colab": {
          "base_uri": "https://localhost:8080/"
        },
        "id": "OcOLQRIa0nyP",
        "outputId": "61dc6c5b-9fd6-4e8d-c31d-8210f6049b59"
      },
      "execution_count": null,
      "outputs": [
        {
          "output_type": "stream",
          "name": "stdout",
          "text": [
            "['thrishank', 'thrishankkuntimaddi']\n"
          ]
        }
      ]
    },
    {
      "cell_type": "code",
      "source": [
        "# Set Comprehension\n",
        "l = {x for x in range(11)}\n",
        "print(l)"
      ],
      "metadata": {
        "colab": {
          "base_uri": "https://localhost:8080/"
        },
        "id": "-6cgaOAv0x8N",
        "outputId": "d876c002-f82e-46fe-aee2-9c8cd599dd82"
      },
      "execution_count": null,
      "outputs": [
        {
          "output_type": "stream",
          "name": "stdout",
          "text": [
            "{0, 1, 2, 3, 4, 5, 6, 7, 8, 9, 10}\n"
          ]
        }
      ]
    },
    {
      "cell_type": "code",
      "source": [
        "# Dictionary Comprehension\n",
        "l = {x:x*2 for x in range(11)}\n",
        "print(l)"
      ],
      "metadata": {
        "colab": {
          "base_uri": "https://localhost:8080/"
        },
        "id": "hszxysVM1NJE",
        "outputId": "65cc86ae-a640-47bd-e52f-b97586f61070"
      },
      "execution_count": null,
      "outputs": [
        {
          "output_type": "stream",
          "name": "stdout",
          "text": [
            "{0: 0, 1: 2, 2: 4, 3: 6, 4: 8, 5: 10, 6: 12, 7: 14, 8: 16, 9: 18, 10: 20}\n"
          ]
        }
      ]
    },
    {
      "cell_type": "code",
      "source": [
        "l1 = [10, 20, 30]\n",
        "l2 = ['a', 'b', 'c']\n",
        "\n",
        "d = dict(zip(l1, l2))\n",
        "print(d)"
      ],
      "metadata": {
        "colab": {
          "base_uri": "https://localhost:8080/"
        },
        "id": "77b8l-_C1R2p",
        "outputId": "5d00986c-aef4-4d68-a23f-5f68052fd707"
      },
      "execution_count": null,
      "outputs": [
        {
          "output_type": "stream",
          "name": "stdout",
          "text": [
            "{10: 'a', 20: 'b', 30: 'c'}\n"
          ]
        }
      ]
    },
    {
      "cell_type": "markdown",
      "source": [
        "# Largest Element in a List\n",
        "\n",
        "I/P : l = [10, 5, 20, 8]\n",
        "\n",
        "O/P : 20"
      ],
      "metadata": {
        "id": "uVAULdVU1j2k"
      }
    },
    {
      "cell_type": "code",
      "source": [
        "# Naive\n",
        "\n",
        "l = [10, 2, 5, 8, 20, 19]\n",
        "\n",
        "def getmax(l):\n",
        "  for x in l:\n",
        "    for y in l:\n",
        "      if y < x:\n",
        "        break\n",
        "    else:\n",
        "      return x\n",
        "  return None\n",
        "\n",
        "print(getmax(l))\n",
        "\n",
        "# Time Complexity : O(n^2)"
      ],
      "metadata": {
        "colab": {
          "base_uri": "https://localhost:8080/"
        },
        "id": "VM4rTMid1hbH",
        "outputId": "ed520e94-4dcf-4b5f-b363-fba343df3903"
      },
      "execution_count": null,
      "outputs": [
        {
          "output_type": "stream",
          "name": "stdout",
          "text": [
            "2\n"
          ]
        }
      ]
    },
    {
      "cell_type": "code",
      "source": [
        "# Efficient\n",
        "\n",
        "def getmax(l):\n",
        "  if not l:\n",
        "    return None\n",
        "  else:\n",
        "    res = l[0]\n",
        "    for i in range(1, len(l)):\n",
        "      if l[i] > res:\n",
        "        res = l[i]\n",
        "    return res\n",
        "\n",
        "print(getmax(l))\n",
        "\n",
        "# Time Complexity : O(n)"
      ],
      "metadata": {
        "colab": {
          "base_uri": "https://localhost:8080/"
        },
        "id": "-dEOLtUQ2BN5",
        "outputId": "2795ba23-fc9d-4048-e854-5ba598695ffe"
      },
      "execution_count": null,
      "outputs": [
        {
          "output_type": "stream",
          "name": "stdout",
          "text": [
            "20\n"
          ]
        }
      ]
    },
    {
      "cell_type": "markdown",
      "source": [
        "# Second Largest Element in a List\n",
        "\n",
        "I/P : l = [10, 20, 4, 5, 6, 1]\n",
        "\n",
        "O/P : 10"
      ],
      "metadata": {
        "id": "F-Pkj6Re2dwS"
      }
    },
    {
      "cell_type": "code",
      "source": [
        "def secondLargest(l):\n",
        "  if len(l) <= 1:\n",
        "    return None\n",
        "\n",
        "  lar = getMax(l)\n",
        "  slar = None\n",
        "\n",
        "  for x in l:\n",
        "    if x != lar:\n",
        "      if slar == None:\n",
        "        slar = x\n",
        "      else:\n",
        "        slar = max(slar,x)\n",
        "  return slar\n",
        "\n",
        "def getMax(l):\n",
        "  res = l[0]\n",
        "  for i in range(1, len(l)):\n",
        "    res = max(res, l[i])\n",
        "  return res\n",
        "\n",
        "\n",
        "l = [10, 20, 4, 5, 6, 1]\n",
        "print(secondLargest(l))\n",
        "\n",
        "# Time Complexity : Theta(n)"
      ],
      "metadata": {
        "colab": {
          "base_uri": "https://localhost:8080/"
        },
        "id": "VCRqBV0b2Rok",
        "outputId": "513364a2-9dae-4767-a853-8457e6c079e0"
      },
      "execution_count": null,
      "outputs": [
        {
          "output_type": "stream",
          "name": "stdout",
          "text": [
            "10\n"
          ]
        }
      ]
    },
    {
      "cell_type": "code",
      "source": [
        "# Efficient\n",
        "\n",
        "def secondLargest(l):\n",
        "  if len(l) <= 1:\n",
        "    return None\n",
        "  lar = l[0]\n",
        "  slar = None\n",
        "  for x in l[1:]:\n",
        "    if x > lar:\n",
        "      slar = lar\n",
        "      lar = x\n",
        "    elif x != lar:\n",
        "      if slar == None or slar < x:\n",
        "        slar = x\n",
        "  return slar\n",
        "\n",
        "l = [10, 20, 4, 5, 6, 1]\n",
        "print(secondLargest(l))\n",
        "\n",
        "# Time Complexity : Theta(n)"
      ],
      "metadata": {
        "colab": {
          "base_uri": "https://localhost:8080/"
        },
        "id": "1LSHUlMKG1BN",
        "outputId": "1103e068-7142-4493-9d79-fdf3deee6093"
      },
      "execution_count": null,
      "outputs": [
        {
          "output_type": "stream",
          "name": "stdout",
          "text": [
            "10\n"
          ]
        }
      ]
    },
    {
      "cell_type": "markdown",
      "source": [
        "# Check if a List is sorted\n",
        "\n",
        "I/P : l = [10, 20, 30]\n",
        "\n",
        "O/P : Yes"
      ],
      "metadata": {
        "id": "VyJNIqIGIL98"
      }
    },
    {
      "cell_type": "code",
      "source": [
        "# Naive\n",
        "\n",
        "def isSorted(l):\n",
        "  copy = sorted(l)\n",
        "  if copy == l:\n",
        "    return True\n",
        "  else:\n",
        "    return False\n",
        "\n",
        "l = [10, 20, 30]\n",
        "print(isSorted(l))\n",
        "\n",
        "l = [29, 24, 32]\n",
        "print(isSorted(l))"
      ],
      "metadata": {
        "colab": {
          "base_uri": "https://localhost:8080/"
        },
        "id": "D25_bs63IIRK",
        "outputId": "b070bb32-2f67-40af-d139-3c0841f736e1"
      },
      "execution_count": null,
      "outputs": [
        {
          "output_type": "stream",
          "name": "stdout",
          "text": [
            "True\n",
            "False\n"
          ]
        }
      ]
    },
    {
      "cell_type": "code",
      "source": [
        "# Efficient\n",
        "\n",
        "def ifSort(l):\n",
        "  i = 1\n",
        "  while i < len(l):\n",
        "    if l[i] < l[i-1]:\n",
        "      return False\n",
        "    i += 1\n",
        "  return True\n",
        "\n",
        "l = [10, 20, 30]\n",
        "print(ifSort(l))\n",
        "\n",
        "l = [29, 24, 32]\n",
        "print(ifSort(l))\n",
        "\n",
        "# Time Complexity : O(n)"
      ],
      "metadata": {
        "colab": {
          "base_uri": "https://localhost:8080/"
        },
        "id": "-QR-rUL9RMtq",
        "outputId": "1f511874-1283-47d3-9bfb-bc9f58d82457"
      },
      "execution_count": null,
      "outputs": [
        {
          "output_type": "stream",
          "name": "stdout",
          "text": [
            "True\n",
            "False\n"
          ]
        }
      ]
    },
    {
      "cell_type": "markdown",
      "source": [
        "# Reverse of a List\n",
        "\n",
        "I/P : l = [10, 20, 30, 40]\n",
        "\n",
        "O/P : [40, 30, 20, 10]"
      ],
      "metadata": {
        "id": "CAjXRleeR5Pz"
      }
    },
    {
      "cell_type": "code",
      "source": [
        "# Method 1\n",
        "\n",
        "l = [10, 20, 30]\n",
        "l.reverse()\n",
        "print(l)"
      ],
      "metadata": {
        "colab": {
          "base_uri": "https://localhost:8080/"
        },
        "id": "bnEMlZCFRbOv",
        "outputId": "e2f43598-6526-4d58-89ad-2a431cc9640b"
      },
      "execution_count": null,
      "outputs": [
        {
          "output_type": "stream",
          "name": "stdout",
          "text": [
            "[30, 20, 10]\n"
          ]
        }
      ]
    },
    {
      "cell_type": "code",
      "source": [
        "# Method 2\n",
        "\n",
        "l = [10, 20, 30]\n",
        "print(l[::-1])"
      ],
      "metadata": {
        "colab": {
          "base_uri": "https://localhost:8080/"
        },
        "id": "4GG8Z82XSOOy",
        "outputId": "e2908ac9-ec5d-456d-9712-c0d516031e6f"
      },
      "execution_count": null,
      "outputs": [
        {
          "output_type": "stream",
          "name": "stdout",
          "text": [
            "[30, 20, 10]\n"
          ]
        }
      ]
    },
    {
      "cell_type": "code",
      "source": [
        "# Method 3\n",
        "\n",
        "l = [10, 20, 30]\n",
        "res = []\n",
        "for i in range(len(l)-1, -1, -1):\n",
        "  res.append(l[i])\n",
        "print(res)"
      ],
      "metadata": {
        "colab": {
          "base_uri": "https://localhost:8080/"
        },
        "id": "EFYI7iMCSWAi",
        "outputId": "2bcce82d-aaea-42bc-d5b6-10a7187c6a83"
      },
      "execution_count": null,
      "outputs": [
        {
          "output_type": "stream",
          "name": "stdout",
          "text": [
            "[30, 20, 10]\n"
          ]
        }
      ]
    },
    {
      "cell_type": "code",
      "source": [
        "# Method 4\n",
        "\n",
        "l = [10, 20, 30]\n",
        "res = list(reversed(l))\n",
        "print(res)"
      ],
      "metadata": {
        "colab": {
          "base_uri": "https://localhost:8080/"
        },
        "id": "6ZJEg51nSYIm",
        "outputId": "9696f379-cf8a-407a-bf2c-12120ef1524a"
      },
      "execution_count": null,
      "outputs": [
        {
          "output_type": "stream",
          "name": "stdout",
          "text": [
            "[30, 20, 10]\n"
          ]
        }
      ]
    },
    {
      "cell_type": "code",
      "source": [
        "# Reduce half Time\n",
        "\n",
        "def reverse(l):\n",
        "  s = 0\n",
        "  e = len(l) - 1\n",
        "  while s < e:\n",
        "    l[s], l[e] = l[e], l[s]\n",
        "    s += 1\n",
        "    e -= 1\n",
        "\n",
        "l = [10, 20, 30, 40, 50]\n",
        "reverse(l)\n",
        "print(l)\n",
        "\n",
        "# Time Complexity : O(n)"
      ],
      "metadata": {
        "colab": {
          "base_uri": "https://localhost:8080/"
        },
        "id": "aTEpPddKSnrl",
        "outputId": "a9742d6c-a94e-4f92-e52a-62d023d4353c"
      },
      "execution_count": null,
      "outputs": [
        {
          "output_type": "stream",
          "name": "stdout",
          "text": [
            "[50, 40, 30, 20, 10]\n"
          ]
        }
      ]
    },
    {
      "cell_type": "markdown",
      "source": [
        "# Remove Duplicates from a sorted Array list\n",
        "\n",
        "I/P : arr[] = {10, 20, 20, 30, 30, 30, 30}\n",
        "\n",
        "      size = 7\n",
        "\n",
        "O/P : arr[] = {10, 20, 30, _, _, _, _ }\n",
        "\n",
        "      size = 3"
      ],
      "metadata": {
        "id": "ZO7RvCVpTgzW"
      }
    },
    {
      "cell_type": "code",
      "source": [
        "# Naive\n",
        "\n",
        "def remdup(arr, n):\n",
        "  temp = [0] * n\n",
        "  temp[0] = arr[0]\n",
        "  res = 1\n",
        "  for i in range(1, n):\n",
        "    if temp[res-1] != arr[i]:\n",
        "      temp[res] = arr[i]\n",
        "      res += 1\n",
        "  return res, temp\n",
        "\n",
        "arr = [10, 20, 20, 30, 30, 30, 30]\n",
        "n = len(arr)\n",
        "no, temp = remdup(arr, n)\n",
        "print(temp)\n",
        "print(\"size : \", no)\n",
        "\n",
        "# Time Complexity : O(n)\n",
        "# Auxiliary Space : O(n)"
      ],
      "metadata": {
        "colab": {
          "base_uri": "https://localhost:8080/"
        },
        "id": "D0W1JfTRTDSa",
        "outputId": "b80d5aa2-eddd-4280-821b-bde06e25f0c0"
      },
      "execution_count": null,
      "outputs": [
        {
          "output_type": "stream",
          "name": "stdout",
          "text": [
            "[10, 20, 30, 0, 0, 0, 0]\n",
            "size :  3\n"
          ]
        }
      ]
    },
    {
      "cell_type": "code",
      "source": [
        "# Efficient\n",
        "\n",
        "def remdup(arr, n):\n",
        "  arr.sort()\n",
        "  res = 1\n",
        "  for i in range(1, n):\n",
        "    if arr[i] != arr[res-1]:\n",
        "      arr[res] = arr[i]\n",
        "      res += 1\n",
        "  return res\n",
        "\n",
        "l = [10, 20, 20, 30, 40, 30, 30]\n",
        "n = len(l)\n",
        "print(remdup(l, n))\n",
        "\n",
        "# Time Complexity : O(n)"
      ],
      "metadata": {
        "colab": {
          "base_uri": "https://localhost:8080/"
        },
        "id": "wpt4SzRPUiL-",
        "outputId": "ed6f1a4e-e9f6-49dc-c040-a9da61b93fc7"
      },
      "execution_count": null,
      "outputs": [
        {
          "output_type": "stream",
          "name": "stdout",
          "text": [
            "4\n"
          ]
        }
      ]
    },
    {
      "cell_type": "markdown",
      "source": [
        "# Left Rotate (Counter Clockwise) by One\n",
        "\n",
        "I/P : l = [10, 20, 30, 40]\n",
        "\n",
        "O/P : [20, 30, 40, 10]"
      ],
      "metadata": {
        "id": "koucJpUvW2No"
      }
    },
    {
      "cell_type": "code",
      "source": [
        "# Method 1\n",
        "\n",
        "l = [10, 20, 30, 40]\n",
        "l = l[1:] + l[0:1]\n",
        "print(l)"
      ],
      "metadata": {
        "colab": {
          "base_uri": "https://localhost:8080/"
        },
        "id": "S5jSuxKlVDLH",
        "outputId": "352557ef-1d02-4813-861c-3087621691b2"
      },
      "execution_count": null,
      "outputs": [
        {
          "output_type": "stream",
          "name": "stdout",
          "text": [
            "[20, 30, 40, 10]\n"
          ]
        }
      ]
    },
    {
      "cell_type": "code",
      "source": [
        "# Method 2\n",
        "\n",
        "l = [10, 20, 30, 40]\n",
        "l.append(l.pop(0))\n",
        "print(l)"
      ],
      "metadata": {
        "colab": {
          "base_uri": "https://localhost:8080/"
        },
        "id": "t4BF7HFrXOPi",
        "outputId": "c21033a8-88c2-4d63-d36a-392621329580"
      },
      "execution_count": null,
      "outputs": [
        {
          "output_type": "stream",
          "name": "stdout",
          "text": [
            "[20, 30, 40, 10]\n"
          ]
        }
      ]
    },
    {
      "cell_type": "code",
      "source": [
        "# Own Logic\n",
        "\n",
        "def rotateByOne(l):\n",
        "  n = len(l)\n",
        "  x = l[0]\n",
        "  for i in range(1, n):\n",
        "    l[i-1] = l[i]\n",
        "  l[n-1] = x\n",
        "\n",
        "l = [10, 20, 30, 40, 50]\n",
        "rotateByOne(l)\n",
        "print(l)"
      ],
      "metadata": {
        "id": "k1O9SIE_XWLy"
      },
      "execution_count": null,
      "outputs": []
    },
    {
      "cell_type": "code",
      "source": [
        "# Chicken Leg\n",
        "\n",
        "def farn(T, cases):\n",
        "\n",
        "    for i in range(T):\n",
        "        X, Y, Z = cases[i]\n",
        "        chickens = (Z % X == 0)\n",
        "        ducks = (Z % Y == 0)\n",
        "\n",
        "        if chickens and ducks:\n",
        "            print(\"Any\")\n",
        "        elif chickens:\n",
        "            print(\"Chicken\")\n",
        "        elif ducks:\n",
        "            print(\"Duck\")\n",
        "        else:\n",
        "            print(\"Null\")\n",
        "\n",
        "T = int(input(\"Cases : \"))\n",
        "stack = []\n",
        "\n",
        "for i in range(T):\n",
        "    X, Y, Z = map(int, input().strip().split())\n",
        "    stack.append([X, Y, Z])\n",
        "\n",
        "print(stack)\n",
        "\n",
        "results = farn(T, stack)\n"
      ],
      "metadata": {
        "id": "EOT8zo0lXnsu",
        "colab": {
          "base_uri": "https://localhost:8080/"
        },
        "outputId": "0be5b751-a401-4823-ac8d-763114e7ee83"
      },
      "execution_count": null,
      "outputs": [
        {
          "output_type": "stream",
          "name": "stdout",
          "text": [
            "Cases : 3\n",
            "2 3 6 \n",
            "4 7 14 \n",
            "8 12 16 \n",
            "[[2, 3, 6], [4, 7, 14], [8, 12, 16]]\n",
            "Any\n",
            "Duck\n",
            "Chicken\n"
          ]
        }
      ]
    },
    {
      "cell_type": "code",
      "source": [],
      "metadata": {
        "id": "aJZdBxvodntA"
      },
      "execution_count": null,
      "outputs": []
    }
  ]
}